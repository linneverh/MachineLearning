{
  "cells": [
    {
      "cell_type": "markdown",
      "metadata": {
        "id": "view-in-github",
        "colab_type": "text"
      },
      "source": [
        "<a href=\"https://colab.research.google.com/github/michalis0/MGT-502-Data-Science-and-Machine-Learning/blob/main/Assignment_1_2024_updated.ipynb\" target=\"_parent\"><img src=\"https://colab.research.google.com/assets/colab-badge.svg\" alt=\"Open In Colab\"/></a>"
      ]
    },
    {
      "cell_type": "markdown",
      "metadata": {
        "id": "yrXLb3bx4cfD"
      },
      "source": [
        "#DSML investigation:\n",
        "### You are part of the Suisse Impossible Mission Force, or SIMF for short. You need to uncover a rogue agent that is trying to steal sensitive information.\n",
        "\n",
        "### Your mission, should you choose to accept it, is to find that agent before any classified information gets stolen. Good luck!\n"
      ]
    },
    {
      "cell_type": "markdown",
      "metadata": {
        "id": "4bVDcyJHHFjh"
      },
      "source": [
        "# Assignment part one\n",
        "\n",
        "Airport security confiscated a laptop of a spy, which was later given to you. The laptop contains some documents that might be useful in the investigation process. You retrieve those documents and want to analyse them. Our intelligence shows that the person that we are looking for has visited the USA between Sept 2019 to Oct 2020. He is currently working undercover.\n",
        "\n",
        "\n",
        "##Getting to know our data\n",
        "\n",
        "We have retrieved from the laptop the following file:\n",
        "- A list of suspects\n",
        "- The flight records of these potential suspects\n",
        "\n"
      ]
    },
    {
      "cell_type": "code",
      "execution_count": null,
      "metadata": {
        "id": "abwjDTZRHvzn"
      },
      "outputs": [],
      "source": [
        "import pandas as pd\n",
        "import numpy as np\n",
        "import matplotlib.pyplot as plt\n",
        "userRecords = pd.read_csv(\"https://raw.githubusercontent.com/michalis0/MGT-502-Data-Science-and-Machine-Learning/main/data/userRecords.csv\")\n",
        "travelRecords = pd.read_csv(\"https://raw.githubusercontent.com/michalis0/MGT-502-Data-Science-and-Machine-Learning/main/data/flightRecords.csv\")"
      ]
    },
    {
      "cell_type": "markdown",
      "metadata": {
        "id": "Fl_HmWwtIBDJ"
      },
      "source": [
        "#### Shape of the data\n",
        "\n",
        "Let's first check how many rows and columns (features) are in the user records"
      ]
    },
    {
      "cell_type": "code",
      "execution_count": null,
      "metadata": {
        "id": "uICj1b0GIEKG"
      },
      "outputs": [],
      "source": [
        "#Your code here"
      ]
    },
    {
      "cell_type": "markdown",
      "source": [
        "**Q1. How many suspects are there in the original dataset?**"
      ],
      "metadata": {
        "id": "2XIhLUBJDmfq"
      }
    },
    {
      "cell_type": "markdown",
      "metadata": {
        "id": "JT6l8O-2ISqh"
      },
      "source": [
        "\n",
        "#### Check out the first few rows\n",
        "To protect innocent people, the name of the suspects have been censored, those will be revealed once number of potential suspects decreases.\n"
      ]
    },
    {
      "cell_type": "code",
      "execution_count": null,
      "metadata": {
        "id": "xce5aB8SIOeu"
      },
      "outputs": [],
      "source": [
        "#Your code here"
      ]
    },
    {
      "cell_type": "markdown",
      "metadata": {
        "id": "3TgOsG-pI8Yo"
      },
      "source": [
        "#### List the column/feature names"
      ]
    },
    {
      "cell_type": "code",
      "execution_count": null,
      "metadata": {
        "id": "KPRr2ogtI-3B"
      },
      "outputs": [],
      "source": [
        "#Your code here"
      ]
    },
    {
      "cell_type": "markdown",
      "metadata": {
        "id": "e1XYn9tvJHbL"
      },
      "source": [
        "#### Duplicates\n",
        "You can check if there are duplicates in the dataset."
      ]
    },
    {
      "cell_type": "code",
      "execution_count": null,
      "metadata": {
        "id": "Ve6cJ5hbJIrQ"
      },
      "outputs": [],
      "source": [
        "#Your code here"
      ]
    },
    {
      "cell_type": "markdown",
      "source": [
        "**Q2. Are there any duplicate values?**"
      ],
      "metadata": {
        "id": "qj3ec2_dD7OZ"
      }
    },
    {
      "cell_type": "markdown",
      "source": [
        "**Q3. How many duplicate values are there?**\n",
        "\n",
        "(not rows, but values, for instance: there are 2 duplicate values in the following list: '1 ,2, 1, 3, 3, 4, 5' - 1 and 3)."
      ],
      "metadata": {
        "id": "LvIVdCfzEE64"
      }
    },
    {
      "cell_type": "markdown",
      "metadata": {
        "id": "tebuO3lxJP-_"
      },
      "source": [
        "Show the duplicated rows if any:"
      ]
    },
    {
      "cell_type": "code",
      "execution_count": null,
      "metadata": {
        "id": "5UPbuQn5JQnQ"
      },
      "outputs": [],
      "source": [
        "#Your code here"
      ]
    },
    {
      "cell_type": "markdown",
      "metadata": {
        "id": "AdTka1hDgpUB"
      },
      "source": [
        "Drop the duplicate entries if any"
      ]
    },
    {
      "cell_type": "code",
      "execution_count": null,
      "metadata": {
        "id": "Jp9ndUSZgtSj"
      },
      "outputs": [],
      "source": [
        "#Your code here"
      ]
    },
    {
      "cell_type": "markdown",
      "metadata": {
        "id": "pLJGJqwPT8B9"
      },
      "source": [
        "## Spies often use false identities with fabricated data.\n",
        "\n",
        "####This means that if some coincidences appear a statistically unusual amount of times, the data may be fabricated.\n",
        "\n",
        "In this part we are going to verify if there are birthdates that have been reused an unusual amount of times."
      ]
    },
    {
      "cell_type": "markdown",
      "metadata": {
        "id": "Qm2RR5j8Ky-t"
      },
      "source": [
        "Lets first ensure that the birthday column has the correct format:\n"
      ]
    },
    {
      "cell_type": "code",
      "execution_count": null,
      "metadata": {
        "id": "KJ1-Bk2XULlt"
      },
      "outputs": [],
      "source": [
        "#Check the data type of each feature\n",
        "#Your code here"
      ]
    },
    {
      "cell_type": "markdown",
      "metadata": {
        "id": "m1Bf_f-9qYTa"
      },
      "source": [
        "Convert the culumn \"birthday\" to datetime if necessary"
      ]
    },
    {
      "cell_type": "code",
      "execution_count": null,
      "metadata": {
        "id": "3hmp9zVZK8fY"
      },
      "outputs": [],
      "source": [
        "#Your code here"
      ]
    },
    {
      "cell_type": "markdown",
      "metadata": {
        "id": "ZtNDR-qOzFfQ"
      },
      "source": [
        "Find the list of birthdays that are duplicated/reused in the dataset"
      ]
    },
    {
      "cell_type": "code",
      "execution_count": null,
      "metadata": {
        "id": "R7xDb_JPyD0x"
      },
      "outputs": [],
      "source": [
        "#Your code here"
      ]
    },
    {
      "cell_type": "markdown",
      "metadata": {
        "id": "FdIP5xyv2Qfs"
      },
      "source": [
        "Let's count how many people have their birthday on the same day among the duplicated birthdays."
      ]
    },
    {
      "cell_type": "code",
      "execution_count": null,
      "metadata": {
        "id": "JDXzbAGPzVXy"
      },
      "outputs": [],
      "source": [
        "#Your code here"
      ]
    },
    {
      "cell_type": "markdown",
      "source": [
        "**Q4. What is the most common birthday in the dataset?**"
      ],
      "metadata": {
        "id": "RVtdeKq7E4Bl"
      }
    },
    {
      "cell_type": "markdown",
      "source": [
        "**Q5. How many users have their birthdays on that day (the most common birthday)?**"
      ],
      "metadata": {
        "id": "PrP661RxFBt2"
      }
    },
    {
      "cell_type": "markdown",
      "metadata": {
        "id": "8hVJ7zM4RZk4"
      },
      "source": [
        "We can consider that there is no suspicious discrepancy through birthdays.\n"
      ]
    },
    {
      "cell_type": "markdown",
      "metadata": {
        "id": "-Akjuv9hBsPg"
      },
      "source": [
        "##We have reasons to believe that the suspect works very thoroughly, so he would make sure that the fabricated data about his identity is complete in order for his operation to run smoothly.\n",
        "###Therefore, we can exclude the people with incomplete information from the list of potential suspects."
      ]
    },
    {
      "cell_type": "markdown",
      "metadata": {
        "id": "OH0Rp5xb3OH9"
      },
      "source": [
        "You can call `isnull()` and `sum()` to get a count of how many null values are there in each column."
      ]
    },
    {
      "cell_type": "code",
      "execution_count": null,
      "metadata": {
        "id": "27y9FBJG3MuR"
      },
      "outputs": [],
      "source": [
        "#Your code here"
      ]
    },
    {
      "cell_type": "markdown",
      "metadata": {
        "id": "KkWJBx21Cq41"
      },
      "source": [
        "## Linking the user records to the flight records\n",
        "\n",
        "We will now proceed to identify the users who were in the USA from Sept 1st, 2019 to Oct 31st, 2020.\n",
        "\n",
        "We will combine the flight records with the user records in order to ensure that users who have been unsuspected in the previous step are not considered"
      ]
    },
    {
      "cell_type": "code",
      "execution_count": null,
      "metadata": {
        "id": "EL7JbTKQCqUR"
      },
      "outputs": [],
      "source": [
        "#check the dataset with user data"
      ]
    },
    {
      "cell_type": "code",
      "execution_count": null,
      "metadata": {
        "id": "C8XXKKWVGa5_"
      },
      "outputs": [],
      "source": [
        "#check the dataset with the flight records"
      ]
    },
    {
      "cell_type": "markdown",
      "metadata": {
        "id": "Mp1SB0TPKoKM"
      },
      "source": [
        "[Merging](https://pandas.pydata.org/docs/user_guide/merging.html) the two datasets:\n",
        "\n",
        "*Hint: Use the above questions to identify on what feature to merge the datasets*\n",
        "The result should contain the features flightName, Departure, Arrival,  Date, UserID, first_name, last_name, etc..."
      ]
    },
    {
      "cell_type": "code",
      "execution_count": null,
      "metadata": {
        "id": "SJbpo03uHBcW"
      },
      "outputs": [],
      "source": [
        "#Your code here"
      ]
    },
    {
      "cell_type": "markdown",
      "metadata": {
        "id": "wmVg_OcqCzPe"
      },
      "source": [
        "Let's now identify the users who has travelled to the United States (US) between the 1st of september 2019 and the 31st of october 2020\n",
        "\n",
        "*Note that the travel date is not in datetime format*"
      ]
    },
    {
      "cell_type": "code",
      "execution_count": null,
      "metadata": {
        "id": "1qFGYqCsCynF"
      },
      "outputs": [],
      "source": [
        "#Your code here"
      ]
    },
    {
      "cell_type": "markdown",
      "source": [
        "**Q6. How many suspects travelled to the US between the 1st of September 2019 and the 31st of October 2020?**"
      ],
      "metadata": {
        "id": "MoLO1Mz5IIZT"
      }
    },
    {
      "cell_type": "markdown",
      "metadata": {
        "id": "6nh27RK8cMJZ"
      },
      "source": [
        "## [Data visualisation ](https://pandas.pydata.org/docs/user_guide/visualization.html)\n",
        "\n",
        " Suisse Impossible Mission Force is happy with the result and would like to have some visual aid to make a profile of the potential suspects"
      ]
    },
    {
      "cell_type": "markdown",
      "metadata": {
        "id": "5mX8w6H7c6ro"
      },
      "source": [
        "Let's first make a pie chart to visualise the different employments held from the current suspects:"
      ]
    },
    {
      "cell_type": "code",
      "execution_count": null,
      "metadata": {
        "id": "5Muyk-xMc7h6"
      },
      "outputs": [],
      "source": [
        "#Your code here"
      ]
    },
    {
      "cell_type": "markdown",
      "metadata": {
        "id": "WBUy4QHHiWuO"
      },
      "source": [
        "## Journey length\n",
        "\n",
        "Suisse Impossible Mission Force believes the rogue agent is an outlier from his declared category based on the days spent there compared to others.\n",
        "\n",
        "We can use boxplots to identify outliers per employment category."
      ]
    },
    {
      "cell_type": "markdown",
      "metadata": {
        "id": "uiKyLYwHcCJ-"
      },
      "source": [
        "Let's first make two tables, one with the date of arrival and one with the date of departure. You can reuse your previous dataset and identify the arrival and departure date using the destination and departure features on the dataset. Note that the arrival and the departure dates should fall between the time period when the suspect is belived to have visited the US - between Sept 2019 to Oct 2020."
      ]
    },
    {
      "cell_type": "code",
      "execution_count": null,
      "metadata": {
        "id": "pZvGcHwbv0e7"
      },
      "outputs": [],
      "source": [
        "#For this step we will need the information not only about the fights TO THE US, but also about the flights taken FROM THE US"
      ]
    },
    {
      "cell_type": "markdown",
      "metadata": {
        "id": "_gXDZXu0LUa5"
      },
      "source": [
        "We can keep on both these tables the user ID, employment, and departure date / arrival date."
      ]
    },
    {
      "cell_type": "code",
      "execution_count": null,
      "metadata": {
        "id": "0m_fOp5LLjnq"
      },
      "outputs": [],
      "source": [
        "#Your code here"
      ]
    },
    {
      "cell_type": "markdown",
      "metadata": {
        "id": "zJR7PDWZL3oO"
      },
      "source": [
        "We can now join the two tables on user ID"
      ]
    },
    {
      "cell_type": "code",
      "execution_count": null,
      "metadata": {
        "id": "9INyxNK9L3aC"
      },
      "outputs": [],
      "source": [
        "#Your code here"
      ]
    },
    {
      "cell_type": "markdown",
      "source": [
        "**Q7. Which of the following users are still suspects, when we take into consideration botht the date of the arrival and the date of the departure?**"
      ],
      "metadata": {
        "id": "3KHCm2j5JQGb"
      }
    },
    {
      "cell_type": "markdown",
      "metadata": {
        "id": "NK1vMch6MhsP"
      },
      "source": [
        "We can now create a new feature called journey_length representing the  departure date - arrival date\n",
        "\n",
        "*Sidenote: if you get negative journey length, what would be your explanation to that?*\n"
      ]
    },
    {
      "cell_type": "code",
      "execution_count": null,
      "metadata": {
        "id": "6TFymz0VMxaU"
      },
      "outputs": [],
      "source": [
        "#Your code here"
      ]
    },
    {
      "cell_type": "markdown",
      "metadata": {
        "id": "Nnlu7m3kPBEV"
      },
      "source": [
        "We can now create the boxplots"
      ]
    },
    {
      "cell_type": "code",
      "execution_count": null,
      "metadata": {
        "id": "nH9H5M18PDrm"
      },
      "outputs": [],
      "source": [
        "#Your code here"
      ]
    },
    {
      "cell_type": "markdown",
      "source": [
        "**Q8. Which profession has the most staggering outlier?**\n",
        "(Meaning that the outlying value is the farthest away from the corresponding boxplot.)"
      ],
      "metadata": {
        "id": "SM4NCHMMJz8K"
      }
    },
    {
      "cell_type": "markdown",
      "metadata": {
        "id": "BqQD6lffRdNW"
      },
      "source": [
        "##SIMF is satisfied with your work but believes the current data is inconclusive.\n",
        "\n",
        "Your investigation will continue when more intelligence comes in..."
      ]
    }
  ],
  "metadata": {
    "colab": {
      "provenance": [],
      "include_colab_link": true
    },
    "kernelspec": {
      "display_name": "Python 3 (ipykernel)",
      "language": "python",
      "name": "python3"
    },
    "language_info": {
      "codemirror_mode": {
        "name": "ipython",
        "version": 3
      },
      "file_extension": ".py",
      "mimetype": "text/x-python",
      "name": "python",
      "nbconvert_exporter": "python",
      "pygments_lexer": "ipython3",
      "version": "3.9.12"
    }
  },
  "nbformat": 4,
  "nbformat_minor": 0
}
