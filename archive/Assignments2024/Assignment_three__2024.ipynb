{
  "cells": [
    {
      "cell_type": "markdown",
      "metadata": {
        "id": "view-in-github",
        "colab_type": "text"
      },
      "source": [
        "<a href=\"https://colab.research.google.com/github/michalis0/MGT-502-Data-Science-and-Machine-Learning/blob/main/Assignments2024/Assignment_three__2024.ipynb\" target=\"_parent\"><img src=\"https://colab.research.google.com/assets/colab-badge.svg\" alt=\"Open In Colab\"/></a>"
      ]
    },
    {
      "cell_type": "markdown",
      "metadata": {
        "id": "kZu-7QbP9muh"
      },
      "source": [
        "DSML investigation:\n",
        "\n",
        "You are part of the Suisse Impossible Mission Force, or SIMF for short. You need to uncover a rogue agent that is trying to steal sensitive information.\n",
        "\n",
        "Your mission, should you choose to accept it, is to find that agent before stealing any classified information. Good luck!"
      ]
    },
    {
      "cell_type": "markdown",
      "metadata": {
        "id": "DyL7WNdV9sWV"
      },
      "source": [
        "# Assignment part three\n",
        "### Due 26.03.2024\n",
        "\n",
        "We received new intelligence informing us that the rogue agent has a position with great responsibility.\n",
        "Use the table \"HR_Analytics.csv\" to create a classifier model that predicts the job role of a person. Use this model to predict the roles of the table of suspects \"suspect_HR_data.csv\".\n",
        "\n",
        "Retain only the list of suspects whose role indicates high responsibility.\n",
        "\n",
        "\n",
        "## Getting to know our data\n",
        "\n",
        "- BusinessTravel: The frequency of business travel for the employee. (Categorical)\n",
        "- DailyRate: The daily rate of pay for the employee. (Numerical)\n",
        "- DistanceFromHome: The distance from home in miles for the employee. (Numerical)\n",
        "- Education: The level of education achieved by the employee. (Categorical)\n",
        "- EmployeeCount: The total number of employees in the organization. (Numerical)\n",
        "- EmployeeNumber: A unique identifier for each employee profile. (Numerical)\n",
        "- EnvironmentSatisfaction: The employee's satisfaction with their work environment. (Categorical)\n",
        "- Gender: The gender of the employee. (Categorical)\n",
        "- HourlyRate: The hourly rate of pay for the employee. (Numerical)\n",
        "- JobInvolvement: The level of involvement required for the employee's job. (Categorical)\n",
        "- JobLevel: The job level of the employee. (Categorical)\n",
        "- JobSatisfaction: The employee's satisfaction with their job. (Categorical)\n",
        "- MonthlyIncome: The monthly income of the employee. (Numerical)\n",
        "- MonthlyRate: The monthly rate of pay for the employee. (Numerical)\n",
        "- NumCompaniesWorked: The number of companies the employee has worked for. (Numerical)\n",
        "- Over18: Whether or not the employee is over 18. (Categorical)\n",
        "- OverTime: Whether or not the employee works overtime. (Categorical)\n",
        "- PercentSalaryHike: The percentage of salary hike for the employee. (Numerical)\n",
        "- PerformanceRating: The performance rating of the employee. (Categorical)\n",
        "- RelationshipSatisfaction: The employee's satisfaction with their relationships. (Categorical)\n",
        "- StandardHours: The standard hours of work for the employee. (Numerical)\n",
        "- StockOptionLevel: The stock option level of the employee. (Numerical)\n",
        "- TotalWorkingYears: The total number of years the employee has worked. (Numerical)\n",
        "- TrainingTimesLastYear: The number of times the employee was taken for training in the last year. (Numerical)\n",
        "- WorkLifeBalance: The employee's perception of their work-life balance. (Categorical)\n",
        "- YearsAtCompany: The number of years the employee has been with the company. (Numerical)\n",
        "- YearsInCurrentRole: The number of years the employee has been in their current role. (Numerical)\n",
        "- YearsSinceLastPromotion: The number of years since the employee's last promotion. (Numerical)\n",
        "- YearsWithCurrManager: The number of years the employee has been with their current manager. (Numerical)"
      ]
    },
    {
      "cell_type": "code",
      "execution_count": 1,
      "metadata": {
        "id": "XHhI95r5-tyD"
      },
      "outputs": [],
      "source": [
        "# Import required packages\n",
        "import  numpy as np\n",
        "import pandas as pd\n",
        "import matplotlib.pyplot as plt\n",
        "from sklearn.linear_model import LogisticRegression, LogisticRegressionCV\n",
        "from sklearn.tree import DecisionTreeClassifier\n",
        "from sklearn.neighbors import KNeighborsClassifier\n",
        "from sklearn.preprocessing import OneHotEncoder, LabelEncoder, MinMaxScaler\n",
        "from sklearn.compose import ColumnTransformer\n",
        "from sklearn.model_selection import train_test_split\n",
        "from sklearn.metrics import accuracy_score\n",
        "from sklearn.model_selection import GridSearchCV\n",
        "from sklearn.metrics import confusion_matrix, classification_report\n",
        "import seaborn as sns\n",
        "from sklearn.ensemble import RandomForestClassifier\n",
        "\n",
        "\n",
        "from sklearn.model_selection import train_test_split, GridSearchCV\n",
        "from sklearn.metrics import confusion_matrix, accuracy_score, precision_score, recall_score, f1_score\n",
        "%matplotlib inline\n",
        "\n",
        "df = pd.read_csv(\"https://raw.githubusercontent.com/michalis0/DataScience_and_MachineLearning/master/Assignements/Part%203/data/HR_Analytics.csv\", index_col='Unnamed: 0')\n",
        "suspects = pd.read_csv(\"https://raw.githubusercontent.com/michalis0/DataScience_and_MachineLearning/master/Assignements/Part%203/data/suspects.csv\", index_col='Unnamed: 0')\n"
      ]
    },
    {
      "cell_type": "markdown",
      "metadata": {
        "id": "mg11L0cJfVM-"
      },
      "source": [
        "## 1. Check the data"
      ]
    },
    {
      "cell_type": "markdown",
      "source": [
        "Display the first rows of the datasets at hand. Display the list of columns they have."
      ],
      "metadata": {
        "id": "IJjR8ESu6x-Q"
      }
    },
    {
      "cell_type": "code",
      "source": [
        "# Your code here"
      ],
      "metadata": {
        "id": "o1x8qBfVy89n"
      },
      "execution_count": 2,
      "outputs": []
    },
    {
      "cell_type": "code",
      "source": [
        "#Same steps for the suspects dataset"
      ],
      "metadata": {
        "id": "uLN7TLb267n6"
      },
      "execution_count": 3,
      "outputs": []
    },
    {
      "cell_type": "markdown",
      "source": [
        "## 2. Encode"
      ],
      "metadata": {
        "id": "Nx-eBE9fZZDc"
      }
    },
    {
      "cell_type": "markdown",
      "source": [
        "Consider the first dataset (df). We will train our models on this data.\n",
        "\n",
        "Encode categorical varibles:\n",
        "\n",
        "* Label Encoding: BusinessTravel.\n",
        "* One-Hot Encoding: Gender, Overtime."
      ],
      "metadata": {
        "id": "F0DCBpE-cJ4t"
      }
    },
    {
      "cell_type": "code",
      "source": [
        "#Apply one-hot encoding to nominal variables\n",
        "\n",
        "# Apply label encoding to ordinal variables"
      ],
      "metadata": {
        "id": "cH0XFBPNc9Ir"
      },
      "execution_count": 4,
      "outputs": []
    },
    {
      "cell_type": "markdown",
      "source": [
        "## 3. Split and rescale"
      ],
      "metadata": {
        "id": "jEf_KqTC1kzs"
      }
    },
    {
      "cell_type": "markdown",
      "source": [
        "For df:\n",
        "\n",
        "* Define your dependent variable y (\"JobLevel\") and your independent features X;\n",
        "* Set random seed to 123;\n",
        "* Set test size to 20% and train size to 80%;\n",
        "* Split you dataset into test and train set;\n",
        "* Rescale it using MinMaxScaler"
      ],
      "metadata": {
        "id": "gx5sxQAY1nCj"
      }
    },
    {
      "cell_type": "code",
      "source": [
        "# Split your data into features (X) and target variable (y)\n",
        "\n",
        "# Set random seed to 123\n",
        "\n",
        "# Split the dataset into training and testing sets\n",
        "X_train, X_test, y_train, y_test = train_test_split(X, y, test_size=0.2, random_state= random_seed)\n",
        "\n",
        "# Initialize MinMaxScaler\n",
        "\n",
        "# Fit scaler on the training data and transform it\n",
        "\n",
        "# Transform the test data using the scaler fitted on the training data"
      ],
      "metadata": {
        "id": "o_gvUHBj1mi2"
      },
      "execution_count": 5,
      "outputs": []
    },
    {
      "cell_type": "markdown",
      "source": [
        "### Suspects dataset"
      ],
      "metadata": {
        "id": "FCWLRV4u2jO9"
      }
    },
    {
      "cell_type": "markdown",
      "source": [
        "Now encode and rescale the second dataset 'suspects'. We will use this dataset to make predictions.\n",
        "\n",
        "*Hint:* When you checked both datasets, you might have noticed that they have two columns that differ: 'userID' for suspects and 'JobLevel' for df. To avoid an error due to this discrepancy, you can extract the features used in training from the 'suspects' dataset and apply preprocessing steps to the extracted features."
      ],
      "metadata": {
        "id": "_uZbFz3T7SiF"
      }
    },
    {
      "cell_type": "code",
      "source": [
        "# Extract the features used in training from the 'suspects' dataset\n",
        "\n",
        "# Apply preprocessing steps to the extracted features\n",
        "\n",
        "# Transform the preprocessed 'suspects' features using the scaler fitted on the training data"
      ],
      "metadata": {
        "id": "VwJ51tyH2-kM"
      },
      "execution_count": 6,
      "outputs": []
    },
    {
      "cell_type": "markdown",
      "source": [
        "## 4. Logistic regresstion"
      ],
      "metadata": {
        "id": "KPoK0Exl3ZHe"
      }
    },
    {
      "cell_type": "markdown",
      "source": [
        "Train a logistic regression. Set the parameter 'max_iter' to 1000. Display the model's test accuracy."
      ],
      "metadata": {
        "id": "ptG02qLp3uRq"
      }
    },
    {
      "cell_type": "code",
      "source": [
        "# Initialize logistic regression model\n",
        "model = LogisticRegression(max_iter=1000, random_state=random_seed)\n",
        "\n",
        "# Train the logistic regression model on the scaled training data\n",
        "\n",
        "# Predict using the trained model on the scaled test data\n",
        "\n",
        "# Calculate test accuracy\n"
      ],
      "metadata": {
        "colab": {
          "base_uri": "https://localhost:8080/",
          "height": 211
        },
        "id": "K3Bb-Kgfw8OF",
        "outputId": "51d903c7-cbe9-4c9c-b4ae-64dbcf3d9316"
      },
      "execution_count": 7,
      "outputs": [
        {
          "output_type": "error",
          "ename": "NameError",
          "evalue": "name 'random_seed' is not defined",
          "traceback": [
            "\u001b[0;31m---------------------------------------------------------------------------\u001b[0m",
            "\u001b[0;31mNameError\u001b[0m                                 Traceback (most recent call last)",
            "\u001b[0;32m<ipython-input-7-e7679cd0859b>\u001b[0m in \u001b[0;36m<cell line: 2>\u001b[0;34m()\u001b[0m\n\u001b[1;32m      1\u001b[0m \u001b[0;31m# Initialize logistic regression model\u001b[0m\u001b[0;34m\u001b[0m\u001b[0;34m\u001b[0m\u001b[0m\n\u001b[0;32m----> 2\u001b[0;31m \u001b[0mmodel\u001b[0m \u001b[0;34m=\u001b[0m \u001b[0mLogisticRegression\u001b[0m\u001b[0;34m(\u001b[0m\u001b[0mmax_iter\u001b[0m\u001b[0;34m=\u001b[0m\u001b[0;36m1000\u001b[0m\u001b[0;34m,\u001b[0m \u001b[0mrandom_state\u001b[0m\u001b[0;34m=\u001b[0m\u001b[0mrandom_seed\u001b[0m\u001b[0;34m)\u001b[0m\u001b[0;34m\u001b[0m\u001b[0;34m\u001b[0m\u001b[0m\n\u001b[0m\u001b[1;32m      3\u001b[0m \u001b[0;34m\u001b[0m\u001b[0m\n\u001b[1;32m      4\u001b[0m \u001b[0;31m# Train the logistic regression model on the scaled training data\u001b[0m\u001b[0;34m\u001b[0m\u001b[0;34m\u001b[0m\u001b[0m\n\u001b[1;32m      5\u001b[0m \u001b[0;34m\u001b[0m\u001b[0m\n",
            "\u001b[0;31mNameError\u001b[0m: name 'random_seed' is not defined"
          ]
        }
      ]
    },
    {
      "cell_type": "markdown",
      "source": [
        "## 5. Evaluate your model"
      ],
      "metadata": {
        "id": "Guq2j4d44Mjd"
      }
    },
    {
      "cell_type": "markdown",
      "source": [
        "Print classification report."
      ],
      "metadata": {
        "id": "lukViE7T4luK"
      }
    },
    {
      "cell_type": "code",
      "source": [
        "# Calculate classification report"
      ],
      "metadata": {
        "id": "F0CDNAKL4jsr"
      },
      "execution_count": null,
      "outputs": []
    },
    {
      "cell_type": "markdown",
      "source": [
        "Print a heatmap of a confusion matrix."
      ],
      "metadata": {
        "id": "kGO2q4DR4rfq"
      }
    },
    {
      "cell_type": "code",
      "source": [
        "# Plot confusion matrix as heatmap"
      ],
      "metadata": {
        "id": "losiDdW_4rKB"
      },
      "execution_count": null,
      "outputs": []
    },
    {
      "cell_type": "markdown",
      "source": [
        "**With which category you classifier struggles the most?**\n",
        "Answer: 2"
      ],
      "metadata": {
        "id": "F6HiGGeL8Nmc"
      }
    },
    {
      "cell_type": "markdown",
      "source": [
        "Calculate the default rate."
      ],
      "metadata": {
        "id": "EyB-yDGM5dFt"
      }
    },
    {
      "cell_type": "code",
      "source": [
        "#Your code here"
      ],
      "metadata": {
        "id": "EGuVPWBB5qNl"
      },
      "execution_count": null,
      "outputs": []
    },
    {
      "cell_type": "markdown",
      "metadata": {
        "id": "k57VCVeZOIvJ"
      },
      "source": [
        "## 6. Trying a different type of classification algorithm\n",
        "\n",
        "* Train your classification algorithm using RandomForestClassifier;\n",
        "* Set random state to random seed;\n",
        "* Do not specify any other parameters;\n",
        "* Evaluate your model by displaying its accuracy."
      ]
    },
    {
      "cell_type": "code",
      "source": [
        "# Train your classification algorithm\n",
        "classifier = RandomForestClassifier(random_state=random_seed)\n",
        "\n",
        "# Evaluate your model"
      ],
      "metadata": {
        "id": "HNvS6Hqs1Lea"
      },
      "execution_count": null,
      "outputs": []
    },
    {
      "cell_type": "markdown",
      "source": [
        "Dispay classification matrix and confusion matrix."
      ],
      "metadata": {
        "id": "e-YGoMaCASdI"
      }
    },
    {
      "cell_type": "code",
      "source": [
        "# Your code here"
      ],
      "metadata": {
        "id": "Jcc2et_O9QWu"
      },
      "execution_count": null,
      "outputs": []
    },
    {
      "cell_type": "markdown",
      "metadata": {
        "id": "p3aZt3WmEADO"
      },
      "source": [
        "## 7. Decision tree\n",
        "\n",
        "Use the decision tree model to predict the JobLevel of the potential suspects. Set max_depth to 5 and random state to random seed."
      ]
    },
    {
      "cell_type": "code",
      "execution_count": null,
      "metadata": {
        "id": "SF2_J7iAGdwW"
      },
      "outputs": [],
      "source": [
        "# Initialize the Decision Tree classifier\n",
        "decision_tree_classifier = DecisionTreeClassifier(max_depth=5, random_state=random_seed)\n",
        "\n",
        "# Train the Decision Tree classifier on the training data\n",
        "\n",
        "# Make predictions on the test data\n",
        "\n",
        "# Calculate accuracy score\n"
      ]
    },
    {
      "cell_type": "markdown",
      "source": [
        "Dispay classification matrix and confusion matrix."
      ],
      "metadata": {
        "id": "rUqc4b1rAaJK"
      }
    },
    {
      "cell_type": "code",
      "source": [
        "Your code here"
      ],
      "metadata": {
        "id": "draELXdz2EVl"
      },
      "execution_count": null,
      "outputs": []
    },
    {
      "cell_type": "markdown",
      "metadata": {
        "id": "bv7hqMp9OIvM"
      },
      "source": [
        "## 8. kNN\n",
        "\n",
        "Use the kNN model to predict the JobLevel of the potential suspects. Do not specify any parameters (the model will use the default parameters)."
      ]
    },
    {
      "cell_type": "code",
      "source": [
        "\n",
        "# Initialize the kNN classifier\n",
        "knn_classifier = KNeighborsClassifier()\n",
        "\n",
        "# Train the kNN classifier on the training data\n",
        "\n",
        "# Make predictions on the test data\n",
        "\n",
        "# Calculate accuracy score\n"
      ],
      "metadata": {
        "id": "OS1kId4HBUz7"
      },
      "execution_count": null,
      "outputs": []
    },
    {
      "cell_type": "markdown",
      "source": [
        "The accuracy is not great, is it? Let's try to fine tune the value of the hyperparameter 'n_neighbors' for the k-Nearest Neighbors (kNN) classifier. The best way to do so is to use a technique called hyperparameter tuning. One common approach is to perform a grid search over a range of possible values for 'n_neighbors' and evaluate the performance of the model using cross-validation.\n",
        "\n",
        "* Use a range value of hyperparmeter k from 1 to 15. This range is a parameter used by the GridSearchCV to define the best value of k.\n",
        "* Set the cross-validation to 5 folds.\n",
        "* Set `scoring='accuracy', 'return_train_score=False', verbose=1"
      ],
      "metadata": {
        "id": "rvsrE3OIBW-n"
      }
    },
    {
      "cell_type": "code",
      "source": [
        "# Define the parameter grid\n",
        "\n",
        "# Initialize the kNN classifier\n",
        "knn_classifier = KNeighborsClassifier()\n",
        "\n",
        "# Initialize GridSearchCV\n",
        "grid_search = GridSearchCV(knn_classifier, param_grid, cv=5, scoring='accuracy', return_train_score=False, verbose=1)\n",
        "\n",
        "# Perform grid search to find the best value of n_neighbors\n",
        "\n",
        "# Get the best value of n_neighbors\n",
        "\n",
        "# Train the kNN classifier with the best value of n_neighbors\n",
        "\n",
        "# Evaluate the performance of the best kNN classifier\n"
      ],
      "metadata": {
        "id": "q9vknn_BBnse"
      },
      "execution_count": null,
      "outputs": []
    },
    {
      "cell_type": "markdown",
      "metadata": {
        "id": "1bIigoLxKYHZ"
      },
      "source": [
        "## 9. Remaining suspects\n",
        "\n",
        "In this section we will identify the potential suspects  according to our new intelligence. Let's use the logistic regression trained on 'df' and make predictions on 'suspects'.\n",
        "\n",
        "Display a table with UserID and a corresponding predicted job level."
      ]
    },
    {
      "cell_type": "code",
      "source": [
        "# Make predictions using the trained logistic regression model on the preprocessed 'suspects' dataset\n",
        "\n",
        "# Concatenate UserIDs with predictions\n",
        "\n",
        "# Print the predictions along with UserIDs"
      ],
      "metadata": {
        "id": "g1y8F4522Kle"
      },
      "execution_count": null,
      "outputs": []
    },
    {
      "cell_type": "markdown",
      "source": [
        "As you remember, the culprit is believed to hold a high position. Therefore, we should filter our potential suspects leaving only those, whose job level is 4 and above.\n",
        "\n",
        "Display the list of suspects, whose predicted job level is >=4."
      ],
      "metadata": {
        "id": "nfqFz_tx-IbZ"
      }
    },
    {
      "cell_type": "code",
      "source": [
        "# Filter the 'suspects_results' DataFrame for predicted job levels 4 and above\n",
        "\n",
        "# Display the list of UserIDs"
      ],
      "metadata": {
        "id": "qMaWaRs148nw"
      },
      "execution_count": null,
      "outputs": []
    }
  ],
  "metadata": {
    "colab": {
      "provenance": [],
      "include_colab_link": true
    },
    "kernelspec": {
      "display_name": "Python 3",
      "name": "python3"
    },
    "language_info": {
      "codemirror_mode": {
        "name": "ipython",
        "version": 3
      },
      "file_extension": ".py",
      "mimetype": "text/x-python",
      "name": "python",
      "nbconvert_exporter": "python",
      "pygments_lexer": "ipython3",
      "version": "3.9.6"
    }
  },
  "nbformat": 4,
  "nbformat_minor": 0
}