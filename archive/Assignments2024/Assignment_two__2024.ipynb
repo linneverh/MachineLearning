{
  "cells": [
    {
      "cell_type": "markdown",
      "metadata": {
        "id": "view-in-github",
        "colab_type": "text"
      },
      "source": [
        "<a href=\"https://colab.research.google.com/github/michalis0/MGT-502-Data-Science-and-Machine-Learning/blob/main/Assignments2024/Assignment_two__2024.ipynb\" target=\"_parent\"><img src=\"https://colab.research.google.com/assets/colab-badge.svg\" alt=\"Open In Colab\"/></a>"
      ]
    },
    {
      "cell_type": "markdown",
      "metadata": {
        "id": "kZu-7QbP9muh"
      },
      "source": [
        "DSML investigation:\n",
        "\n",
        "You are part of the Suisse Impossible Mission Force, or SIMF for short. You need to uncover a rogue agent that is trying to steal sensitive information.\n",
        "\n",
        "Your mission, should you choose to accept it, is to find that agent before stealing any classified information. Good luck!"
      ]
    },
    {
      "cell_type": "markdown",
      "metadata": {
        "id": "DyL7WNdV9sWV"
      },
      "source": [
        "# Assignment part two\n",
        "### Due 10.03.2024\n",
        "\n",
        "We received new intelligence about the rogue agent which lets us discover his age.\n",
        "Use the table \"social_media_SIMF_archive.csv\" to create a model that predicts the age of a person. Use this model to predict the ages of the table of suspects \"suspect_social_media_statistics.csv\".\n",
        "\n",
        "\n",
        "\n",
        "## Getting to know our data\n",
        "\n",
        "- userId: Unique number given to each user.\n",
        "\n",
        "- tier: Tier of the city in which the user is residing.\n",
        "\n",
        "- gender: Categorical feature representing the gender of the user. 1 represents male and 2 represents female.\n",
        "\n",
        "- following_rate: Number of accounts followed by the user(feature is normalized)\n",
        "\n",
        "- followers_avg_age: Average of age groups of all the followers of the user.\n",
        "\n",
        "- following_avg_age: Average of age groups of all the accounts followed by the user.\n",
        "\n",
        "- max_repetitive_punc: Maximum repititive punctuations found in the bio and comments of the user.\n",
        "\n",
        "- num_of_hashtags_per_action: Average nubmer of hashtags used by the user per comment.\n",
        "\n",
        "- emoji_count_per_action: Average number of emojis used by the user per comment\n",
        "\n",
        "- punctuations_per_action: Average number of punctuations used by the user per comment.\n",
        "\n",
        "- number_of_words_per_action: Average number of words used by the user per comment.\n",
        "\n",
        "- avgCompletion: Average watch time completion rate of the videos.\n",
        "\n",
        "- avgTimeSpent: Average time spent by the user on a video in seconds.\n",
        "\n",
        "- avgDuration: Average duration of the videos that the user has watched till date.\n",
        "\n",
        "- avgComments: Average number of comments per video watched.\n",
        "\n",
        "- creations: Total number of videos uploaded by the user.\n",
        "\n",
        "- content_views: Total number of videos watched.\n",
        "\n",
        "- num_of_comments: Total number of comments made by the user (normalized)\n",
        "\n",
        "- weekends_trails_watched_per_day: Number of videos watched on weekends per day.\n",
        "\n",
        "- weekdays_trails_watched_per_day: Number of videos watched on weekdays per day.\n",
        "\n",
        "- slot1_trails_watched_per_day: The day is divided into 4 slots. This feature represents the average number of videos watched in this particular time slot.\n",
        "\n",
        "- slot2_trails_watched_per_day: The day is divided into 4 slots. This feature represents the average number of videos watched in this particular time slot.\n",
        "\n",
        "- slot3_trails_watched_per_day: The day is divided into 4 slots. This feature represents the average number of videos watched in this particular time slot.\n",
        "\n",
        "- slot4_trails_watched_per_day: data\n",
        "\n",
        "- avgt2: Average number of followers of all the accounts followed by the user.\n",
        "\n",
        "- age : The age of the user\n"
      ]
    },
    {
      "cell_type": "code",
      "execution_count": null,
      "metadata": {
        "id": "XHhI95r5-tyD"
      },
      "outputs": [],
      "source": [
        "import pandas as pd\n",
        "import numpy as np\n",
        "import matplotlib.pyplot as plt\n",
        "train_dataset = pd.read_csv(\"https://raw.githubusercontent.com/michalis0/MGT-502-Data-Science-and-Machine-Learning/main/data/social_media_SIMF_archive.csv\")\n",
        "suspects = pd.read_csv(\"https://raw.githubusercontent.com/michalis0/MGT-502-Data-Science-and-Machine-Learning/main/data/suspects_social_media.csv\")"
      ]
    },
    {
      "cell_type": "markdown",
      "metadata": {
        "id": "igq5I7pOm0SW"
      },
      "source": [
        "### Training a model\n",
        "Select the features which by convention are called X. We will also choose the target variable which we typically call y.\n",
        "\n",
        "You can use the features 'tier', 'gender', 'following_rate', 'followers_avg_age', 'following_avg_age', 'max_repetitive_punc', 'num_of_hashtags_per_action', 'emoji_count_per_action', 'punctuations_per_action', 'number_of_words_per_action', 'avgCompletion', 'avgTimeSpent', 'avgDuration', 'avgComments', 'creations', 'content_views', 'num_of_comments', 'weekends_trails_watched_per_day', 'weekdays_trails_watched_per_day', 'slot1_trails_watched_per_day', 'slot2_trails_watched_per_day', 'slot3_trails_watched_per_day', 'slot4_trails_watched_per_day', 'avgt2'\n"
      ]
    },
    {
      "cell_type": "code",
      "execution_count": null,
      "metadata": {
        "id": "LV87NptOASo6"
      },
      "outputs": [],
      "source": [
        "#Your code here"
      ]
    },
    {
      "cell_type": "markdown",
      "metadata": {
        "id": "ga14a0xrnrw3"
      },
      "source": [
        "Now, do the test-trainsplit, using as train 80% of the data and random state 42"
      ]
    },
    {
      "cell_type": "code",
      "execution_count": null,
      "metadata": {
        "id": "NTmLyknynsHL"
      },
      "outputs": [],
      "source": [
        "#Your code here"
      ]
    },
    {
      "cell_type": "code",
      "execution_count": null,
      "metadata": {
        "id": "3602Q_G61MoZ"
      },
      "outputs": [],
      "source": [
        "# Use the MinMaxScaller to rescale your the features in X_train and X_test"
      ]
    },
    {
      "cell_type": "markdown",
      "metadata": {
        "id": "d4iM8tnqoEG1"
      },
      "source": [
        "## Linear regression\n",
        "Now, create the linear model. Train it with the train set and use the model to make predictions on the test set. Which accuracy do you achieve on the test set?"
      ]
    },
    {
      "cell_type": "code",
      "execution_count": null,
      "metadata": {
        "id": "LH22xpzvoGIL"
      },
      "outputs": [],
      "source": [
        "# do the right imports\n",
        "\n",
        "# create the model\n",
        "\n",
        "# Fit the model"
      ]
    },
    {
      "cell_type": "markdown",
      "metadata": {
        "id": "4aqtJfHZoWN7"
      },
      "source": [
        "and we do the predictions on the test set:"
      ]
    },
    {
      "cell_type": "code",
      "execution_count": null,
      "metadata": {
        "id": "6dDFgWMWoVd3"
      },
      "outputs": [],
      "source": [
        "#Your code here"
      ]
    },
    {
      "cell_type": "markdown",
      "metadata": {
        "id": "EwY8bTivocZy"
      },
      "source": [
        "What are the model's $MAE$ and $R^2$ ?"
      ]
    },
    {
      "cell_type": "code",
      "execution_count": null,
      "metadata": {
        "id": "pXqBOWBFodLz"
      },
      "outputs": [],
      "source": [
        "#Your code here\n",
        "\n",
        "#r2\n",
        "\n",
        "#MAE\n"
      ]
    },
    {
      "cell_type": "markdown",
      "metadata": {
        "id": "5V2TxysooxZ1"
      },
      "source": [
        "## Retraining on the full dataset\n",
        "Training on part of the dataset is mainly usefull so that we get an idea of the results we should expect but also performing various optimisations.\n",
        "\n",
        "In order to get the best result possible it is advised to retrain on the entire set prior to making predictions.\n",
        "\n",
        "Before predicting the age of the suspects, retrain the model on the full training dataset to ensure the greater results.\n",
        "\n",
        "You can reuse the same features as before, but make sure those are also available on the suspects dataset."
      ]
    },
    {
      "cell_type": "code",
      "execution_count": null,
      "metadata": {
        "id": "Xk56_79h4aEW"
      },
      "outputs": [],
      "source": [
        "#Your code here\n",
        "\n",
        "# Use a new MinMaxScaller to rescale your the features in X and in the suspect dataset"
      ]
    },
    {
      "cell_type": "code",
      "execution_count": null,
      "metadata": {
        "id": "pmhdhMldqEFU"
      },
      "outputs": [],
      "source": [
        "# create the new model"
      ]
    },
    {
      "cell_type": "code",
      "execution_count": null,
      "metadata": {
        "id": "WH1c8fHLqnt1"
      },
      "outputs": [],
      "source": [
        "# Make the predictions"
      ]
    },
    {
      "cell_type": "markdown",
      "metadata": {
        "id": "1hdejQOyvpnh"
      },
      "source": [
        "## Which suspects remain after identifying users between 25 and 35 years old ?\n"
      ]
    },
    {
      "cell_type": "code",
      "execution_count": null,
      "metadata": {
        "id": "tWOtRrIrv37W"
      },
      "outputs": [],
      "source": [
        "#Your code here"
      ]
    },
    {
      "cell_type": "markdown",
      "metadata": {
        "id": "ZvXi8grv1Mob"
      },
      "source": [
        "## 1.3 What is the predicted age of a Male user with the following characteristics:\n",
        "* tier = 2\n",
        "* following_rate = 2\n",
        "* followers_avg_age = 27\n",
        "* following_avg_age = 22\n",
        "* max_repetitive_punc = 0.06\n",
        "* num_of_hashtags_per_action = 0.8\n",
        "* emoji_count_per_action = 0.3\n",
        "* punctuations_per_action = 0.03\n",
        "* number_of_words_per_action = 7\n",
        "* avgCompletion = 12\n",
        "* avgTimeSpent = 0.13\n",
        "* avgDuration = 0.8\n",
        "* avgComments = 0.04\n",
        "* likeToDislikeRation = 0.76\n",
        "* creations = 10\n",
        "* content_views = 65\n",
        "* num_of_comments = 12\n",
        "* weekends_trails_watched_per_day = 0\n",
        "* weekdays_trails_watched_per_day = 0.00353\n",
        "* slot1_trails_watched_per_day = 0.032\n",
        "* slot2_trails_watched_per_day = 0\n",
        "* slot3_trails_watched_per_day = 0.004\n",
        "* slot4_trails_watched_per_day = 2\n",
        "* avgt2 = 39"
      ]
    },
    {
      "cell_type": "markdown",
      "metadata": {
        "id": "PETOLHuo1Mob"
      },
      "source": [
        "*hint: make sure the features and their order corresponds to the ones used for the training.*\n",
        "\n",
        "*hint 2: don't forget to reprocess the data as you did before*"
      ]
    },
    {
      "cell_type": "code",
      "execution_count": null,
      "metadata": {
        "id": "zaemJ5ch1Mob"
      },
      "outputs": [],
      "source": [
        "#Your code here"
      ]
    }
  ],
  "metadata": {
    "colab": {
      "provenance": [],
      "include_colab_link": true
    },
    "kernelspec": {
      "display_name": "Python 3 (ipykernel)",
      "language": "python",
      "name": "python3"
    },
    "language_info": {
      "codemirror_mode": {
        "name": "ipython",
        "version": 3
      },
      "file_extension": ".py",
      "mimetype": "text/x-python",
      "name": "python",
      "nbconvert_exporter": "python",
      "pygments_lexer": "ipython3",
      "version": "3.9.12"
    }
  },
  "nbformat": 4,
  "nbformat_minor": 0
}