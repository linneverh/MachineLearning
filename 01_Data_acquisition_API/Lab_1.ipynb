{
  "cells": [
    {
      "cell_type": "markdown",
      "metadata": {
        "id": "view-in-github",
        "colab_type": "text"
      },
      "source": [
        "<a href=\"https://colab.research.google.com/github/michalis0/MGT-502-Data-Science-and-Machine-Learning/blob/main/01_Data_acquisition_API/Lab_1.ipynb\" target=\"_parent\"><img src=\"https://colab.research.google.com/assets/colab-badge.svg\" alt=\"Open In Colab\"/></a>"
      ]
    },
    {
      "cell_type": "code",
      "execution_count": null,
      "id": "15dc4475-7f7d-4457-8762-bb031a0629b2",
      "metadata": {
        "id": "15dc4475-7f7d-4457-8762-bb031a0629b2"
      },
      "outputs": [],
      "source": [
        "# IMPORT YOUR LIBRARIES HERE\n"
      ]
    },
    {
      "cell_type": "markdown",
      "id": "a844a8c0-078c-4946-8927-e570469c601c",
      "metadata": {
        "id": "a844a8c0-078c-4946-8927-e570469c601c"
      },
      "source": [
        "# Lab 1\n",
        "\n",
        "Welcome to the first lab of the Data Science and Machine Learning Course!\n",
        "\n",
        "First we will start with a quick revision of the useful skills you've learnt during the course on 'Statistics and Data Science' last semester. Many of those skills you will reuse in this course (and, hopefully, later in your professional lives), so you'd better not forget them!\n",
        "\n",
        "Good luck!"
      ]
    },
    {
      "cell_type": "markdown",
      "id": "306ac928-a1e5-4dd7-8e62-b8108c22e5a9",
      "metadata": {
        "id": "306ac928-a1e5-4dd7-8e62-b8108c22e5a9"
      },
      "source": [
        "## Exploring the dataset on crop yields\n",
        "\n",
        "In 2020, between 720 million and 811 million persons worldwide were suffering from hunger (see [SDG Goal 2](https://www.un.org/sustainabledevelopment/hunger/) Zero Hunger). Given the ongoing growth of the world population, it is imperative to comprehend crop yield at a global level in order to tackle food security issues and mitigate the effects of climate change.\n",
        "\n",
        "The Agricultural yield depends on weather conditions (rain, temperature, etc) and fertilizers use. Having precise information regarding the historical crop yield is critical for making informed decisions regarding agricultural risk management and future projections.\n",
        "\n",
        "Some E4S publications on the topic of food:\n",
        "- [Threats to Nitrogen Fertilizer, Opportunities to Cultivate Sustainable Practices?](https://e4s.center/resources/reports/threats-to-nitrogen-fertilizer-opportunities-to-cultivate-sustainable-practices/)\n",
        "- [True cost of food as a lever to transform the Swiss food system](https://e4s.center/resources/reports/true-cost-of-food-as-a-lever-to-transform-the-swiss-food-system/)\n",
        "\n",
        "<img src='https://upload.wikimedia.org/wikipedia/commons/thumb/b/b7/Sustainable_Development_Goal_02ZeroHunger.svg/800px-Sustainable_Development_Goal_02ZeroHunger.svg.png' width=\"200\">\n",
        "\n",
        "We will use data obtained from the [FAO](http://www.fao.org/home/en/) (Food and Agriculture Organization) and [World Data Bank](https://data.worldbank.org/), and gathered in the [Crop Yield Prediction Dataset](https://www.kaggle.com/datasets/patelris/crop-yield-prediction-dataset).\n",
        "\n",
        "This data may help us to predict the crop yields using the temperature, rain fall, and type of crops.\n"
      ]
    },
    {
      "cell_type": "markdown",
      "id": "783579c9-3e8e-4b44-b95a-58179f897d40",
      "metadata": {
        "id": "783579c9-3e8e-4b44-b95a-58179f897d40"
      },
      "source": [
        "### Question 1: Load and Discover the dataset"
      ]
    },
    {
      "cell_type": "markdown",
      "id": "0beccfea-24ca-4c3f-92f1-c5a950b2cbce",
      "metadata": {
        "id": "0beccfea-24ca-4c3f-92f1-c5a950b2cbce"
      },
      "source": [
        "- Load the data in a dataframe. The url link is provided below. Display the first 10 observations and the types of data.  "
      ]
    },
    {
      "cell_type": "code",
      "execution_count": null,
      "id": "3e87e292-3eed-4193-ba24-60693606b433",
      "metadata": {
        "id": "3e87e292-3eed-4193-ba24-60693606b433"
      },
      "outputs": [],
      "source": [
        "url_yield = 'https://raw.githubusercontent.com/michalis0/MGT-502-Data-Science-and-Machine-Learning/main/data/yield_df.csv'\n",
        "\n",
        "# YOUR CODE HERE\n"
      ]
    },
    {
      "cell_type": "markdown",
      "source": [
        "\n",
        "\n",
        "\n",
        "*   Check for missing values.\n",
        "\n"
      ],
      "metadata": {
        "id": "CZc2JGScc6IZ"
      },
      "id": "CZc2JGScc6IZ"
    },
    {
      "cell_type": "code",
      "source": [
        "# YOUR CODE HERE\n"
      ],
      "metadata": {
        "id": "xcEyGLHTdKPy"
      },
      "id": "xcEyGLHTdKPy",
      "execution_count": null,
      "outputs": []
    },
    {
      "cell_type": "markdown",
      "source": [
        "\n",
        "*   Check the types of data"
      ],
      "metadata": {
        "id": "HIyWlpzndK_R"
      },
      "id": "HIyWlpzndK_R"
    },
    {
      "cell_type": "code",
      "source": [
        "# YOUR CODE HERE\n"
      ],
      "metadata": {
        "id": "7J8JrZy6dVcg"
      },
      "id": "7J8JrZy6dVcg",
      "execution_count": null,
      "outputs": []
    },
    {
      "cell_type": "markdown",
      "source": [
        "\n",
        "\n",
        "*   Display the list of variables the dataset contains.\n"
      ],
      "metadata": {
        "id": "Ecdt6CVXefAz"
      },
      "id": "Ecdt6CVXefAz"
    },
    {
      "cell_type": "code",
      "source": [
        "# YOUR CODE HERE\n"
      ],
      "metadata": {
        "id": "JwJ8lEwpeonA"
      },
      "id": "JwJ8lEwpeonA",
      "execution_count": null,
      "outputs": []
    },
    {
      "cell_type": "markdown",
      "id": "a0916a03-2452-43da-9c5d-c5f43fddd8f2",
      "metadata": {
        "id": "a0916a03-2452-43da-9c5d-c5f43fddd8f2"
      },
      "source": [
        "- Print the list of countries ('Area') and years available in the dataset."
      ]
    },
    {
      "cell_type": "code",
      "execution_count": null,
      "id": "af13bb43-fe6f-49ec-b2a4-2faee5cee321",
      "metadata": {
        "id": "af13bb43-fe6f-49ec-b2a4-2faee5cee321"
      },
      "outputs": [],
      "source": [
        "# YOUR CODE HERE\n"
      ]
    },
    {
      "cell_type": "markdown",
      "id": "5c92f5c7-b11c-428b-9c7c-93406aa3f413",
      "metadata": {
        "id": "5c92f5c7-b11c-428b-9c7c-93406aa3f413"
      },
      "source": [
        "- Print the list of 'Item' in the dataset. You should obtain a list of 10 crops, which are among the most consumed in the world"
      ]
    },
    {
      "cell_type": "code",
      "execution_count": null,
      "id": "81c32aba-b1fa-46c6-b1e6-0582ab9ca55e",
      "metadata": {
        "id": "81c32aba-b1fa-46c6-b1e6-0582ab9ca55e"
      },
      "outputs": [],
      "source": [
        "# YOUR CODE HERE\n"
      ]
    },
    {
      "cell_type": "markdown",
      "id": "b0118e44-ca7c-4a81-998f-c8bccf4248e2",
      "metadata": {
        "id": "b0118e44-ca7c-4a81-998f-c8bccf4248e2"
      },
      "source": [
        "- Display summary statistics for the columns: 'hg/ha_yield', 'average_rain_fall_mm_per_year', 'pesticides_tonnes','avg_temp'. How many observations do we have?\n",
        "\n",
        "*Hint:* You can extract the columns 'hg/ha_yield', 'average_rain_fall_mm_per_year', 'pesticides_tonnes','avg_temp' in a new dataframe since we will reuse it in the following questions"
      ]
    },
    {
      "cell_type": "code",
      "execution_count": null,
      "id": "4e212211-7d8d-41e7-a20f-9bcaadf9122e",
      "metadata": {
        "id": "4e212211-7d8d-41e7-a20f-9bcaadf9122e"
      },
      "outputs": [],
      "source": [
        "# YOUR CODE HERE\n"
      ]
    },
    {
      "cell_type": "markdown",
      "source": [
        "\n",
        "\n",
        "*   What else can be helpful to understand the data at hand?\n",
        "\n"
      ],
      "metadata": {
        "id": "9OG1cZL9dxKe"
      },
      "id": "9OG1cZL9dxKe"
    },
    {
      "cell_type": "code",
      "source": [
        "# YOUR CODE HERE\n"
      ],
      "metadata": {
        "id": "Vt8gerXZd3vX"
      },
      "id": "Vt8gerXZd3vX",
      "execution_count": null,
      "outputs": []
    },
    {
      "cell_type": "markdown",
      "source": [
        "## Visualization"
      ],
      "metadata": {
        "id": "LvZmK2_ChBCa"
      },
      "id": "LvZmK2_ChBCa"
    },
    {
      "cell_type": "markdown",
      "id": "8a995d1b-a04b-4e57-bfd9-26db5a4a0f53",
      "metadata": {
        "id": "8a995d1b-a04b-4e57-bfd9-26db5a4a0f53"
      },
      "source": [
        "- Display a heatmap of the correlation matrix between the columns: 'hg/ha_yield', 'average_rain_fall_mm_per_year', 'pesticides_tonnes','avg_temp'"
      ]
    },
    {
      "cell_type": "code",
      "execution_count": null,
      "id": "b13cf896-70a1-45e6-b19a-7a7d8e9c0ae9",
      "metadata": {
        "id": "b13cf896-70a1-45e6-b19a-7a7d8e9c0ae9"
      },
      "outputs": [],
      "source": [
        "# YOUR CODE HERE\n"
      ]
    },
    {
      "cell_type": "markdown",
      "id": "91e4d566-d5e5-4179-8807-cf7f2eb48bf9",
      "metadata": {
        "id": "91e4d566-d5e5-4179-8807-cf7f2eb48bf9"
      },
      "source": [
        "- Create a boxplot of the columns: 'hg/ha_yield', 'average_rain_fall_mm_per_year', 'pesticides_tonnes','avg_temp'"
      ]
    },
    {
      "cell_type": "code",
      "execution_count": null,
      "id": "8f14fddf-5f93-44d3-9d2d-c4a35a3b2871",
      "metadata": {
        "id": "8f14fddf-5f93-44d3-9d2d-c4a35a3b2871"
      },
      "outputs": [],
      "source": [
        "# YOUR CODE HERE\n"
      ]
    },
    {
      "cell_type": "markdown",
      "id": "7a26e9e8-57bc-4e83-be5d-7a8eecdc52d0",
      "metadata": {
        "id": "7a26e9e8-57bc-4e83-be5d-7a8eecdc52d0"
      },
      "source": [
        "- Create a pairplot of the columns: 'hg/ha_yield', 'average_rain_fall_mm_per_year', 'pesticides_tonnes','avg_temp'"
      ]
    },
    {
      "cell_type": "code",
      "execution_count": null,
      "id": "0bb5c2b1-8ff3-4bf5-96dc-fc09782cf06e",
      "metadata": {
        "id": "0bb5c2b1-8ff3-4bf5-96dc-fc09782cf06e"
      },
      "outputs": [],
      "source": [
        "# YOUR CODE HERE\n"
      ]
    },
    {
      "cell_type": "markdown",
      "id": "f3e878bc-9a34-4875-8771-f6521c2f1b66",
      "metadata": {
        "id": "f3e878bc-9a34-4875-8771-f6521c2f1b66"
      },
      "source": [
        "- The pairplot above has uncovered a potential problem with our data. Let's try to analize the distribution of the variables further to assess how grave the effect of skewness can be."
      ]
    },
    {
      "cell_type": "code",
      "execution_count": null,
      "id": "7ef645ef-3117-490f-91fe-083e2f96cc97",
      "metadata": {
        "id": "7ef645ef-3117-490f-91fe-083e2f96cc97"
      },
      "outputs": [],
      "source": [
        "# YOUR CODE HERE\n"
      ]
    },
    {
      "cell_type": "markdown",
      "source": [
        "\n",
        "\n",
        "*   We can have a look at the different crops present in the dataset and their shares in the yield. The best way to visualize is it to plot a pie chart.\n",
        "\n"
      ],
      "metadata": {
        "id": "iV7QLYM6gGs4"
      },
      "id": "iV7QLYM6gGs4"
    },
    {
      "cell_type": "code",
      "source": [
        "# YOUR CODE HERE\n"
      ],
      "metadata": {
        "id": "XDGWtZfqgRPA"
      },
      "id": "XDGWtZfqgRPA",
      "execution_count": null,
      "outputs": []
    },
    {
      "cell_type": "markdown",
      "source": [
        "\n",
        "\n",
        "*   Feel free to extend your data analysis and visualisation by adding plots, graphs, maps, etc. These results will be useful for the next lab, when we will explore Streamlit.\n",
        "\n"
      ],
      "metadata": {
        "id": "Bn-qLXctgUxJ"
      },
      "id": "Bn-qLXctgUxJ"
    },
    {
      "cell_type": "code",
      "source": [
        "# YOUR CODE HERE\n"
      ],
      "metadata": {
        "id": "8F1LyW5_gUId"
      },
      "id": "8F1LyW5_gUId",
      "execution_count": null,
      "outputs": []
    }
  ],
  "metadata": {
    "kernelspec": {
      "display_name": "Python 3 (ipykernel)",
      "language": "python",
      "name": "python3"
    },
    "language_info": {
      "codemirror_mode": {
        "name": "ipython",
        "version": 3
      },
      "file_extension": ".py",
      "mimetype": "text/x-python",
      "name": "python",
      "nbconvert_exporter": "python",
      "pygments_lexer": "ipython3",
      "version": "3.9.4"
    },
    "colab": {
      "provenance": [],
      "include_colab_link": true
    }
  },
  "nbformat": 4,
  "nbformat_minor": 5
}