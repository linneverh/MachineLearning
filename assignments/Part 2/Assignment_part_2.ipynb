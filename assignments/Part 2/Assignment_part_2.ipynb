{
 "cells": [
  {
   "cell_type": "markdown",
   "metadata": {
    "id": "view-in-github"
   },
   "source": [
    "<a href=\"https://colab.research.google.com/github/michalis0/MGT-502-Data-Science-and-Machine-Learning/blob/main/assignments/Part 2/Assignment_part_2.ipynb\" target=\"_parent\"><img src=\"https://colab.research.google.com/assets/colab-badge.svg\" alt=\"Open In Colab\"/></a>"
   ]
  },
  {
   "cell_type": "markdown",
   "metadata": {
    "id": "kZu-7QbP9muh"
   },
   "source": [
    "## DSML investigation\n",
    "\n",
    "You are part of the Suisse Impossible Mission Force, or SIMF for short. You need to uncover a rogue agent that is trying to steal sensitive information.\n",
    "\n",
    "Your mission, should you choose to accept it, is to find that agent before stealing any classified information. Good luck!"
   ]
  },
  {
   "cell_type": "markdown",
   "metadata": {
    "id": "DyL7WNdV9sWV"
   },
   "source": [
    "# Assignment part two\n",
    "\n",
    "We received new intelligence about the rogue agent which lets us discover his age.\n",
    "Use the table \"social_media_SIMF_archive.csv\" to create a model that predicts the age of a person. Use this model to predict the ages of the table of suspects \"suspect_social_media_statistics.csv\".\n",
    "\n",
    "\n",
    "\n",
    "## Getting to know our data\n",
    "\n",
    "- userId: Unique number given to each user.\n",
    "\n",
    "- tier: Tier of the city in which the user is residing.\n",
    "\n",
    "- gender: Categorical feature representing the gender of the user. 1 represents male and 2 represents female.\n",
    "\n",
    "- following_rate: Number of accounts followed by the user(feature is normalized)\n",
    "\n",
    "- followers_avg_age: Average of age groups of all the followers of the user.\n",
    "\n",
    "- following_avg_age: Average of age groups of all the accounts followed by the user.\n",
    "\n",
    "- max_repetitive_punc: Maximum repititive punctuations found in the bio and comments of the user.\n",
    "\n",
    "- num_of_hashtags_per_action: Average nubmer of hashtags used by the user per comment.\n",
    "\n",
    "- emoji_count_per_action: Average number of emojis used by the user per comment\n",
    "\n",
    "- punctuations_per_action: Average number of punctuations used by the user per comment.\n",
    "\n",
    "- number_of_words_per_action: Average number of words used by the user per comment.\n",
    "\n",
    "- avgCompletion: Average watch time completion rate of the videos.\n",
    "\n",
    "- avgTimeSpent: Average time spent by the user on a video in seconds.\n",
    "\n",
    "- avgDuration: Average duration of the videos that the user has watched till date.\n",
    "\n",
    "- avgComments: Average number of comments per video watched.\n",
    "\n",
    "- creations: Total number of videos uploaded by the user.\n",
    "\n",
    "- content_views: Total number of videos watched.\n",
    "\n",
    "- num_of_comments: Total number of comments made by the user (normalized)\n",
    "\n",
    "- weekends_trails_watched_per_day: Number of videos watched on weekends per day.\n",
    "\n",
    "- weekdays_trails_watched_per_day: Number of videos watched on weekdays per day.\n",
    "\n",
    "- slot1_trails_watched_per_day: The day is divided into 4 slots. This feature represents the average number of videos watched in this particular time slot.\n",
    "\n",
    "- slot2_trails_watched_per_day: The day is divided into 4 slots. This feature represents the average number of videos watched in this particular time slot.\n",
    "\n",
    "- slot3_trails_watched_per_day: The day is divided into 4 slots. This feature represents the average number of videos watched in this particular time slot.\n",
    "\n",
    "- slot4_trails_watched_per_day: data\n",
    "\n",
    "- avgt2: Average number of followers of all the accounts followed by the user.\n",
    "\n",
    "- age : The age of the user\n"
   ]
  },
  {
   "cell_type": "code",
   "execution_count": 1,
   "metadata": {
    "id": "XHhI95r5-tyD"
   },
   "outputs": [],
   "source": [
    "import pandas as pd\n",
    "import numpy as np\n",
    "import matplotlib.pyplot as plt\n",
    "from sklearn.preprocessing import MinMaxScaler\n",
    "\n",
    "\n",
    "train_dataset = pd.read_csv(\"https://raw.githubusercontent.com/michalis0/MGT-502-Data-Science-and-Machine-Learning/refs/heads/main/assignments/Part%202/data/social_media_SIMF_archive.csv\")\n",
    "suspects = pd.read_csv(\"https://raw.githubusercontent.com/michalis0/MGT-502-Data-Science-and-Machine-Learning/refs/heads/main/assignments/Part%202/data/suspects_social_media.csv\")"
   ]
  },
  {
   "cell_type": "code",
   "execution_count": null,
   "metadata": {},
   "outputs": [],
   "source": [
    "# Set the random seed for reproducibility\n",
    "np.random.seed(42)"
   ]
  },
  {
   "attachments": {},
   "cell_type": "markdown",
   "metadata": {
    "id": "igq5I7pOm0SW"
   },
   "source": [
    "### Training a model\n",
    "Select the features which by convention are called X. We will also choose the target variable which we typically call y.\n"
   ]
  },
  {
   "cell_type": "code",
   "execution_count": null,
   "metadata": {
    "id": "LV87NptOASo6"
   },
   "outputs": [],
   "source": [
    "FEATURES_COLS = [\n",
    "    'tier', \n",
    "    'gender', \n",
    "    'following_rate', \n",
    "    'followers_avg_age', \n",
    "    'following_avg_age', \n",
    "    'max_repetitive_punc', \n",
    "    'num_of_hashtags_per_action', \n",
    "    'emoji_count_per_action', \n",
    "    'punctuations_per_action', \n",
    "    'number_of_words_per_action', \n",
    "    'avgCompletion', \n",
    "    'avgTimeSpent', \n",
    "    'avgDuration', \n",
    "    'avgComments', \n",
    "    'creations', \n",
    "    'content_views', \n",
    "    'num_of_comments', \n",
    "    'weekends_trails_watched_per_day', \n",
    "    'weekdays_trails_watched_per_day', \n",
    "    'slot1_trails_watched_per_day', \n",
    "    'slot2_trails_watched_per_day', \n",
    "    'slot3_trails_watched_per_day', \n",
    "    'slot4_trails_watched_per_day', \n",
    "    'avgt2'\n",
    "]\n",
    "\n",
    "LABEL_COL = 'age'\n",
    "\n",
    "# YOUR CODE HERE"
   ]
  },
  {
   "attachments": {},
   "cell_type": "markdown",
   "metadata": {
    "id": "ga14a0xrnrw3"
   },
   "source": [
    "Now do the train-test split, using 80% of the data as training and 20% as test. Set the random state to 42."
   ]
  },
  {
   "cell_type": "code",
   "execution_count": null,
   "metadata": {
    "id": "NTmLyknynsHL"
   },
   "outputs": [],
   "source": [
    "# YOUR CODE HERE"
   ]
  },
  {
   "attachments": {},
   "cell_type": "markdown",
   "metadata": {},
   "source": [
    "Next, rescale the features in training and test data using `MinMaxScaler`."
   ]
  },
  {
   "cell_type": "code",
   "execution_count": null,
   "metadata": {
    "id": "3602Q_G61MoZ"
   },
   "outputs": [],
   "source": [
    "# YOUR CODE HERE\n",
    "# Use the MinMaxScaler to rescale your the features in X_train and X_test"
   ]
  },
  {
   "attachments": {},
   "cell_type": "markdown",
   "metadata": {
    "id": "d4iM8tnqoEG1"
   },
   "source": [
    "## Linear regression\n",
    "Now, create a linear regression model. Train it on the training data and use the model to make predictions on the test data. How is the performance of your model on the test data?\n",
    "\n",
    "*Note: For the liner regression model, use the default attribute value as seen in the Lab.*"
   ]
  },
  {
   "cell_type": "code",
   "execution_count": null,
   "metadata": {
    "id": "LH22xpzvoGIL"
   },
   "outputs": [],
   "source": [
    "# YOUR CODE HERE\n",
    "# do the right imports\n",
    "\n",
    "# create the model\n",
    "\n",
    "# Fit the model\n"
   ]
  },
  {
   "cell_type": "markdown",
   "metadata": {
    "id": "4aqtJfHZoWN7"
   },
   "source": [
    "and we do the predictions on the test set:"
   ]
  },
  {
   "cell_type": "code",
   "execution_count": null,
   "metadata": {
    "id": "6dDFgWMWoVd3"
   },
   "outputs": [],
   "source": [
    "# YOUR CODE HERE\n"
   ]
  },
  {
   "cell_type": "markdown",
   "metadata": {
    "id": "EwY8bTivocZy"
   },
   "source": [
    "What are the model's $MAE$, $MSE$ and $R^2$ ?"
   ]
  },
  {
   "cell_type": "code",
   "execution_count": null,
   "metadata": {
    "id": "pXqBOWBFodLz"
   },
   "outputs": [],
   "source": [
    "# YOUR CODE HERE\n"
   ]
  },
  {
   "attachments": {},
   "cell_type": "markdown",
   "metadata": {
    "id": "jDUOSDFScppl"
   },
   "source": [
    "**Q1. What is the mean absolute error (MAE) of the model over the test set?**\n",
    "\n",
    "*Hint : The correct value should be between 5.20 and 5.50*\n",
    "\n",
    "Round to 2 digits (e. g. 4.32)"
   ]
  },
  {
   "attachments": {},
   "cell_type": "markdown",
   "metadata": {
    "id": "BNQQVWvYQnPU"
   },
   "source": [
    "**Q2. What is the mean squared error (MSE) of the model over the test set?\"**\n",
    "\n",
    "*Hint : The correct value should be between 48 and 50*\n",
    "\n",
    "Round to 2 digit (e.g. 4.32)"
   ]
  },
  {
   "attachments": {},
   "cell_type": "markdown",
   "metadata": {
    "id": "CKtBmM8ccxqO"
   },
   "source": [
    "**Q3. What is the $R^2$ score of the model over the test set?**\n",
    "\n",
    "*Hint : The correct value should be between 0.55 and 0.75*\n",
    "\n",
    "Round to 2 digits (e. g. 4.32)"
   ]
  },
  {
   "attachments": {},
   "cell_type": "markdown",
   "metadata": {
    "id": "5V2TxysooxZ1"
   },
   "source": [
    "## Retraining on the full dataset\n",
    "Training on a split of the training dataset, as you just did, is mainly for evaluating the performance of the resulting model on the unseen data and also optimizing various hyper-parameters of the model.\n",
    "\n",
    "We can now retrain the model on the full training data prior to making predictions.\n",
    "\n",
    "Before predicting the age of the suspects, retrain the model on the full training dataset.\n",
    "\n",
    "You can reuse the same features as before, but make sure those are also available on the suspects dataset."
   ]
  },
  {
   "cell_type": "code",
   "execution_count": null,
   "metadata": {
    "id": "jEXfwMG3owXE"
   },
   "outputs": [],
   "source": [
    "# YOUR CODE HERE\n",
    "\n"
   ]
  },
  {
   "cell_type": "code",
   "execution_count": null,
   "metadata": {
    "id": "uDA2-kdcNRpC"
   },
   "outputs": [],
   "source": [
    "# YOUR CODE HERE\n",
    "# Use a new MinMaxScaller to rescale your the features in X and in the suspect dataset\n"
   ]
  },
  {
   "cell_type": "code",
   "execution_count": null,
   "metadata": {
    "id": "pmhdhMldqEFU"
   },
   "outputs": [],
   "source": [
    "# YOUR CODE HERE\n",
    "# create the new model\n",
    "\n",
    "# Fit the new model\n"
   ]
  },
  {
   "cell_type": "code",
   "execution_count": null,
   "metadata": {
    "id": "WH1c8fHLqnt1"
   },
   "outputs": [],
   "source": [
    "# YOUR CODE HERE\n",
    "# Make the predictions\n"
   ]
  },
  {
   "attachments": {},
   "cell_type": "markdown",
   "metadata": {
    "id": "1hdejQOyvpnh"
   },
   "source": [
    "**Keep only the suspects between 25 and 35 years old. Use the `age` values you predicted in the previous step.**\n"
   ]
  },
  {
   "cell_type": "code",
   "execution_count": null,
   "metadata": {
    "id": "tWOtRrIrv37W"
   },
   "outputs": [],
   "source": [
    "# YOUR CODE HERE\n"
   ]
  },
  {
   "cell_type": "markdown",
   "metadata": {
    "id": "w_7c5qApdFqs"
   },
   "source": [
    "**Q4. Which of these users remain suspects after filtering for those aged between 25 and 35?** (check all that apply)"
   ]
  },
  {
   "cell_type": "markdown",
   "metadata": {
    "id": "v46UQhUbUUWG"
   },
   "source": [
    "The SIMF is considering narrowing down the suspect pool by focusing on gender. As a preliminary step, they need to know the percentage of female suspects within the age range of 25 to 35 years old.\n",
    "\n",
    "Calculate and report the percentage of female suspects among those aged 25 to 35 years old from the suspects you identified previously.\n",
    "\n",
    "*Hint: In the provided dataset, 'gender' is coded with 1 representing male users and 2 representing female users.*"
   ]
  },
  {
   "cell_type": "code",
   "execution_count": null,
   "metadata": {
    "id": "SdP4TdFUUCZv"
   },
   "outputs": [],
   "source": [
    "# YOUR CODE HERE\n"
   ]
  },
  {
   "cell_type": "markdown",
   "metadata": {
    "id": "u4WdYw59UPGI"
   },
   "source": [
    "**Q5. What is the percentage of female users among the predicted suspects aged between 25 and 35 years old?**\n",
    "\n",
    "Round to 2 digits (e. g. 4.32)\n",
    "\n"
   ]
  },
  {
   "attachments": {},
   "cell_type": "markdown",
   "metadata": {
    "id": "ZvXi8grv1Mob"
   },
   "source": [
    "**What is the predicted age of a Female user with the following characteristics:**\n",
    "* tier = 2\n",
    "* following_rate = 2\n",
    "* followers_avg_age = 27\n",
    "* following_avg_age = 22\n",
    "* max_repetitive_punc = 0.06\n",
    "* num_of_hashtags_per_action = 0.8\n",
    "* emoji_count_per_action = 0.3\n",
    "* punctuations_per_action = 0.03\n",
    "* number_of_words_per_action = 7\n",
    "* avgCompletion = 12\n",
    "* avgTimeSpent = 0.13\n",
    "* avgDuration = 0.8\n",
    "* avgComments = 0.04\n",
    "* likeToDislikeRation = 0.76\n",
    "* creations = 10\n",
    "* content_views = 65\n",
    "* num_of_comments = 12\n",
    "* weekends_trails_watched_per_day = 0\n",
    "* weekdays_trails_watched_per_day = 0.00353\n",
    "* slot1_trails_watched_per_day = 0.032\n",
    "* slot2_trails_watched_per_day = 0\n",
    "* slot3_trails_watched_per_day = 0.004\n",
    "* slot4_trails_watched_per_day = 2\n",
    "* avgt2 = 39"
   ]
  },
  {
   "cell_type": "markdown",
   "metadata": {
    "id": "PETOLHuo1Mob"
   },
   "source": [
    "*hint: make sure the features and their order corresponds to the ones used for the training.*\n",
    "\n",
    "*hint 2: don't forget to reprocess the data as you did before*"
   ]
  },
  {
   "cell_type": "code",
   "execution_count": null,
   "metadata": {
    "id": "zaemJ5ch1Mob"
   },
   "outputs": [],
   "source": [
    "user_details = {\n",
    "    \"tier\": [2],\n",
    "    \"gender\": [2],\n",
    "    \"following_rate\": [2],\n",
    "    \"followers_avg_age\": [27],\n",
    "    \"following_avg_age\": [22],\n",
    "    \"max_repetitive_punc\": [0.06],\n",
    "    \"num_of_hashtags_per_action\": [0.8],\n",
    "    \"emoji_count_per_action\": [0.3],\n",
    "    \"punctuations_per_action\": [0.03],\n",
    "    \"number_of_words_per_action\": [7],\n",
    "    \"avgCompletion\": [12],\n",
    "    \"avgTimeSpent\": [0.13],\n",
    "    \"avgDuration\": [0.8],\n",
    "    \"avgComments\": [0.04],\n",
    "    \"likeToDislikeRation\": [0.76],\n",
    "    \"creations\": [10],\n",
    "    \"content_views\": [65],\n",
    "    \"num_of_comments\": [12],\n",
    "    \"weekends_trails_watched_per_day\": [0],\n",
    "    \"weekdays_trails_watched_per_day\": [0.00353],\n",
    "    \"slot1_trails_watched_per_day\": [0.032],\n",
    "    \"slot2_trails_watched_per_day\": [0],\n",
    "    \"slot3_trails_watched_per_day\": [0.004],\n",
    "    \"slot4_trails_watched_per_day\": [2],\n",
    "    \"avgt2\": [39]\n",
    "}\n",
    "\n",
    "# YOUR CODE HERE"
   ]
  },
  {
   "cell_type": "markdown",
   "metadata": {
    "id": "9JL--R9ZdPAC"
   },
   "source": [
    "**Q6. What is the predicted age of a female user with those characteristics using the regression model that you created?**\n",
    "\n",
    "Enter the rounded value as an integer (e. g. 21 if your result is 21.34 or 20.79)"
   ]
  },
  {
   "cell_type": "markdown",
   "metadata": {
    "id": "9kwLsR2Yq4-t"
   },
   "source": [
    "## Your investigation is progressing effectively, and the list of suspects is narrowing down.\n",
    "\n",
    "**Don't forget to answer the quiz and submit your code on Moodle before the end of the deadline.**"
   ]
  }
 ],
 "metadata": {
  "colab": {
   "provenance": []
  },
  "kernelspec": {
   "display_name": "intro-ml",
   "language": "python",
   "name": "python3"
  },
  "language_info": {
   "codemirror_mode": {
    "name": "ipython",
    "version": 3
   },
   "file_extension": ".py",
   "mimetype": "text/x-python",
   "name": "python",
   "nbconvert_exporter": "python",
   "pygments_lexer": "ipython3",
   "version": "3.12.9"
  }
 },
 "nbformat": 4,
 "nbformat_minor": 0
}
