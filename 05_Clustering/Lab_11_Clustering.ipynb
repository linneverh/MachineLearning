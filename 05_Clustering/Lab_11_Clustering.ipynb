{
  "cells": [
    {
      "cell_type": "markdown",
      "metadata": {
        "id": "view-in-github",
        "colab_type": "text"
      },
      "source": [
        "<a href=\"https://colab.research.google.com/github/michalis0/MGT-502-Data-Science-and-Machine-Learning/blob/main/05_Clustering/Lab_11_Clustering.ipynb\" target=\"_parent\"><img src=\"https://colab.research.google.com/assets/colab-badge.svg\" alt=\"Open In Colab\"/></a>"
      ]
    },
    {
      "cell_type": "code",
      "execution_count": 1,
      "id": "15dc4475-7f7d-4457-8762-bb031a0629b2",
      "metadata": {
        "id": "15dc4475-7f7d-4457-8762-bb031a0629b2"
      },
      "outputs": [],
      "source": [
        "# Import standard libraries\n",
        "import os\n",
        "os.environ[\"OMP_NUM_THREADS\"] = '1'\n",
        "import pandas as pd\n",
        "import numpy as np\n",
        "import seaborn as sns\n",
        "import matplotlib.pyplot as plt\n",
        "%matplotlib inline\n",
        "import time\n",
        "\n",
        "# ML import\n",
        "from sklearn import datasets        # datasets\n",
        "from sklearn.cluster import KMeans  # K-Means algorithm\n",
        "from sklearn.cluster import AgglomerativeClustering  # Hierarchical clustering\n",
        "from scipy.cluster.hierarchy import dendrogram, linkage # dendogram visualization"
      ]
    },
    {
      "cell_type": "markdown",
      "id": "a844a8c0-078c-4946-8927-e570469c601c",
      "metadata": {
        "id": "a844a8c0-078c-4946-8927-e570469c601c"
      },
      "source": [
        "# Clustering"
      ]
    },
    {
      "cell_type": "markdown",
      "id": "9984e553-36af-42c8-9522-dd090686c913",
      "metadata": {
        "id": "9984e553-36af-42c8-9522-dd090686c913"
      },
      "source": [
        "<img src='https://miro.medium.com/v2/resize:fit:4800/format:webp/0*ZxLMBwq9rmW9ZFuZ.jpg' width=\"800\">\n",
        "\n",
        "Source: [The difference between supervised and unsupervised learning](https://twitter.com/athena_schools/status/1063013435779223553), illustrated by [@Ciaraioch](https://twitter.com/Ciaraioch)\n"
      ]
    },
    {
      "cell_type": "markdown",
      "id": "4392fab0-671b-45ea-b27a-61a797c0e090",
      "metadata": {
        "id": "4392fab0-671b-45ea-b27a-61a797c0e090"
      },
      "source": [
        "## Content\n",
        "\n",
        "The goal of this walkthrough is to provide you with insights on clustering, focusing on two methods: K-Means and Hierarchical clustering. After presenting the main concepts, you will be introduced to the techniques to implement the algorithms in Python. Finally, it will be your turn to practice, using an application on customers of shopping mall.\n",
        "\n",
        "This notebook is organized as follows:\n",
        "- [Background](#Background)\n",
        "    - [Objective](#Objective)\n",
        "    - [Algorithm overview](#Algorithm-overview)\n",
        "- [Implementation](#Implementation)\n",
        "    - [Discover dataset](#Discover-dataset)\n",
        "    - [K-Means](#K-Means)\n",
        "        - [Implementing K-Means](#Implementing-K-Means)\n",
        "        - [Graphical representation](#Graphical-representation)\n",
        "        - [Elbow method](#Elbow-method)\n",
        "    - [Hierarchical clustering](#Hierarchical-clustering)\n",
        "        - [Implementing hierarchical (agglomerative) clustering](#Implementing-hierarchical-(agglomerative)-clustering)\n",
        "        - [Dendrogram visualization](#Dendrogram-visualization)\n",
        "    - [Runtime complexity](#Runtime-complexity)\n",
        "- [Your turn](#Your-turn)"
      ]
    },
    {
      "cell_type": "markdown",
      "id": "02a5570d-cf11-4ef6-90cd-f5bdef3a8d23",
      "metadata": {
        "id": "02a5570d-cf11-4ef6-90cd-f5bdef3a8d23"
      },
      "source": [
        "## Background\n",
        "\n",
        "### Objective\n",
        "\n",
        "Clustering aims at creating groups of data points with the goal to:\n",
        "- organize data into classes with high intra-class similarity and low inter-class similarity\n",
        "- find the class labels and the number of classes directly from the data (vs classification for which classes are defined)\n",
        "- find natural groupings among objects\n",
        "\n",
        "Clustering algorithms are thus **unsupervised learning** methods."
      ]
    },
    {
      "cell_type": "markdown",
      "id": "f8862104-1f60-4b53-91e3-959afa7494e1",
      "metadata": {
        "id": "f8862104-1f60-4b53-91e3-959afa7494e1"
      },
      "source": [
        "### Algorithm overview\n",
        "\n",
        "Here is a table describing different techniques available with the sklearn module `sklean.cluster`. The [documentation](https://scikit-learn.org/stable/modules/clustering.html) contains detailed description of each technique, you can explore it to deepen your understanding of each algorithm! You can also refer to the [Glossary](https://scikit-learn.org/stable/glossary.html) for definitions of technical terms.\n",
        "\n",
        "| Method name | Parameters | Usecase | Geometry (metric used) |\n",
        "| :- | :- | :- | :- |\n",
        "| [K-Means](https://scikit-learn.org/stable/modules/clustering.html#k-means) | Number of clusters | General-purpose, even cluster size, flat geometry, not too many clusters, inductive | Distances between points|\n",
        "| [Affinity propagation](https://scikit-learn.org/stable/modules/clustering.html#affinity-propagation) | Damping, sample preference | Many clusters, uneven cluster size, non-flat geometry, inductive | Graph distance (e.g. nearest-neighbor graph)|\n",
        "| [Mean-shift](https://scikit-learn.org/stable/modules/clustering.html#mean-shift) | Bandwidth | Many clusters, uneven cluster size, non-flat geometry, inductive | Distances between points|\n",
        "| [Spectral clustering](https://scikit-learn.org/stable/modules/clustering.html#spectral-clustering) | Number of clusters | Few clusters, even cluster size, non-flat geometry, transductive | Graph distance (e.g. nearest-neighbor graph)|\n",
        "| [Ward hierarchical clustering](https://scikit-learn.org/stable/modules/clustering.html#hierarchical-clustering) | Number of clusters or distance threshold | Many clusters, possibly connectivity constraints, transductive | Distances between points|\n",
        "| [Agglomerative clustering](https://scikit-learn.org/stable/modules/clustering.html#hierarchical-clustering) | Number of clusters or distance threshold, linkage type, distance| Many clusters, possibly connectivity constraints, non Euclidean distances, transductive | Any pairwise distance|\n",
        "| [DBSCAN](https://scikit-learn.org/stable/modules/clustering.html#dbscan) | Neighborhood size | Non-flat geometry, uneven cluster sizes, outlier removal, transductive | Distances between nearest points|\n",
        "| [OPTICS](https://scikit-learn.org/stable/modules/clustering.html#optics) | Minimum cluster membership | Non-flat geometry, uneven cluster sizes, variable cluster density, outlier removal, transductive | Distances between points|\n",
        "| [Gaussian mixtures](https://scikit-learn.org/stable/modules/mixture.html#mixture) | Many | Flat geometry, good for density estimation, inductive | Mahalanobis distances to  centers|\n",
        "| [BIRCH](https://scikit-learn.org/stable/modules/clustering.html#birch) | Branching factor, threshold, optional global clusterer | Large dataset, outlier removal, data reduction, inductive | Euclidean distance between points|\n",
        "| [Bisecting K-Means](https://scikit-learn.org/stable/modules/clustering.html#bisect-k-means) | Number of clusters | General-purpose, even cluster size, flat geometry, not too many clusters, inductive | Distances between points|\n",
        "\n",
        "\n"
      ]
    },
    {
      "cell_type": "markdown",
      "id": "497c7da7-5579-498a-884c-54e9425e5db8",
      "metadata": {
        "id": "497c7da7-5579-498a-884c-54e9425e5db8"
      },
      "source": [
        "Each method performs differently depending on the input data. They also differ in their complexity. The figure below illustrates these differences - check the computation time bottom right!\n",
        "\n",
        "<center>\n",
        "<img src='https://scikit-learn.org/stable/_images/sphx_glr_plot_cluster_comparison_001.png' width=\"800\">\n",
        "<center/>\n",
        "\n",
        "Source: [Scikit-learn Clustering Documentation](https://scikit-learn.org/stable/modules/clustering.html)       "
      ]
    },
    {
      "cell_type": "markdown",
      "id": "1b6a19ea-246b-4af3-bd04-885218a6ccff",
      "metadata": {
        "id": "1b6a19ea-246b-4af3-bd04-885218a6ccff"
      },
      "source": [
        "## Implementation"
      ]
    },
    {
      "cell_type": "markdown",
      "id": "9dd4274f-e942-4422-be1b-22805b54d3aa",
      "metadata": {
        "id": "9dd4274f-e942-4422-be1b-22805b54d3aa"
      },
      "source": [
        "### Discover dataset"
      ]
    },
    {
      "cell_type": "markdown",
      "id": "b53a67de-6ef7-4473-894c-0cdf5a6c9129",
      "metadata": {
        "id": "b53a67de-6ef7-4473-894c-0cdf5a6c9129"
      },
      "source": [
        "We're going to use the Iris dataset, which contains measurement for 3 different types of iris flowers: *setosa*, *versicolor*, and *virginica*:\n",
        "\n",
        "<img src='https://machinelearninghd.com/wp-content/uploads/2021/03/iris-dataset.png' width=\"600\">\n",
        "\n",
        "The data includes, for each Iris flower, measures of width and length of sepals and petals. The dataset was originally created by Sir R.A. Fisher. We can directly obtain the dataset from `sklearn`, via the `datasets` module, which contains several toy datasets ([Documentation](https://scikit-learn.org/stable/datasets/toy_dataset.html)). Here is the import line:\n",
        "\n",
        "```python\n",
        "from sklearn import datasets\n",
        "```\n",
        "\n",
        "The Iris dataset is a classic in ML and is often used to discover, for instance, classification, clustering, and dimensionality reduction. Let's discover it!"
      ]
    },
    {
      "cell_type": "code",
      "execution_count": 2,
      "id": "1e6cf6d2-18b1-4feb-b7d7-69b2c5ec235c",
      "metadata": {
        "id": "1e6cf6d2-18b1-4feb-b7d7-69b2c5ec235c"
      },
      "outputs": [],
      "source": [
        "# Load the Iris dataset from sklearn\n",
        "iris = datasets.load_iris()"
      ]
    },
    {
      "cell_type": "code",
      "execution_count": 3,
      "id": "3c41adab-7423-4816-b84c-ebcd628cb797",
      "metadata": {
        "colab": {
          "base_uri": "https://localhost:8080/"
        },
        "id": "3c41adab-7423-4816-b84c-ebcd628cb797",
        "outputId": "fce834d5-c1e5-4812-e468-6da9d740ad8f"
      },
      "outputs": [
        {
          "output_type": "stream",
          "name": "stdout",
          "text": [
            "The different types of irises are: ['setosa' 'versicolor' 'virginica']\n"
          ]
        }
      ],
      "source": [
        "print(\"The different types of irises are:\", iris.target_names)"
      ]
    },
    {
      "cell_type": "markdown",
      "id": "00f5e48e-287a-41e8-a47a-4d6968aaf3f0",
      "metadata": {
        "id": "00f5e48e-287a-41e8-a47a-4d6968aaf3f0"
      },
      "source": [
        "The Iris dataset is saved as a set of numpy arrays. We're going to transform it into a pandas dataframe.\n",
        "\n",
        "**Note:** We could have also used the numpy array format for k-means Clustering."
      ]
    },
    {
      "cell_type": "code",
      "execution_count": 5,
      "id": "d10bceb7-8086-4f02-b996-4749e03df271",
      "metadata": {
        "colab": {
          "base_uri": "https://localhost:8080/",
          "height": 206
        },
        "id": "d10bceb7-8086-4f02-b996-4749e03df271",
        "outputId": "d203ae84-5aad-40f6-8006-029be54091a5"
      },
      "outputs": [
        {
          "output_type": "execute_result",
          "data": {
            "text/plain": [
              "   sepal length (cm)  sepal width (cm)  petal length (cm)  petal width (cm)\n",
              "0                5.1               3.5                1.4               0.2\n",
              "1                4.9               3.0                1.4               0.2\n",
              "2                4.7               3.2                1.3               0.2\n",
              "3                4.6               3.1                1.5               0.2\n",
              "4                5.0               3.6                1.4               0.2"
            ],
            "text/html": [
              "\n",
              "  <div id=\"df-9665ee59-532e-4880-9ca2-1cdf20995305\" class=\"colab-df-container\">\n",
              "    <div>\n",
              "<style scoped>\n",
              "    .dataframe tbody tr th:only-of-type {\n",
              "        vertical-align: middle;\n",
              "    }\n",
              "\n",
              "    .dataframe tbody tr th {\n",
              "        vertical-align: top;\n",
              "    }\n",
              "\n",
              "    .dataframe thead th {\n",
              "        text-align: right;\n",
              "    }\n",
              "</style>\n",
              "<table border=\"1\" class=\"dataframe\">\n",
              "  <thead>\n",
              "    <tr style=\"text-align: right;\">\n",
              "      <th></th>\n",
              "      <th>sepal length (cm)</th>\n",
              "      <th>sepal width (cm)</th>\n",
              "      <th>petal length (cm)</th>\n",
              "      <th>petal width (cm)</th>\n",
              "    </tr>\n",
              "  </thead>\n",
              "  <tbody>\n",
              "    <tr>\n",
              "      <th>0</th>\n",
              "      <td>5.1</td>\n",
              "      <td>3.5</td>\n",
              "      <td>1.4</td>\n",
              "      <td>0.2</td>\n",
              "    </tr>\n",
              "    <tr>\n",
              "      <th>1</th>\n",
              "      <td>4.9</td>\n",
              "      <td>3.0</td>\n",
              "      <td>1.4</td>\n",
              "      <td>0.2</td>\n",
              "    </tr>\n",
              "    <tr>\n",
              "      <th>2</th>\n",
              "      <td>4.7</td>\n",
              "      <td>3.2</td>\n",
              "      <td>1.3</td>\n",
              "      <td>0.2</td>\n",
              "    </tr>\n",
              "    <tr>\n",
              "      <th>3</th>\n",
              "      <td>4.6</td>\n",
              "      <td>3.1</td>\n",
              "      <td>1.5</td>\n",
              "      <td>0.2</td>\n",
              "    </tr>\n",
              "    <tr>\n",
              "      <th>4</th>\n",
              "      <td>5.0</td>\n",
              "      <td>3.6</td>\n",
              "      <td>1.4</td>\n",
              "      <td>0.2</td>\n",
              "    </tr>\n",
              "  </tbody>\n",
              "</table>\n",
              "</div>\n",
              "    <div class=\"colab-df-buttons\">\n",
              "\n",
              "  <div class=\"colab-df-container\">\n",
              "    <button class=\"colab-df-convert\" onclick=\"convertToInteractive('df-9665ee59-532e-4880-9ca2-1cdf20995305')\"\n",
              "            title=\"Convert this dataframe to an interactive table.\"\n",
              "            style=\"display:none;\">\n",
              "\n",
              "  <svg xmlns=\"http://www.w3.org/2000/svg\" height=\"24px\" viewBox=\"0 -960 960 960\">\n",
              "    <path d=\"M120-120v-720h720v720H120Zm60-500h600v-160H180v160Zm220 220h160v-160H400v160Zm0 220h160v-160H400v160ZM180-400h160v-160H180v160Zm440 0h160v-160H620v160ZM180-180h160v-160H180v160Zm440 0h160v-160H620v160Z\"/>\n",
              "  </svg>\n",
              "    </button>\n",
              "\n",
              "  <style>\n",
              "    .colab-df-container {\n",
              "      display:flex;\n",
              "      gap: 12px;\n",
              "    }\n",
              "\n",
              "    .colab-df-convert {\n",
              "      background-color: #E8F0FE;\n",
              "      border: none;\n",
              "      border-radius: 50%;\n",
              "      cursor: pointer;\n",
              "      display: none;\n",
              "      fill: #1967D2;\n",
              "      height: 32px;\n",
              "      padding: 0 0 0 0;\n",
              "      width: 32px;\n",
              "    }\n",
              "\n",
              "    .colab-df-convert:hover {\n",
              "      background-color: #E2EBFA;\n",
              "      box-shadow: 0px 1px 2px rgba(60, 64, 67, 0.3), 0px 1px 3px 1px rgba(60, 64, 67, 0.15);\n",
              "      fill: #174EA6;\n",
              "    }\n",
              "\n",
              "    .colab-df-buttons div {\n",
              "      margin-bottom: 4px;\n",
              "    }\n",
              "\n",
              "    [theme=dark] .colab-df-convert {\n",
              "      background-color: #3B4455;\n",
              "      fill: #D2E3FC;\n",
              "    }\n",
              "\n",
              "    [theme=dark] .colab-df-convert:hover {\n",
              "      background-color: #434B5C;\n",
              "      box-shadow: 0px 1px 3px 1px rgba(0, 0, 0, 0.15);\n",
              "      filter: drop-shadow(0px 1px 2px rgba(0, 0, 0, 0.3));\n",
              "      fill: #FFFFFF;\n",
              "    }\n",
              "  </style>\n",
              "\n",
              "    <script>\n",
              "      const buttonEl =\n",
              "        document.querySelector('#df-9665ee59-532e-4880-9ca2-1cdf20995305 button.colab-df-convert');\n",
              "      buttonEl.style.display =\n",
              "        google.colab.kernel.accessAllowed ? 'block' : 'none';\n",
              "\n",
              "      async function convertToInteractive(key) {\n",
              "        const element = document.querySelector('#df-9665ee59-532e-4880-9ca2-1cdf20995305');\n",
              "        const dataTable =\n",
              "          await google.colab.kernel.invokeFunction('convertToInteractive',\n",
              "                                                    [key], {});\n",
              "        if (!dataTable) return;\n",
              "\n",
              "        const docLinkHtml = 'Like what you see? Visit the ' +\n",
              "          '<a target=\"_blank\" href=https://colab.research.google.com/notebooks/data_table.ipynb>data table notebook</a>'\n",
              "          + ' to learn more about interactive tables.';\n",
              "        element.innerHTML = '';\n",
              "        dataTable['output_type'] = 'display_data';\n",
              "        await google.colab.output.renderOutput(dataTable, element);\n",
              "        const docLink = document.createElement('div');\n",
              "        docLink.innerHTML = docLinkHtml;\n",
              "        element.appendChild(docLink);\n",
              "      }\n",
              "    </script>\n",
              "  </div>\n",
              "\n",
              "\n",
              "<div id=\"df-82b65a2d-1f6b-4e27-b827-0d6f31247411\">\n",
              "  <button class=\"colab-df-quickchart\" onclick=\"quickchart('df-82b65a2d-1f6b-4e27-b827-0d6f31247411')\"\n",
              "            title=\"Suggest charts\"\n",
              "            style=\"display:none;\">\n",
              "\n",
              "<svg xmlns=\"http://www.w3.org/2000/svg\" height=\"24px\"viewBox=\"0 0 24 24\"\n",
              "     width=\"24px\">\n",
              "    <g>\n",
              "        <path d=\"M19 3H5c-1.1 0-2 .9-2 2v14c0 1.1.9 2 2 2h14c1.1 0 2-.9 2-2V5c0-1.1-.9-2-2-2zM9 17H7v-7h2v7zm4 0h-2V7h2v10zm4 0h-2v-4h2v4z\"/>\n",
              "    </g>\n",
              "</svg>\n",
              "  </button>\n",
              "\n",
              "<style>\n",
              "  .colab-df-quickchart {\n",
              "      --bg-color: #E8F0FE;\n",
              "      --fill-color: #1967D2;\n",
              "      --hover-bg-color: #E2EBFA;\n",
              "      --hover-fill-color: #174EA6;\n",
              "      --disabled-fill-color: #AAA;\n",
              "      --disabled-bg-color: #DDD;\n",
              "  }\n",
              "\n",
              "  [theme=dark] .colab-df-quickchart {\n",
              "      --bg-color: #3B4455;\n",
              "      --fill-color: #D2E3FC;\n",
              "      --hover-bg-color: #434B5C;\n",
              "      --hover-fill-color: #FFFFFF;\n",
              "      --disabled-bg-color: #3B4455;\n",
              "      --disabled-fill-color: #666;\n",
              "  }\n",
              "\n",
              "  .colab-df-quickchart {\n",
              "    background-color: var(--bg-color);\n",
              "    border: none;\n",
              "    border-radius: 50%;\n",
              "    cursor: pointer;\n",
              "    display: none;\n",
              "    fill: var(--fill-color);\n",
              "    height: 32px;\n",
              "    padding: 0;\n",
              "    width: 32px;\n",
              "  }\n",
              "\n",
              "  .colab-df-quickchart:hover {\n",
              "    background-color: var(--hover-bg-color);\n",
              "    box-shadow: 0 1px 2px rgba(60, 64, 67, 0.3), 0 1px 3px 1px rgba(60, 64, 67, 0.15);\n",
              "    fill: var(--button-hover-fill-color);\n",
              "  }\n",
              "\n",
              "  .colab-df-quickchart-complete:disabled,\n",
              "  .colab-df-quickchart-complete:disabled:hover {\n",
              "    background-color: var(--disabled-bg-color);\n",
              "    fill: var(--disabled-fill-color);\n",
              "    box-shadow: none;\n",
              "  }\n",
              "\n",
              "  .colab-df-spinner {\n",
              "    border: 2px solid var(--fill-color);\n",
              "    border-color: transparent;\n",
              "    border-bottom-color: var(--fill-color);\n",
              "    animation:\n",
              "      spin 1s steps(1) infinite;\n",
              "  }\n",
              "\n",
              "  @keyframes spin {\n",
              "    0% {\n",
              "      border-color: transparent;\n",
              "      border-bottom-color: var(--fill-color);\n",
              "      border-left-color: var(--fill-color);\n",
              "    }\n",
              "    20% {\n",
              "      border-color: transparent;\n",
              "      border-left-color: var(--fill-color);\n",
              "      border-top-color: var(--fill-color);\n",
              "    }\n",
              "    30% {\n",
              "      border-color: transparent;\n",
              "      border-left-color: var(--fill-color);\n",
              "      border-top-color: var(--fill-color);\n",
              "      border-right-color: var(--fill-color);\n",
              "    }\n",
              "    40% {\n",
              "      border-color: transparent;\n",
              "      border-right-color: var(--fill-color);\n",
              "      border-top-color: var(--fill-color);\n",
              "    }\n",
              "    60% {\n",
              "      border-color: transparent;\n",
              "      border-right-color: var(--fill-color);\n",
              "    }\n",
              "    80% {\n",
              "      border-color: transparent;\n",
              "      border-right-color: var(--fill-color);\n",
              "      border-bottom-color: var(--fill-color);\n",
              "    }\n",
              "    90% {\n",
              "      border-color: transparent;\n",
              "      border-bottom-color: var(--fill-color);\n",
              "    }\n",
              "  }\n",
              "</style>\n",
              "\n",
              "  <script>\n",
              "    async function quickchart(key) {\n",
              "      const quickchartButtonEl =\n",
              "        document.querySelector('#' + key + ' button');\n",
              "      quickchartButtonEl.disabled = true;  // To prevent multiple clicks.\n",
              "      quickchartButtonEl.classList.add('colab-df-spinner');\n",
              "      try {\n",
              "        const charts = await google.colab.kernel.invokeFunction(\n",
              "            'suggestCharts', [key], {});\n",
              "      } catch (error) {\n",
              "        console.error('Error during call to suggestCharts:', error);\n",
              "      }\n",
              "      quickchartButtonEl.classList.remove('colab-df-spinner');\n",
              "      quickchartButtonEl.classList.add('colab-df-quickchart-complete');\n",
              "    }\n",
              "    (() => {\n",
              "      let quickchartButtonEl =\n",
              "        document.querySelector('#df-82b65a2d-1f6b-4e27-b827-0d6f31247411 button');\n",
              "      quickchartButtonEl.style.display =\n",
              "        google.colab.kernel.accessAllowed ? 'block' : 'none';\n",
              "    })();\n",
              "  </script>\n",
              "</div>\n",
              "    </div>\n",
              "  </div>\n"
            ],
            "application/vnd.google.colaboratory.intrinsic+json": {
              "type": "dataframe",
              "variable_name": "X",
              "summary": "{\n  \"name\": \"X\",\n  \"rows\": 150,\n  \"fields\": [\n    {\n      \"column\": \"sepal length (cm)\",\n      \"properties\": {\n        \"dtype\": \"number\",\n        \"std\": 0.828066127977863,\n        \"min\": 4.3,\n        \"max\": 7.9,\n        \"num_unique_values\": 35,\n        \"samples\": [\n          6.2,\n          4.5,\n          5.6\n        ],\n        \"semantic_type\": \"\",\n        \"description\": \"\"\n      }\n    },\n    {\n      \"column\": \"sepal width (cm)\",\n      \"properties\": {\n        \"dtype\": \"number\",\n        \"std\": 0.4358662849366982,\n        \"min\": 2.0,\n        \"max\": 4.4,\n        \"num_unique_values\": 23,\n        \"samples\": [\n          2.3,\n          4.0,\n          3.5\n        ],\n        \"semantic_type\": \"\",\n        \"description\": \"\"\n      }\n    },\n    {\n      \"column\": \"petal length (cm)\",\n      \"properties\": {\n        \"dtype\": \"number\",\n        \"std\": 1.7652982332594662,\n        \"min\": 1.0,\n        \"max\": 6.9,\n        \"num_unique_values\": 43,\n        \"samples\": [\n          6.7,\n          3.8,\n          3.7\n        ],\n        \"semantic_type\": \"\",\n        \"description\": \"\"\n      }\n    },\n    {\n      \"column\": \"petal width (cm)\",\n      \"properties\": {\n        \"dtype\": \"number\",\n        \"std\": 0.7622376689603465,\n        \"min\": 0.1,\n        \"max\": 2.5,\n        \"num_unique_values\": 22,\n        \"samples\": [\n          0.2,\n          1.2,\n          1.3\n        ],\n        \"semantic_type\": \"\",\n        \"description\": \"\"\n      }\n    }\n  ]\n}"
            }
          },
          "metadata": {},
          "execution_count": 5
        }
      ],
      "source": [
        "# Note that our dataframe only includes data about the flowers, and NOT the actual type of flowers\n",
        "X = pd.DataFrame(iris.data, columns=iris.feature_names)\n",
        "X.head()"
      ]
    },
    {
      "cell_type": "markdown",
      "id": "46d3df7c-c633-4e38-be40-faca60beed28",
      "metadata": {
        "id": "46d3df7c-c633-4e38-be40-faca60beed28"
      },
      "source": [
        "We have 4 different metrics stored in X. For now we'll work with only the sepal features: \"sepal lenght (cm)\" and \"sepal width (cm)\":"
      ]
    },
    {
      "cell_type": "code",
      "execution_count": 6,
      "id": "2336b445-63f3-4c63-a4b3-b9becb848118",
      "metadata": {
        "colab": {
          "base_uri": "https://localhost:8080/",
          "height": 206
        },
        "id": "2336b445-63f3-4c63-a4b3-b9becb848118",
        "outputId": "f90f36bb-c541-4550-c343-e1d06487e4ba"
      },
      "outputs": [
        {
          "output_type": "execute_result",
          "data": {
            "text/plain": [
              "   sepal length (cm)  sepal width (cm)\n",
              "0                5.1               3.5\n",
              "1                4.9               3.0\n",
              "2                4.7               3.2\n",
              "3                4.6               3.1\n",
              "4                5.0               3.6"
            ],
            "text/html": [
              "\n",
              "  <div id=\"df-1bfafd31-687e-41ad-9ed2-f510240502f7\" class=\"colab-df-container\">\n",
              "    <div>\n",
              "<style scoped>\n",
              "    .dataframe tbody tr th:only-of-type {\n",
              "        vertical-align: middle;\n",
              "    }\n",
              "\n",
              "    .dataframe tbody tr th {\n",
              "        vertical-align: top;\n",
              "    }\n",
              "\n",
              "    .dataframe thead th {\n",
              "        text-align: right;\n",
              "    }\n",
              "</style>\n",
              "<table border=\"1\" class=\"dataframe\">\n",
              "  <thead>\n",
              "    <tr style=\"text-align: right;\">\n",
              "      <th></th>\n",
              "      <th>sepal length (cm)</th>\n",
              "      <th>sepal width (cm)</th>\n",
              "    </tr>\n",
              "  </thead>\n",
              "  <tbody>\n",
              "    <tr>\n",
              "      <th>0</th>\n",
              "      <td>5.1</td>\n",
              "      <td>3.5</td>\n",
              "    </tr>\n",
              "    <tr>\n",
              "      <th>1</th>\n",
              "      <td>4.9</td>\n",
              "      <td>3.0</td>\n",
              "    </tr>\n",
              "    <tr>\n",
              "      <th>2</th>\n",
              "      <td>4.7</td>\n",
              "      <td>3.2</td>\n",
              "    </tr>\n",
              "    <tr>\n",
              "      <th>3</th>\n",
              "      <td>4.6</td>\n",
              "      <td>3.1</td>\n",
              "    </tr>\n",
              "    <tr>\n",
              "      <th>4</th>\n",
              "      <td>5.0</td>\n",
              "      <td>3.6</td>\n",
              "    </tr>\n",
              "  </tbody>\n",
              "</table>\n",
              "</div>\n",
              "    <div class=\"colab-df-buttons\">\n",
              "\n",
              "  <div class=\"colab-df-container\">\n",
              "    <button class=\"colab-df-convert\" onclick=\"convertToInteractive('df-1bfafd31-687e-41ad-9ed2-f510240502f7')\"\n",
              "            title=\"Convert this dataframe to an interactive table.\"\n",
              "            style=\"display:none;\">\n",
              "\n",
              "  <svg xmlns=\"http://www.w3.org/2000/svg\" height=\"24px\" viewBox=\"0 -960 960 960\">\n",
              "    <path d=\"M120-120v-720h720v720H120Zm60-500h600v-160H180v160Zm220 220h160v-160H400v160Zm0 220h160v-160H400v160ZM180-400h160v-160H180v160Zm440 0h160v-160H620v160ZM180-180h160v-160H180v160Zm440 0h160v-160H620v160Z\"/>\n",
              "  </svg>\n",
              "    </button>\n",
              "\n",
              "  <style>\n",
              "    .colab-df-container {\n",
              "      display:flex;\n",
              "      gap: 12px;\n",
              "    }\n",
              "\n",
              "    .colab-df-convert {\n",
              "      background-color: #E8F0FE;\n",
              "      border: none;\n",
              "      border-radius: 50%;\n",
              "      cursor: pointer;\n",
              "      display: none;\n",
              "      fill: #1967D2;\n",
              "      height: 32px;\n",
              "      padding: 0 0 0 0;\n",
              "      width: 32px;\n",
              "    }\n",
              "\n",
              "    .colab-df-convert:hover {\n",
              "      background-color: #E2EBFA;\n",
              "      box-shadow: 0px 1px 2px rgba(60, 64, 67, 0.3), 0px 1px 3px 1px rgba(60, 64, 67, 0.15);\n",
              "      fill: #174EA6;\n",
              "    }\n",
              "\n",
              "    .colab-df-buttons div {\n",
              "      margin-bottom: 4px;\n",
              "    }\n",
              "\n",
              "    [theme=dark] .colab-df-convert {\n",
              "      background-color: #3B4455;\n",
              "      fill: #D2E3FC;\n",
              "    }\n",
              "\n",
              "    [theme=dark] .colab-df-convert:hover {\n",
              "      background-color: #434B5C;\n",
              "      box-shadow: 0px 1px 3px 1px rgba(0, 0, 0, 0.15);\n",
              "      filter: drop-shadow(0px 1px 2px rgba(0, 0, 0, 0.3));\n",
              "      fill: #FFFFFF;\n",
              "    }\n",
              "  </style>\n",
              "\n",
              "    <script>\n",
              "      const buttonEl =\n",
              "        document.querySelector('#df-1bfafd31-687e-41ad-9ed2-f510240502f7 button.colab-df-convert');\n",
              "      buttonEl.style.display =\n",
              "        google.colab.kernel.accessAllowed ? 'block' : 'none';\n",
              "\n",
              "      async function convertToInteractive(key) {\n",
              "        const element = document.querySelector('#df-1bfafd31-687e-41ad-9ed2-f510240502f7');\n",
              "        const dataTable =\n",
              "          await google.colab.kernel.invokeFunction('convertToInteractive',\n",
              "                                                    [key], {});\n",
              "        if (!dataTable) return;\n",
              "\n",
              "        const docLinkHtml = 'Like what you see? Visit the ' +\n",
              "          '<a target=\"_blank\" href=https://colab.research.google.com/notebooks/data_table.ipynb>data table notebook</a>'\n",
              "          + ' to learn more about interactive tables.';\n",
              "        element.innerHTML = '';\n",
              "        dataTable['output_type'] = 'display_data';\n",
              "        await google.colab.output.renderOutput(dataTable, element);\n",
              "        const docLink = document.createElement('div');\n",
              "        docLink.innerHTML = docLinkHtml;\n",
              "        element.appendChild(docLink);\n",
              "      }\n",
              "    </script>\n",
              "  </div>\n",
              "\n",
              "\n",
              "<div id=\"df-d18d2efd-e5c5-4e6e-97ad-52cbfd739636\">\n",
              "  <button class=\"colab-df-quickchart\" onclick=\"quickchart('df-d18d2efd-e5c5-4e6e-97ad-52cbfd739636')\"\n",
              "            title=\"Suggest charts\"\n",
              "            style=\"display:none;\">\n",
              "\n",
              "<svg xmlns=\"http://www.w3.org/2000/svg\" height=\"24px\"viewBox=\"0 0 24 24\"\n",
              "     width=\"24px\">\n",
              "    <g>\n",
              "        <path d=\"M19 3H5c-1.1 0-2 .9-2 2v14c0 1.1.9 2 2 2h14c1.1 0 2-.9 2-2V5c0-1.1-.9-2-2-2zM9 17H7v-7h2v7zm4 0h-2V7h2v10zm4 0h-2v-4h2v4z\"/>\n",
              "    </g>\n",
              "</svg>\n",
              "  </button>\n",
              "\n",
              "<style>\n",
              "  .colab-df-quickchart {\n",
              "      --bg-color: #E8F0FE;\n",
              "      --fill-color: #1967D2;\n",
              "      --hover-bg-color: #E2EBFA;\n",
              "      --hover-fill-color: #174EA6;\n",
              "      --disabled-fill-color: #AAA;\n",
              "      --disabled-bg-color: #DDD;\n",
              "  }\n",
              "\n",
              "  [theme=dark] .colab-df-quickchart {\n",
              "      --bg-color: #3B4455;\n",
              "      --fill-color: #D2E3FC;\n",
              "      --hover-bg-color: #434B5C;\n",
              "      --hover-fill-color: #FFFFFF;\n",
              "      --disabled-bg-color: #3B4455;\n",
              "      --disabled-fill-color: #666;\n",
              "  }\n",
              "\n",
              "  .colab-df-quickchart {\n",
              "    background-color: var(--bg-color);\n",
              "    border: none;\n",
              "    border-radius: 50%;\n",
              "    cursor: pointer;\n",
              "    display: none;\n",
              "    fill: var(--fill-color);\n",
              "    height: 32px;\n",
              "    padding: 0;\n",
              "    width: 32px;\n",
              "  }\n",
              "\n",
              "  .colab-df-quickchart:hover {\n",
              "    background-color: var(--hover-bg-color);\n",
              "    box-shadow: 0 1px 2px rgba(60, 64, 67, 0.3), 0 1px 3px 1px rgba(60, 64, 67, 0.15);\n",
              "    fill: var(--button-hover-fill-color);\n",
              "  }\n",
              "\n",
              "  .colab-df-quickchart-complete:disabled,\n",
              "  .colab-df-quickchart-complete:disabled:hover {\n",
              "    background-color: var(--disabled-bg-color);\n",
              "    fill: var(--disabled-fill-color);\n",
              "    box-shadow: none;\n",
              "  }\n",
              "\n",
              "  .colab-df-spinner {\n",
              "    border: 2px solid var(--fill-color);\n",
              "    border-color: transparent;\n",
              "    border-bottom-color: var(--fill-color);\n",
              "    animation:\n",
              "      spin 1s steps(1) infinite;\n",
              "  }\n",
              "\n",
              "  @keyframes spin {\n",
              "    0% {\n",
              "      border-color: transparent;\n",
              "      border-bottom-color: var(--fill-color);\n",
              "      border-left-color: var(--fill-color);\n",
              "    }\n",
              "    20% {\n",
              "      border-color: transparent;\n",
              "      border-left-color: var(--fill-color);\n",
              "      border-top-color: var(--fill-color);\n",
              "    }\n",
              "    30% {\n",
              "      border-color: transparent;\n",
              "      border-left-color: var(--fill-color);\n",
              "      border-top-color: var(--fill-color);\n",
              "      border-right-color: var(--fill-color);\n",
              "    }\n",
              "    40% {\n",
              "      border-color: transparent;\n",
              "      border-right-color: var(--fill-color);\n",
              "      border-top-color: var(--fill-color);\n",
              "    }\n",
              "    60% {\n",
              "      border-color: transparent;\n",
              "      border-right-color: var(--fill-color);\n",
              "    }\n",
              "    80% {\n",
              "      border-color: transparent;\n",
              "      border-right-color: var(--fill-color);\n",
              "      border-bottom-color: var(--fill-color);\n",
              "    }\n",
              "    90% {\n",
              "      border-color: transparent;\n",
              "      border-bottom-color: var(--fill-color);\n",
              "    }\n",
              "  }\n",
              "</style>\n",
              "\n",
              "  <script>\n",
              "    async function quickchart(key) {\n",
              "      const quickchartButtonEl =\n",
              "        document.querySelector('#' + key + ' button');\n",
              "      quickchartButtonEl.disabled = true;  // To prevent multiple clicks.\n",
              "      quickchartButtonEl.classList.add('colab-df-spinner');\n",
              "      try {\n",
              "        const charts = await google.colab.kernel.invokeFunction(\n",
              "            'suggestCharts', [key], {});\n",
              "      } catch (error) {\n",
              "        console.error('Error during call to suggestCharts:', error);\n",
              "      }\n",
              "      quickchartButtonEl.classList.remove('colab-df-spinner');\n",
              "      quickchartButtonEl.classList.add('colab-df-quickchart-complete');\n",
              "    }\n",
              "    (() => {\n",
              "      let quickchartButtonEl =\n",
              "        document.querySelector('#df-d18d2efd-e5c5-4e6e-97ad-52cbfd739636 button');\n",
              "      quickchartButtonEl.style.display =\n",
              "        google.colab.kernel.accessAllowed ? 'block' : 'none';\n",
              "    })();\n",
              "  </script>\n",
              "</div>\n",
              "    </div>\n",
              "  </div>\n"
            ],
            "application/vnd.google.colaboratory.intrinsic+json": {
              "type": "dataframe",
              "variable_name": "X_sepal",
              "summary": "{\n  \"name\": \"X_sepal\",\n  \"rows\": 150,\n  \"fields\": [\n    {\n      \"column\": \"sepal length (cm)\",\n      \"properties\": {\n        \"dtype\": \"number\",\n        \"std\": 0.828066127977863,\n        \"min\": 4.3,\n        \"max\": 7.9,\n        \"num_unique_values\": 35,\n        \"samples\": [\n          6.2,\n          4.5,\n          5.6\n        ],\n        \"semantic_type\": \"\",\n        \"description\": \"\"\n      }\n    },\n    {\n      \"column\": \"sepal width (cm)\",\n      \"properties\": {\n        \"dtype\": \"number\",\n        \"std\": 0.4358662849366982,\n        \"min\": 2.0,\n        \"max\": 4.4,\n        \"num_unique_values\": 23,\n        \"samples\": [\n          2.3,\n          4.0,\n          3.5\n        ],\n        \"semantic_type\": \"\",\n        \"description\": \"\"\n      }\n    }\n  ]\n}"
            }
          },
          "metadata": {},
          "execution_count": 6
        }
      ],
      "source": [
        "# Dataframe with sepal features\n",
        "X_sepal = X.loc[:, [\"sepal length (cm)\",\"sepal width (cm)\"]]\n",
        "X_sepal.head()"
      ]
    },
    {
      "cell_type": "markdown",
      "id": "0e0e3609-6109-4ab4-b240-f145d45d3f3b",
      "metadata": {
        "id": "0e0e3609-6109-4ab4-b240-f145d45d3f3b"
      },
      "source": [
        "The species are encoded by labels:"
      ]
    },
    {
      "cell_type": "code",
      "execution_count": 7,
      "id": "14754d17-d467-4dde-b18a-389e4b51d6d2",
      "metadata": {
        "colab": {
          "base_uri": "https://localhost:8080/"
        },
        "id": "14754d17-d467-4dde-b18a-389e4b51d6d2",
        "outputId": "812a5c97-85a4-435b-c82b-fc8203bb2f92"
      },
      "outputs": [
        {
          "output_type": "stream",
          "name": "stdout",
          "text": [
            "Species are encoded as: [0 0 0 0 0 0 0 0 0 0 0 0 0 0 0 0 0 0 0 0 0 0 0 0 0 0 0 0 0 0 0 0 0 0 0 0 0\n",
            " 0 0 0 0 0 0 0 0 0 0 0 0 0 1 1 1 1 1 1 1 1 1 1 1 1 1 1 1 1 1 1 1 1 1 1 1 1\n",
            " 1 1 1 1 1 1 1 1 1 1 1 1 1 1 1 1 1 1 1 1 1 1 1 1 1 1 2 2 2 2 2 2 2 2 2 2 2\n",
            " 2 2 2 2 2 2 2 2 2 2 2 2 2 2 2 2 2 2 2 2 2 2 2 2 2 2 2 2 2 2 2 2 2 2 2 2 2\n",
            " 2 2]\n"
          ]
        }
      ],
      "source": [
        "print(\"Species are encoded as:\", iris.target)"
      ]
    },
    {
      "cell_type": "markdown",
      "id": "9d678b0d-7160-49a1-8fd4-f4d7555b7ae5",
      "metadata": {
        "id": "9d678b0d-7160-49a1-8fd4-f4d7555b7ae5"
      },
      "source": [
        "We save these labels in a dataframe, indicating for each observation (flower) which kind it is."
      ]
    },
    {
      "cell_type": "code",
      "execution_count": 8,
      "id": "2344a194-8cb4-4395-822b-2eebbd31fc12",
      "metadata": {
        "colab": {
          "base_uri": "https://localhost:8080/",
          "height": 206
        },
        "id": "2344a194-8cb4-4395-822b-2eebbd31fc12",
        "outputId": "38811ef5-26d1-4bcf-915b-c58fde5b6d97"
      },
      "outputs": [
        {
          "output_type": "execute_result",
          "data": {
            "text/plain": [
              "   Flower_type\n",
              "0            0\n",
              "1            0\n",
              "2            0\n",
              "3            0\n",
              "4            0"
            ],
            "text/html": [
              "\n",
              "  <div id=\"df-77aef7d0-1a18-4988-9748-457d55cfe981\" class=\"colab-df-container\">\n",
              "    <div>\n",
              "<style scoped>\n",
              "    .dataframe tbody tr th:only-of-type {\n",
              "        vertical-align: middle;\n",
              "    }\n",
              "\n",
              "    .dataframe tbody tr th {\n",
              "        vertical-align: top;\n",
              "    }\n",
              "\n",
              "    .dataframe thead th {\n",
              "        text-align: right;\n",
              "    }\n",
              "</style>\n",
              "<table border=\"1\" class=\"dataframe\">\n",
              "  <thead>\n",
              "    <tr style=\"text-align: right;\">\n",
              "      <th></th>\n",
              "      <th>Flower_type</th>\n",
              "    </tr>\n",
              "  </thead>\n",
              "  <tbody>\n",
              "    <tr>\n",
              "      <th>0</th>\n",
              "      <td>0</td>\n",
              "    </tr>\n",
              "    <tr>\n",
              "      <th>1</th>\n",
              "      <td>0</td>\n",
              "    </tr>\n",
              "    <tr>\n",
              "      <th>2</th>\n",
              "      <td>0</td>\n",
              "    </tr>\n",
              "    <tr>\n",
              "      <th>3</th>\n",
              "      <td>0</td>\n",
              "    </tr>\n",
              "    <tr>\n",
              "      <th>4</th>\n",
              "      <td>0</td>\n",
              "    </tr>\n",
              "  </tbody>\n",
              "</table>\n",
              "</div>\n",
              "    <div class=\"colab-df-buttons\">\n",
              "\n",
              "  <div class=\"colab-df-container\">\n",
              "    <button class=\"colab-df-convert\" onclick=\"convertToInteractive('df-77aef7d0-1a18-4988-9748-457d55cfe981')\"\n",
              "            title=\"Convert this dataframe to an interactive table.\"\n",
              "            style=\"display:none;\">\n",
              "\n",
              "  <svg xmlns=\"http://www.w3.org/2000/svg\" height=\"24px\" viewBox=\"0 -960 960 960\">\n",
              "    <path d=\"M120-120v-720h720v720H120Zm60-500h600v-160H180v160Zm220 220h160v-160H400v160Zm0 220h160v-160H400v160ZM180-400h160v-160H180v160Zm440 0h160v-160H620v160ZM180-180h160v-160H180v160Zm440 0h160v-160H620v160Z\"/>\n",
              "  </svg>\n",
              "    </button>\n",
              "\n",
              "  <style>\n",
              "    .colab-df-container {\n",
              "      display:flex;\n",
              "      gap: 12px;\n",
              "    }\n",
              "\n",
              "    .colab-df-convert {\n",
              "      background-color: #E8F0FE;\n",
              "      border: none;\n",
              "      border-radius: 50%;\n",
              "      cursor: pointer;\n",
              "      display: none;\n",
              "      fill: #1967D2;\n",
              "      height: 32px;\n",
              "      padding: 0 0 0 0;\n",
              "      width: 32px;\n",
              "    }\n",
              "\n",
              "    .colab-df-convert:hover {\n",
              "      background-color: #E2EBFA;\n",
              "      box-shadow: 0px 1px 2px rgba(60, 64, 67, 0.3), 0px 1px 3px 1px rgba(60, 64, 67, 0.15);\n",
              "      fill: #174EA6;\n",
              "    }\n",
              "\n",
              "    .colab-df-buttons div {\n",
              "      margin-bottom: 4px;\n",
              "    }\n",
              "\n",
              "    [theme=dark] .colab-df-convert {\n",
              "      background-color: #3B4455;\n",
              "      fill: #D2E3FC;\n",
              "    }\n",
              "\n",
              "    [theme=dark] .colab-df-convert:hover {\n",
              "      background-color: #434B5C;\n",
              "      box-shadow: 0px 1px 3px 1px rgba(0, 0, 0, 0.15);\n",
              "      filter: drop-shadow(0px 1px 2px rgba(0, 0, 0, 0.3));\n",
              "      fill: #FFFFFF;\n",
              "    }\n",
              "  </style>\n",
              "\n",
              "    <script>\n",
              "      const buttonEl =\n",
              "        document.querySelector('#df-77aef7d0-1a18-4988-9748-457d55cfe981 button.colab-df-convert');\n",
              "      buttonEl.style.display =\n",
              "        google.colab.kernel.accessAllowed ? 'block' : 'none';\n",
              "\n",
              "      async function convertToInteractive(key) {\n",
              "        const element = document.querySelector('#df-77aef7d0-1a18-4988-9748-457d55cfe981');\n",
              "        const dataTable =\n",
              "          await google.colab.kernel.invokeFunction('convertToInteractive',\n",
              "                                                    [key], {});\n",
              "        if (!dataTable) return;\n",
              "\n",
              "        const docLinkHtml = 'Like what you see? Visit the ' +\n",
              "          '<a target=\"_blank\" href=https://colab.research.google.com/notebooks/data_table.ipynb>data table notebook</a>'\n",
              "          + ' to learn more about interactive tables.';\n",
              "        element.innerHTML = '';\n",
              "        dataTable['output_type'] = 'display_data';\n",
              "        await google.colab.output.renderOutput(dataTable, element);\n",
              "        const docLink = document.createElement('div');\n",
              "        docLink.innerHTML = docLinkHtml;\n",
              "        element.appendChild(docLink);\n",
              "      }\n",
              "    </script>\n",
              "  </div>\n",
              "\n",
              "\n",
              "<div id=\"df-157ac8d3-b846-4fb8-b1f5-6075cf5583a6\">\n",
              "  <button class=\"colab-df-quickchart\" onclick=\"quickchart('df-157ac8d3-b846-4fb8-b1f5-6075cf5583a6')\"\n",
              "            title=\"Suggest charts\"\n",
              "            style=\"display:none;\">\n",
              "\n",
              "<svg xmlns=\"http://www.w3.org/2000/svg\" height=\"24px\"viewBox=\"0 0 24 24\"\n",
              "     width=\"24px\">\n",
              "    <g>\n",
              "        <path d=\"M19 3H5c-1.1 0-2 .9-2 2v14c0 1.1.9 2 2 2h14c1.1 0 2-.9 2-2V5c0-1.1-.9-2-2-2zM9 17H7v-7h2v7zm4 0h-2V7h2v10zm4 0h-2v-4h2v4z\"/>\n",
              "    </g>\n",
              "</svg>\n",
              "  </button>\n",
              "\n",
              "<style>\n",
              "  .colab-df-quickchart {\n",
              "      --bg-color: #E8F0FE;\n",
              "      --fill-color: #1967D2;\n",
              "      --hover-bg-color: #E2EBFA;\n",
              "      --hover-fill-color: #174EA6;\n",
              "      --disabled-fill-color: #AAA;\n",
              "      --disabled-bg-color: #DDD;\n",
              "  }\n",
              "\n",
              "  [theme=dark] .colab-df-quickchart {\n",
              "      --bg-color: #3B4455;\n",
              "      --fill-color: #D2E3FC;\n",
              "      --hover-bg-color: #434B5C;\n",
              "      --hover-fill-color: #FFFFFF;\n",
              "      --disabled-bg-color: #3B4455;\n",
              "      --disabled-fill-color: #666;\n",
              "  }\n",
              "\n",
              "  .colab-df-quickchart {\n",
              "    background-color: var(--bg-color);\n",
              "    border: none;\n",
              "    border-radius: 50%;\n",
              "    cursor: pointer;\n",
              "    display: none;\n",
              "    fill: var(--fill-color);\n",
              "    height: 32px;\n",
              "    padding: 0;\n",
              "    width: 32px;\n",
              "  }\n",
              "\n",
              "  .colab-df-quickchart:hover {\n",
              "    background-color: var(--hover-bg-color);\n",
              "    box-shadow: 0 1px 2px rgba(60, 64, 67, 0.3), 0 1px 3px 1px rgba(60, 64, 67, 0.15);\n",
              "    fill: var(--button-hover-fill-color);\n",
              "  }\n",
              "\n",
              "  .colab-df-quickchart-complete:disabled,\n",
              "  .colab-df-quickchart-complete:disabled:hover {\n",
              "    background-color: var(--disabled-bg-color);\n",
              "    fill: var(--disabled-fill-color);\n",
              "    box-shadow: none;\n",
              "  }\n",
              "\n",
              "  .colab-df-spinner {\n",
              "    border: 2px solid var(--fill-color);\n",
              "    border-color: transparent;\n",
              "    border-bottom-color: var(--fill-color);\n",
              "    animation:\n",
              "      spin 1s steps(1) infinite;\n",
              "  }\n",
              "\n",
              "  @keyframes spin {\n",
              "    0% {\n",
              "      border-color: transparent;\n",
              "      border-bottom-color: var(--fill-color);\n",
              "      border-left-color: var(--fill-color);\n",
              "    }\n",
              "    20% {\n",
              "      border-color: transparent;\n",
              "      border-left-color: var(--fill-color);\n",
              "      border-top-color: var(--fill-color);\n",
              "    }\n",
              "    30% {\n",
              "      border-color: transparent;\n",
              "      border-left-color: var(--fill-color);\n",
              "      border-top-color: var(--fill-color);\n",
              "      border-right-color: var(--fill-color);\n",
              "    }\n",
              "    40% {\n",
              "      border-color: transparent;\n",
              "      border-right-color: var(--fill-color);\n",
              "      border-top-color: var(--fill-color);\n",
              "    }\n",
              "    60% {\n",
              "      border-color: transparent;\n",
              "      border-right-color: var(--fill-color);\n",
              "    }\n",
              "    80% {\n",
              "      border-color: transparent;\n",
              "      border-right-color: var(--fill-color);\n",
              "      border-bottom-color: var(--fill-color);\n",
              "    }\n",
              "    90% {\n",
              "      border-color: transparent;\n",
              "      border-bottom-color: var(--fill-color);\n",
              "    }\n",
              "  }\n",
              "</style>\n",
              "\n",
              "  <script>\n",
              "    async function quickchart(key) {\n",
              "      const quickchartButtonEl =\n",
              "        document.querySelector('#' + key + ' button');\n",
              "      quickchartButtonEl.disabled = true;  // To prevent multiple clicks.\n",
              "      quickchartButtonEl.classList.add('colab-df-spinner');\n",
              "      try {\n",
              "        const charts = await google.colab.kernel.invokeFunction(\n",
              "            'suggestCharts', [key], {});\n",
              "      } catch (error) {\n",
              "        console.error('Error during call to suggestCharts:', error);\n",
              "      }\n",
              "      quickchartButtonEl.classList.remove('colab-df-spinner');\n",
              "      quickchartButtonEl.classList.add('colab-df-quickchart-complete');\n",
              "    }\n",
              "    (() => {\n",
              "      let quickchartButtonEl =\n",
              "        document.querySelector('#df-157ac8d3-b846-4fb8-b1f5-6075cf5583a6 button');\n",
              "      quickchartButtonEl.style.display =\n",
              "        google.colab.kernel.accessAllowed ? 'block' : 'none';\n",
              "    })();\n",
              "  </script>\n",
              "</div>\n",
              "    </div>\n",
              "  </div>\n"
            ],
            "application/vnd.google.colaboratory.intrinsic+json": {
              "type": "dataframe",
              "variable_name": "y",
              "summary": "{\n  \"name\": \"y\",\n  \"rows\": 150,\n  \"fields\": [\n    {\n      \"column\": \"Flower_type\",\n      \"properties\": {\n        \"dtype\": \"number\",\n        \"std\": 0,\n        \"min\": 0,\n        \"max\": 2,\n        \"num_unique_values\": 3,\n        \"samples\": [\n          0,\n          1,\n          2\n        ],\n        \"semantic_type\": \"\",\n        \"description\": \"\"\n      }\n    }\n  ]\n}"
            }
          },
          "metadata": {},
          "execution_count": 8
        }
      ],
      "source": [
        "# Dataframe with flower type (labels)\n",
        "y=pd.DataFrame(iris.target, columns=[\"Flower_type\"])\n",
        "y.head()"
      ]
    },
    {
      "cell_type": "markdown",
      "id": "a1667308-859b-4303-ab07-df1cf4051dc8",
      "metadata": {
        "id": "a1667308-859b-4303-ab07-df1cf4051dc8"
      },
      "source": [
        "Let's check how many observations we have for each type of flowers:"
      ]
    },
    {
      "cell_type": "code",
      "execution_count": 9,
      "id": "274a7487-9b43-47e0-8b39-1d417179fc8d",
      "metadata": {
        "colab": {
          "base_uri": "https://localhost:8080/"
        },
        "id": "274a7487-9b43-47e0-8b39-1d417179fc8d",
        "outputId": "3c55f75e-aad0-43e0-ca3a-d5a1ed5aa14b"
      },
      "outputs": [
        {
          "output_type": "execute_result",
          "data": {
            "text/plain": [
              "Flower_type\n",
              "0              50\n",
              "1              50\n",
              "2              50\n",
              "Name: count, dtype: int64"
            ]
          },
          "metadata": {},
          "execution_count": 9
        }
      ],
      "source": [
        "y.value_counts()"
      ]
    },
    {
      "cell_type": "markdown",
      "id": "cecbc040-1546-43d7-9904-4efd061ef5d8",
      "metadata": {
        "id": "cecbc040-1546-43d7-9904-4efd061ef5d8"
      },
      "source": [
        "Let's print some summary statistics, for each type of flower:"
      ]
    },
    {
      "cell_type": "code",
      "execution_count": 10,
      "id": "f3c713d6-7de7-4d51-bf35-9d68b294df2d",
      "metadata": {
        "colab": {
          "base_uri": "https://localhost:8080/",
          "height": 237
        },
        "id": "f3c713d6-7de7-4d51-bf35-9d68b294df2d",
        "outputId": "d42b024a-267e-422f-9ffe-7ace04e1f74c"
      },
      "outputs": [
        {
          "output_type": "execute_result",
          "data": {
            "text/plain": [
              "Flower_type                 0      1      2\n",
              "sepal length (cm) max   5.800  7.000  7.900\n",
              "                  mean  5.006  5.936  6.588\n",
              "                  min   4.300  4.900  4.900\n",
              "sepal width (cm)  max   4.400  3.400  3.800\n",
              "                  mean  3.428  2.770  2.974\n",
              "                  min   2.300  2.000  2.200"
            ],
            "text/html": [
              "\n",
              "  <div id=\"df-2ebb435c-d7a9-46b8-86aa-cbd838359387\" class=\"colab-df-container\">\n",
              "    <div>\n",
              "<style scoped>\n",
              "    .dataframe tbody tr th:only-of-type {\n",
              "        vertical-align: middle;\n",
              "    }\n",
              "\n",
              "    .dataframe tbody tr th {\n",
              "        vertical-align: top;\n",
              "    }\n",
              "\n",
              "    .dataframe thead th {\n",
              "        text-align: right;\n",
              "    }\n",
              "</style>\n",
              "<table border=\"1\" class=\"dataframe\">\n",
              "  <thead>\n",
              "    <tr style=\"text-align: right;\">\n",
              "      <th></th>\n",
              "      <th>Flower_type</th>\n",
              "      <th>0</th>\n",
              "      <th>1</th>\n",
              "      <th>2</th>\n",
              "    </tr>\n",
              "  </thead>\n",
              "  <tbody>\n",
              "    <tr>\n",
              "      <th rowspan=\"3\" valign=\"top\">sepal length (cm)</th>\n",
              "      <th>max</th>\n",
              "      <td>5.800</td>\n",
              "      <td>7.000</td>\n",
              "      <td>7.900</td>\n",
              "    </tr>\n",
              "    <tr>\n",
              "      <th>mean</th>\n",
              "      <td>5.006</td>\n",
              "      <td>5.936</td>\n",
              "      <td>6.588</td>\n",
              "    </tr>\n",
              "    <tr>\n",
              "      <th>min</th>\n",
              "      <td>4.300</td>\n",
              "      <td>4.900</td>\n",
              "      <td>4.900</td>\n",
              "    </tr>\n",
              "    <tr>\n",
              "      <th rowspan=\"3\" valign=\"top\">sepal width (cm)</th>\n",
              "      <th>max</th>\n",
              "      <td>4.400</td>\n",
              "      <td>3.400</td>\n",
              "      <td>3.800</td>\n",
              "    </tr>\n",
              "    <tr>\n",
              "      <th>mean</th>\n",
              "      <td>3.428</td>\n",
              "      <td>2.770</td>\n",
              "      <td>2.974</td>\n",
              "    </tr>\n",
              "    <tr>\n",
              "      <th>min</th>\n",
              "      <td>2.300</td>\n",
              "      <td>2.000</td>\n",
              "      <td>2.200</td>\n",
              "    </tr>\n",
              "  </tbody>\n",
              "</table>\n",
              "</div>\n",
              "    <div class=\"colab-df-buttons\">\n",
              "\n",
              "  <div class=\"colab-df-container\">\n",
              "    <button class=\"colab-df-convert\" onclick=\"convertToInteractive('df-2ebb435c-d7a9-46b8-86aa-cbd838359387')\"\n",
              "            title=\"Convert this dataframe to an interactive table.\"\n",
              "            style=\"display:none;\">\n",
              "\n",
              "  <svg xmlns=\"http://www.w3.org/2000/svg\" height=\"24px\" viewBox=\"0 -960 960 960\">\n",
              "    <path d=\"M120-120v-720h720v720H120Zm60-500h600v-160H180v160Zm220 220h160v-160H400v160Zm0 220h160v-160H400v160ZM180-400h160v-160H180v160Zm440 0h160v-160H620v160ZM180-180h160v-160H180v160Zm440 0h160v-160H620v160Z\"/>\n",
              "  </svg>\n",
              "    </button>\n",
              "\n",
              "  <style>\n",
              "    .colab-df-container {\n",
              "      display:flex;\n",
              "      gap: 12px;\n",
              "    }\n",
              "\n",
              "    .colab-df-convert {\n",
              "      background-color: #E8F0FE;\n",
              "      border: none;\n",
              "      border-radius: 50%;\n",
              "      cursor: pointer;\n",
              "      display: none;\n",
              "      fill: #1967D2;\n",
              "      height: 32px;\n",
              "      padding: 0 0 0 0;\n",
              "      width: 32px;\n",
              "    }\n",
              "\n",
              "    .colab-df-convert:hover {\n",
              "      background-color: #E2EBFA;\n",
              "      box-shadow: 0px 1px 2px rgba(60, 64, 67, 0.3), 0px 1px 3px 1px rgba(60, 64, 67, 0.15);\n",
              "      fill: #174EA6;\n",
              "    }\n",
              "\n",
              "    .colab-df-buttons div {\n",
              "      margin-bottom: 4px;\n",
              "    }\n",
              "\n",
              "    [theme=dark] .colab-df-convert {\n",
              "      background-color: #3B4455;\n",
              "      fill: #D2E3FC;\n",
              "    }\n",
              "\n",
              "    [theme=dark] .colab-df-convert:hover {\n",
              "      background-color: #434B5C;\n",
              "      box-shadow: 0px 1px 3px 1px rgba(0, 0, 0, 0.15);\n",
              "      filter: drop-shadow(0px 1px 2px rgba(0, 0, 0, 0.3));\n",
              "      fill: #FFFFFF;\n",
              "    }\n",
              "  </style>\n",
              "\n",
              "    <script>\n",
              "      const buttonEl =\n",
              "        document.querySelector('#df-2ebb435c-d7a9-46b8-86aa-cbd838359387 button.colab-df-convert');\n",
              "      buttonEl.style.display =\n",
              "        google.colab.kernel.accessAllowed ? 'block' : 'none';\n",
              "\n",
              "      async function convertToInteractive(key) {\n",
              "        const element = document.querySelector('#df-2ebb435c-d7a9-46b8-86aa-cbd838359387');\n",
              "        const dataTable =\n",
              "          await google.colab.kernel.invokeFunction('convertToInteractive',\n",
              "                                                    [key], {});\n",
              "        if (!dataTable) return;\n",
              "\n",
              "        const docLinkHtml = 'Like what you see? Visit the ' +\n",
              "          '<a target=\"_blank\" href=https://colab.research.google.com/notebooks/data_table.ipynb>data table notebook</a>'\n",
              "          + ' to learn more about interactive tables.';\n",
              "        element.innerHTML = '';\n",
              "        dataTable['output_type'] = 'display_data';\n",
              "        await google.colab.output.renderOutput(dataTable, element);\n",
              "        const docLink = document.createElement('div');\n",
              "        docLink.innerHTML = docLinkHtml;\n",
              "        element.appendChild(docLink);\n",
              "      }\n",
              "    </script>\n",
              "  </div>\n",
              "\n",
              "\n",
              "<div id=\"df-0e61d53a-8c81-48cc-b9c1-73ce87b04cf4\">\n",
              "  <button class=\"colab-df-quickchart\" onclick=\"quickchart('df-0e61d53a-8c81-48cc-b9c1-73ce87b04cf4')\"\n",
              "            title=\"Suggest charts\"\n",
              "            style=\"display:none;\">\n",
              "\n",
              "<svg xmlns=\"http://www.w3.org/2000/svg\" height=\"24px\"viewBox=\"0 0 24 24\"\n",
              "     width=\"24px\">\n",
              "    <g>\n",
              "        <path d=\"M19 3H5c-1.1 0-2 .9-2 2v14c0 1.1.9 2 2 2h14c1.1 0 2-.9 2-2V5c0-1.1-.9-2-2-2zM9 17H7v-7h2v7zm4 0h-2V7h2v10zm4 0h-2v-4h2v4z\"/>\n",
              "    </g>\n",
              "</svg>\n",
              "  </button>\n",
              "\n",
              "<style>\n",
              "  .colab-df-quickchart {\n",
              "      --bg-color: #E8F0FE;\n",
              "      --fill-color: #1967D2;\n",
              "      --hover-bg-color: #E2EBFA;\n",
              "      --hover-fill-color: #174EA6;\n",
              "      --disabled-fill-color: #AAA;\n",
              "      --disabled-bg-color: #DDD;\n",
              "  }\n",
              "\n",
              "  [theme=dark] .colab-df-quickchart {\n",
              "      --bg-color: #3B4455;\n",
              "      --fill-color: #D2E3FC;\n",
              "      --hover-bg-color: #434B5C;\n",
              "      --hover-fill-color: #FFFFFF;\n",
              "      --disabled-bg-color: #3B4455;\n",
              "      --disabled-fill-color: #666;\n",
              "  }\n",
              "\n",
              "  .colab-df-quickchart {\n",
              "    background-color: var(--bg-color);\n",
              "    border: none;\n",
              "    border-radius: 50%;\n",
              "    cursor: pointer;\n",
              "    display: none;\n",
              "    fill: var(--fill-color);\n",
              "    height: 32px;\n",
              "    padding: 0;\n",
              "    width: 32px;\n",
              "  }\n",
              "\n",
              "  .colab-df-quickchart:hover {\n",
              "    background-color: var(--hover-bg-color);\n",
              "    box-shadow: 0 1px 2px rgba(60, 64, 67, 0.3), 0 1px 3px 1px rgba(60, 64, 67, 0.15);\n",
              "    fill: var(--button-hover-fill-color);\n",
              "  }\n",
              "\n",
              "  .colab-df-quickchart-complete:disabled,\n",
              "  .colab-df-quickchart-complete:disabled:hover {\n",
              "    background-color: var(--disabled-bg-color);\n",
              "    fill: var(--disabled-fill-color);\n",
              "    box-shadow: none;\n",
              "  }\n",
              "\n",
              "  .colab-df-spinner {\n",
              "    border: 2px solid var(--fill-color);\n",
              "    border-color: transparent;\n",
              "    border-bottom-color: var(--fill-color);\n",
              "    animation:\n",
              "      spin 1s steps(1) infinite;\n",
              "  }\n",
              "\n",
              "  @keyframes spin {\n",
              "    0% {\n",
              "      border-color: transparent;\n",
              "      border-bottom-color: var(--fill-color);\n",
              "      border-left-color: var(--fill-color);\n",
              "    }\n",
              "    20% {\n",
              "      border-color: transparent;\n",
              "      border-left-color: var(--fill-color);\n",
              "      border-top-color: var(--fill-color);\n",
              "    }\n",
              "    30% {\n",
              "      border-color: transparent;\n",
              "      border-left-color: var(--fill-color);\n",
              "      border-top-color: var(--fill-color);\n",
              "      border-right-color: var(--fill-color);\n",
              "    }\n",
              "    40% {\n",
              "      border-color: transparent;\n",
              "      border-right-color: var(--fill-color);\n",
              "      border-top-color: var(--fill-color);\n",
              "    }\n",
              "    60% {\n",
              "      border-color: transparent;\n",
              "      border-right-color: var(--fill-color);\n",
              "    }\n",
              "    80% {\n",
              "      border-color: transparent;\n",
              "      border-right-color: var(--fill-color);\n",
              "      border-bottom-color: var(--fill-color);\n",
              "    }\n",
              "    90% {\n",
              "      border-color: transparent;\n",
              "      border-bottom-color: var(--fill-color);\n",
              "    }\n",
              "  }\n",
              "</style>\n",
              "\n",
              "  <script>\n",
              "    async function quickchart(key) {\n",
              "      const quickchartButtonEl =\n",
              "        document.querySelector('#' + key + ' button');\n",
              "      quickchartButtonEl.disabled = true;  // To prevent multiple clicks.\n",
              "      quickchartButtonEl.classList.add('colab-df-spinner');\n",
              "      try {\n",
              "        const charts = await google.colab.kernel.invokeFunction(\n",
              "            'suggestCharts', [key], {});\n",
              "      } catch (error) {\n",
              "        console.error('Error during call to suggestCharts:', error);\n",
              "      }\n",
              "      quickchartButtonEl.classList.remove('colab-df-spinner');\n",
              "      quickchartButtonEl.classList.add('colab-df-quickchart-complete');\n",
              "    }\n",
              "    (() => {\n",
              "      let quickchartButtonEl =\n",
              "        document.querySelector('#df-0e61d53a-8c81-48cc-b9c1-73ce87b04cf4 button');\n",
              "      quickchartButtonEl.style.display =\n",
              "        google.colab.kernel.accessAllowed ? 'block' : 'none';\n",
              "    })();\n",
              "  </script>\n",
              "</div>\n",
              "    </div>\n",
              "  </div>\n"
            ],
            "application/vnd.google.colaboratory.intrinsic+json": {
              "type": "dataframe",
              "summary": "{\n  \"name\": \"pd\",\n  \"rows\": 6,\n  \"fields\": [\n    {\n      \"column\": 0,\n      \"properties\": {\n        \"dtype\": \"number\",\n        \"std\": 1.221918764348378,\n        \"min\": 2.3,\n        \"max\": 5.8,\n        \"num_unique_values\": 6,\n        \"samples\": [\n          5.8,\n          5.006,\n          2.3\n        ],\n        \"semantic_type\": \"\",\n        \"description\": \"\"\n      }\n    },\n    {\n      \"column\": 1,\n      \"properties\": {\n        \"dtype\": \"number\",\n        \"std\": 1.9370246943874172,\n        \"min\": 2.0,\n        \"max\": 7.0,\n        \"num_unique_values\": 6,\n        \"samples\": [\n          7.0,\n          5.936,\n          2.0\n        ],\n        \"semantic_type\": \"\",\n        \"description\": \"\"\n      }\n    },\n    {\n      \"column\": 2,\n      \"properties\": {\n        \"dtype\": \"number\",\n        \"std\": 2.185371638875182,\n        \"min\": 2.2,\n        \"max\": 7.9,\n        \"num_unique_values\": 6,\n        \"samples\": [\n          7.9,\n          6.587999999999998,\n          2.2\n        ],\n        \"semantic_type\": \"\",\n        \"description\": \"\"\n      }\n    }\n  ]\n}"
            }
          },
          "metadata": {},
          "execution_count": 10
        }
      ],
      "source": [
        "# Summary statistics\n",
        "pd.concat([X_sepal, y], axis=1).groupby(['Flower_type']).describe().loc[:,(slice(None),['max','min','mean'])].transpose().sort_index()"
      ]
    },
    {
      "cell_type": "markdown",
      "id": "6ccc5570-ecdc-4293-a7e2-8326f43cd0c4",
      "metadata": {
        "id": "6ccc5570-ecdc-4293-a7e2-8326f43cd0c4"
      },
      "source": [
        "### K-Means"
      ]
    },
    {
      "cell_type": "markdown",
      "id": "74d4d7d7-18fb-4684-9bab-82e9603ed837",
      "metadata": {
        "id": "74d4d7d7-18fb-4684-9bab-82e9603ed837"
      },
      "source": [
        "#### Implementing K-Means\n",
        "\n",
        "We are using the `KMeans` module of sklearn ([Documentation](https://scikit-learn.org/stable/modules/generated/sklearn.cluster.KMeans.html#sklearn.cluster.KMeans))\n",
        "\n",
        "```python\n",
        "from sklearn.cluster import KMeans\n",
        "```\n",
        "As parameters, we need to specify `n_clusters`, describing the number of clusters to form as well as the number of centroids to generate. For illustration, we're going to train two K-Means models and fit it on the sepal features (X_sepal):\n",
        "-   K-means with 3 clusters\n",
        "-   K-means with 5 clusters\n",
        "\n",
        "The one with 5 clusters is only for illustration, because we already know that there are only 3 different types of iris in the dataset."
      ]
    },
    {
      "cell_type": "code",
      "execution_count": 11,
      "id": "e18cde5a-2158-41dc-bdb6-bcc538201e0f",
      "metadata": {
        "colab": {
          "base_uri": "https://localhost:8080/",
          "height": 74
        },
        "id": "e18cde5a-2158-41dc-bdb6-bcc538201e0f",
        "outputId": "11bc806f-b20d-4cfa-ec53-87b2a8ebb329"
      },
      "outputs": [
        {
          "output_type": "execute_result",
          "data": {
            "text/plain": [
              "KMeans(n_clusters=3, n_init='auto', random_state=0)"
            ],
            "text/html": [
              "<style>#sk-container-id-1 {color: black;background-color: white;}#sk-container-id-1 pre{padding: 0;}#sk-container-id-1 div.sk-toggleable {background-color: white;}#sk-container-id-1 label.sk-toggleable__label {cursor: pointer;display: block;width: 100%;margin-bottom: 0;padding: 0.3em;box-sizing: border-box;text-align: center;}#sk-container-id-1 label.sk-toggleable__label-arrow:before {content: \"▸\";float: left;margin-right: 0.25em;color: #696969;}#sk-container-id-1 label.sk-toggleable__label-arrow:hover:before {color: black;}#sk-container-id-1 div.sk-estimator:hover label.sk-toggleable__label-arrow:before {color: black;}#sk-container-id-1 div.sk-toggleable__content {max-height: 0;max-width: 0;overflow: hidden;text-align: left;background-color: #f0f8ff;}#sk-container-id-1 div.sk-toggleable__content pre {margin: 0.2em;color: black;border-radius: 0.25em;background-color: #f0f8ff;}#sk-container-id-1 input.sk-toggleable__control:checked~div.sk-toggleable__content {max-height: 200px;max-width: 100%;overflow: auto;}#sk-container-id-1 input.sk-toggleable__control:checked~label.sk-toggleable__label-arrow:before {content: \"▾\";}#sk-container-id-1 div.sk-estimator input.sk-toggleable__control:checked~label.sk-toggleable__label {background-color: #d4ebff;}#sk-container-id-1 div.sk-label input.sk-toggleable__control:checked~label.sk-toggleable__label {background-color: #d4ebff;}#sk-container-id-1 input.sk-hidden--visually {border: 0;clip: rect(1px 1px 1px 1px);clip: rect(1px, 1px, 1px, 1px);height: 1px;margin: -1px;overflow: hidden;padding: 0;position: absolute;width: 1px;}#sk-container-id-1 div.sk-estimator {font-family: monospace;background-color: #f0f8ff;border: 1px dotted black;border-radius: 0.25em;box-sizing: border-box;margin-bottom: 0.5em;}#sk-container-id-1 div.sk-estimator:hover {background-color: #d4ebff;}#sk-container-id-1 div.sk-parallel-item::after {content: \"\";width: 100%;border-bottom: 1px solid gray;flex-grow: 1;}#sk-container-id-1 div.sk-label:hover label.sk-toggleable__label {background-color: #d4ebff;}#sk-container-id-1 div.sk-serial::before {content: \"\";position: absolute;border-left: 1px solid gray;box-sizing: border-box;top: 0;bottom: 0;left: 50%;z-index: 0;}#sk-container-id-1 div.sk-serial {display: flex;flex-direction: column;align-items: center;background-color: white;padding-right: 0.2em;padding-left: 0.2em;position: relative;}#sk-container-id-1 div.sk-item {position: relative;z-index: 1;}#sk-container-id-1 div.sk-parallel {display: flex;align-items: stretch;justify-content: center;background-color: white;position: relative;}#sk-container-id-1 div.sk-item::before, #sk-container-id-1 div.sk-parallel-item::before {content: \"\";position: absolute;border-left: 1px solid gray;box-sizing: border-box;top: 0;bottom: 0;left: 50%;z-index: -1;}#sk-container-id-1 div.sk-parallel-item {display: flex;flex-direction: column;z-index: 1;position: relative;background-color: white;}#sk-container-id-1 div.sk-parallel-item:first-child::after {align-self: flex-end;width: 50%;}#sk-container-id-1 div.sk-parallel-item:last-child::after {align-self: flex-start;width: 50%;}#sk-container-id-1 div.sk-parallel-item:only-child::after {width: 0;}#sk-container-id-1 div.sk-dashed-wrapped {border: 1px dashed gray;margin: 0 0.4em 0.5em 0.4em;box-sizing: border-box;padding-bottom: 0.4em;background-color: white;}#sk-container-id-1 div.sk-label label {font-family: monospace;font-weight: bold;display: inline-block;line-height: 1.2em;}#sk-container-id-1 div.sk-label-container {text-align: center;}#sk-container-id-1 div.sk-container {/* jupyter's `normalize.less` sets `[hidden] { display: none; }` but bootstrap.min.css set `[hidden] { display: none !important; }` so we also need the `!important` here to be able to override the default hidden behavior on the sphinx rendered scikit-learn.org. See: https://github.com/scikit-learn/scikit-learn/issues/21755 */display: inline-block !important;position: relative;}#sk-container-id-1 div.sk-text-repr-fallback {display: none;}</style><div id=\"sk-container-id-1\" class=\"sk-top-container\"><div class=\"sk-text-repr-fallback\"><pre>KMeans(n_clusters=3, n_init=&#x27;auto&#x27;, random_state=0)</pre><b>In a Jupyter environment, please rerun this cell to show the HTML representation or trust the notebook. <br />On GitHub, the HTML representation is unable to render, please try loading this page with nbviewer.org.</b></div><div class=\"sk-container\" hidden><div class=\"sk-item\"><div class=\"sk-estimator sk-toggleable\"><input class=\"sk-toggleable__control sk-hidden--visually\" id=\"sk-estimator-id-1\" type=\"checkbox\" checked><label for=\"sk-estimator-id-1\" class=\"sk-toggleable__label sk-toggleable__label-arrow\">KMeans</label><div class=\"sk-toggleable__content\"><pre>KMeans(n_clusters=3, n_init=&#x27;auto&#x27;, random_state=0)</pre></div></div></div></div></div>"
            ]
          },
          "metadata": {},
          "execution_count": 11
        }
      ],
      "source": [
        "# Create an instace of KMeans and specify the number of clusters=3,\n",
        "# Random state help make sure we all have exactly the same results\n",
        "kmeans3 = KMeans(n_clusters=3, random_state=0, n_init='auto') #3 clusters\n",
        "\n",
        "# Fit the model on the set of features we previously labelled as X_sepal (NOT including the labels on the type of flowers)\n",
        "kmeans3.fit(X_sepal)"
      ]
    },
    {
      "cell_type": "markdown",
      "id": "d8cfdc8c-9a6d-4bbc-9900-dd372430918f",
      "metadata": {
        "id": "d8cfdc8c-9a6d-4bbc-9900-dd372430918f"
      },
      "source": [
        "We can access the `labels_` of each observation:"
      ]
    },
    {
      "cell_type": "code",
      "execution_count": 12,
      "id": "bc7be4b5-5c17-4ae2-be75-3ceb703641cb",
      "metadata": {
        "colab": {
          "base_uri": "https://localhost:8080/"
        },
        "id": "bc7be4b5-5c17-4ae2-be75-3ceb703641cb",
        "outputId": "56636f22-9401-4088-c143-e10cabeccce1"
      },
      "outputs": [
        {
          "output_type": "stream",
          "name": "stdout",
          "text": [
            "[0 0 0 0 0 0 0 0 0 0 0 0 0 0 0 0 0 0 0 0 0 0 0 0 0 0 0 0 0 0 0 0 0 0 0 0 0\n",
            " 0 0 0 0 0 0 0 0 0 0 0 0 0 1 1 1 2 1 2 1 2 1 2 2 2 2 2 2 1 2 2 2 2 2 2 2 2\n",
            " 1 1 1 1 2 2 2 2 2 2 2 2 1 2 2 2 2 2 2 2 2 2 2 2 2 2 1 2 1 2 1 1 0 1 1 1 1\n",
            " 1 1 2 2 1 1 1 1 2 1 2 1 2 1 1 2 2 1 1 1 1 1 2 2 1 1 1 2 1 1 1 2 1 1 1 2 1\n",
            " 1 2]\n"
          ]
        }
      ],
      "source": [
        "print(kmeans3.labels_)"
      ]
    },
    {
      "cell_type": "markdown",
      "id": "481c0f93-3f3e-4d3b-9cff-0ba3d6c33681",
      "metadata": {
        "id": "481c0f93-3f3e-4d3b-9cff-0ba3d6c33681"
      },
      "source": [
        "We can use `cluster_centers_` to obtain the coordinates of the centers generated by the model:"
      ]
    },
    {
      "cell_type": "code",
      "execution_count": 13,
      "id": "967b43e5-0bf1-4154-9c23-7d5f07604d6a",
      "metadata": {
        "colab": {
          "base_uri": "https://localhost:8080/"
        },
        "id": "967b43e5-0bf1-4154-9c23-7d5f07604d6a",
        "outputId": "8ba57193-3bee-49bd-db2a-f79408dc1c80"
      },
      "outputs": [
        {
          "output_type": "stream",
          "name": "stdout",
          "text": [
            "[[5.00392157 3.40980392]\n",
            " [6.82391304 3.07826087]\n",
            " [5.8        2.7       ]]\n"
          ]
        }
      ],
      "source": [
        "print(kmeans3.cluster_centers_)"
      ]
    },
    {
      "cell_type": "markdown",
      "id": "f2970b70-23ff-4f32-9c72-b58e1e7c135e",
      "metadata": {
        "id": "f2970b70-23ff-4f32-9c72-b58e1e7c135e"
      },
      "source": [
        "Let's proceed similarly, this time with 5 clusters:"
      ]
    },
    {
      "cell_type": "code",
      "execution_count": 14,
      "id": "fb882ac5-c645-488f-a21a-6d0ba52c39bd",
      "metadata": {
        "colab": {
          "base_uri": "https://localhost:8080/"
        },
        "id": "fb882ac5-c645-488f-a21a-6d0ba52c39bd",
        "outputId": "c14c692e-1c51-4c8a-cd22-5bec9ec5ab0b"
      },
      "outputs": [
        {
          "output_type": "stream",
          "name": "stdout",
          "text": [
            "[0 0 0 0 0 0 0 0 0 0 0 0 0 0 0 0 0 0 0 0 0 0 0 0 0 0 0 0 0 0 0 0 0 0 0 0 0\n",
            " 0 0 0 0 4 0 0 0 0 0 0 0 0 1 3 3 4 3 2 3 4 3 4 4 2 2 2 2 3 2 2 2 2 2 2 2 2\n",
            " 3 3 3 3 2 2 4 4 2 2 2 2 3 2 2 4 4 2 2 4 2 2 2 2 4 2 3 2 1 3 3 1 4 1 3 1 3\n",
            " 3 3 2 2 3 3 1 1 2 3 2 1 2 3 1 2 2 3 1 1 1 3 3 2 1 3 3 2 3 3 3 2 3 3 3 2 3\n",
            " 3 2]\n"
          ]
        }
      ],
      "source": [
        "# Create an instance of KMeans\n",
        "kmeans5=KMeans(n_clusters=5, random_state=0, n_init='auto') #5 clusters\n",
        "\n",
        "# Fit the model on the X features\n",
        "kmeans5.fit(X_sepal)\n",
        "\n",
        "# Labels\n",
        "print(kmeans5.labels_)"
      ]
    },
    {
      "cell_type": "markdown",
      "id": "025878b4-286c-4ff4-a39d-1cfd6fc2ed13",
      "metadata": {
        "id": "025878b4-286c-4ff4-a39d-1cfd6fc2ed13"
      },
      "source": [
        "#### Graphical representation\n",
        "\n",
        "Let's visualize the clusters created, and compare them with the \"true\" labels (flower types)."
      ]
    },
    {
      "cell_type": "code",
      "execution_count": 15,
      "id": "f6103cdb-53a3-440a-b354-0b02a22bbea7",
      "metadata": {
        "colab": {
          "base_uri": "https://localhost:8080/",
          "height": 410
        },
        "id": "f6103cdb-53a3-440a-b354-0b02a22bbea7",
        "outputId": "ad64e036-a3bf-4e0a-f2b8-acd440aa827d"
      },
      "outputs": [
        {
          "output_type": "display_data",
          "data": {
            "text/plain": [
              "<Figure size 1400x400 with 3 Axes>"
            ],
            "image/png": "[encoded data removed]"
          },
          "metadata": {}
        }
      ],
      "source": [
        "fig, ax = plt.subplots(1, 3, figsize=(14, 4))\n",
        "\n",
        "# Scatter plot, raw data with original labels\n",
        "ax[0].scatter(X_sepal[\"sepal length (cm)\"], # x-axis\n",
        "              X_sepal[\"sepal width (cm)\"],  # y-axis\n",
        "              c=y['Flower_type'],           # points colored by the different flower types\n",
        "              cmap='tab10')                 # choice of colors\n",
        "ax[0].set_xlabel(\"Sepal length (cm)\")       # label x-axis\n",
        "ax[0].set_ylabel(\"Sepal width (cm)\")        # label y-axis\n",
        "ax[0].set_title(\"Raw data with the original labels\")  # title\n",
        "\n",
        "# Scatter plot of clusters, KMeans Model with 3 Clusters\n",
        "ax[1].scatter(X_sepal[\"sepal length (cm)\"],\n",
        "              X_sepal[\"sepal width (cm)\"],\n",
        "              c=kmeans3.labels_,              # points colored by the labels created by the model\n",
        "              cmap='tab10')\n",
        "ax[1].scatter(kmeans3.cluster_centers_[:, 0],  # x-coordinates of cluster centroids\n",
        "              kmeans3.cluster_centers_[:, 1],  # y-coordinates of cluster centroids\n",
        "              c=\"red\",                        # color of centroids\n",
        "              marker='x')                     # marker of centroids\n",
        "ax[1].set_xlabel(\"Sepal length (cm)\")\n",
        "ax[1].set_ylabel(\"Sepal width (cm)\")\n",
        "ax[1].set_title(\"KMeans Model with 3 Clusters\")\n",
        "\n",
        "# Scatter plot of clusters, KMeans Model with 5 Clusters\n",
        "ax[2].scatter(X_sepal[\"sepal length (cm)\"], X_sepal[\"sepal width (cm)\"], c=kmeans5.labels_, cmap='tab10')\n",
        "ax[2].scatter(kmeans5.cluster_centers_[:, 0], kmeans5.cluster_centers_[:, 1], c=\"red\", marker='x')\n",
        "ax[2].set_xlabel(\"Sepal length (cm)\")\n",
        "ax[2].set_ylabel(\"Sepal width (cm)\")\n",
        "ax[2].set_title(\"KMeans Model with 5 Clusters\")\n",
        "\n",
        "plt.subplots_adjust(wspace=0.4)   # Space between plots\n",
        "plt.show()"
      ]
    },
    {
      "cell_type": "markdown",
      "id": "63a6deee-585f-4b6d-8983-092668c64f69",
      "metadata": {
        "id": "63a6deee-585f-4b6d-8983-092668c64f69"
      },
      "source": [
        "Our K-Means model with 3 clusters recognizes well the *setosa* (top left cluster), however it struggles to distinguish the *versicolor* and *virginica* since these flowers have interwonen sepal length and width. Note that the original labels and the one created with our model do not match (e.g., *setosa* is label 0 in the original dataset, and 1 in our K-Means model), hence the colors in our plot differ.\n",
        "\n",
        "How do we assess the performance of our models? In the general case we do not have the target variable (unsupervised learning), so we cannot rely on the metrics used in classification such as the accuracy. Instead, we rely on other metrics such as the **inertia**, which is the sum of squared distances of samples to their closest cluster center, potentially weighted by the sample weights if provided. This is the cost function that the algorithm minimizes. Let's check the inertia of our K-Means models with 3 and 5 clusters:"
      ]
    },
    {
      "cell_type": "code",
      "execution_count": 16,
      "id": "fbb5d53f-3836-4188-9685-83f3d4812bb9",
      "metadata": {
        "colab": {
          "base_uri": "https://localhost:8080/"
        },
        "id": "fbb5d53f-3836-4188-9685-83f3d4812bb9",
        "outputId": "3a938788-d731-4984-e616-d12365342e5d"
      },
      "outputs": [
        {
          "output_type": "stream",
          "name": "stdout",
          "text": [
            "The inertia of the K-Means model with 3 clusters is: 37.09\n",
            "The inertia of the K-Means model with 5 clusters is: 23.84\n"
          ]
        }
      ],
      "source": [
        "print(\"The inertia of the K-Means model with 3 clusters is: {:0.2f}\".format(kmeans3.inertia_))\n",
        "print(\"The inertia of the K-Means model with 5 clusters is: {:0.2f}\".format(kmeans5.inertia_))"
      ]
    },
    {
      "cell_type": "markdown",
      "source": [
        "Do you potential problems with using inertia as a metrics to identify the best clustering algorithm?"
      ],
      "metadata": {
        "id": "wFxE_UCg0HJJ"
      },
      "id": "wFxE_UCg0HJJ"
    },
    {
      "cell_type": "markdown",
      "id": "4384adee-0afc-477c-a4a4-ac357b399d64",
      "metadata": {
        "id": "4384adee-0afc-477c-a4a4-ac357b399d64"
      },
      "source": [
        "Which model should we choose? In other words, how many clusters should we pick? We'll explore this question using the Elbow method."
      ]
    },
    {
      "cell_type": "markdown",
      "id": "95e547a1-0f1f-424f-af84-f77b2bfdefb4",
      "metadata": {
        "id": "95e547a1-0f1f-424f-af84-f77b2bfdefb4"
      },
      "source": [
        "#### Elbow method"
      ]
    },
    {
      "cell_type": "markdown",
      "id": "b7fa49d6-427a-4a41-a706-6c9671421e96",
      "metadata": {
        "id": "b7fa49d6-427a-4a41-a706-6c9671421e96"
      },
      "source": [
        "We now try to find the \"optimal\" number of clusters using the [Elbow method](https://en.wikipedia.org/wiki/Elbow_method_(clustering)).  \n",
        "\n",
        "This method consists in plotting the explained variation (e.g., **inertia**) as a function of the number of clusters, and picking the elbow of the curve as the number of clusters to use. The intuition is that increasing the number of clusters will always improve the fit (explain more of the variation), since there are more parameters (more clusters). However, this will at some point result in **over-fitting**, with only minimal gains in the fit, which the elbow reflects.\n",
        "\n",
        "Let's try! We create a loop to iteratively train K-Means algorithms for different values of k, saving the parameter `inertia_` at each iteration. This time we will use all the features, i.e., sepal and petal length and width. We then plot the inertia compared to the number of clusters:"
      ]
    },
    {
      "cell_type": "code",
      "execution_count": 17,
      "id": "3f65c9ba-f470-4371-a428-ba8f85fbd3e5",
      "metadata": {
        "colab": {
          "base_uri": "https://localhost:8080/",
          "height": 472
        },
        "id": "3f65c9ba-f470-4371-a428-ba8f85fbd3e5",
        "outputId": "fcaa628e-273c-452e-be9f-753b015d3d11"
      },
      "outputs": [
        {
          "output_type": "display_data",
          "data": {
            "text/plain": [
              "<Figure size 640x480 with 1 Axes>"
            ],
            "image/png": "[encoded data removed]"
          },
          "metadata": {}
        }
      ],
      "source": [
        "inertias = []\n",
        "nbr_clusters = range(2,11)\n",
        "\n",
        "for i in nbr_clusters:\n",
        "    km = KMeans(n_clusters=i, random_state=0, n_init='auto').fit(X)  # Create and fit model\n",
        "    inertias.append(km.inertia_)     # Store inertia\n",
        "\n",
        "# Plot\n",
        "plt.plot(nbr_clusters, inertias, '-o')\n",
        "plt.xticks(nbr_clusters)\n",
        "plt.title('Elbow method for inertia')\n",
        "plt.xlabel('Number of clusters (k)')\n",
        "plt.ylabel('Inertia')\n",
        "plt.show()"
      ]
    },
    {
      "cell_type": "markdown",
      "id": "5153a486-bbaa-404e-bdba-5eaaa6503dbc",
      "metadata": {
        "id": "5153a486-bbaa-404e-bdba-5eaaa6503dbc"
      },
      "source": [
        "The elbow method tells us to select the cluster when there is a significant change in inertia (i.e., cost). In this case, 4 seems like the optimal number of clusters. From k=5 we see that the reduction in the cost function is much lower than for example for k=3."
      ]
    },
    {
      "cell_type": "markdown",
      "id": "d85cdf35-60d6-4033-8405-b5540ae2437b",
      "metadata": {
        "id": "d85cdf35-60d6-4033-8405-b5540ae2437b"
      },
      "source": [
        "### Hierarchical clustering"
      ]
    },
    {
      "cell_type": "markdown",
      "id": "0e0fa8df-eec6-4e53-985e-cb9a539c6222",
      "metadata": {
        "id": "0e0fa8df-eec6-4e53-985e-cb9a539c6222"
      },
      "source": [
        "#### Implementing hierarchical (agglomerative) clustering"
      ]
    },
    {
      "cell_type": "markdown",
      "id": "04220ada-8804-436d-8dc5-7d8bc0257c40",
      "metadata": {
        "id": "04220ada-8804-436d-8dc5-7d8bc0257c40"
      },
      "source": [
        "We are using the `AgglomerativeClustering` module of sklearn ([Documentation](https://scikit-learn.org/stable/modules/generated/sklearn.cluster.AgglomerativeClustering.html#sklearn.cluster.AgglomerativeClustering))\n",
        "\n",
        "```python\n",
        "from sklearn.cluster import AgglomerativeClustering\n",
        "```\n",
        "As parameters, we specify:\n",
        "- `n_clusters`, number of clusters to find (default =2)\n",
        "    - Instead of specifying the number of clusters, we could also provide the `distance_threshold`, which is the linkage distance threshold at or above which clusters will not be merged. If this case, `n_clusters` must be `None` and `compute_full_tree` must be `True`.\n",
        "- `metric` is the type of distance metric used, e.g., \"euclidean\" (default), \"l1\", \"l2\", \"manhattan\", \"cosine\", or \"precomputed\"\n",
        "    - Note: be careful to the sklearn version you are using. `metric` was added since version 1.2. For previous versions, you can use `affinity` (or better update your sklearn version).\n",
        "- `linkage` is the linkage criterion to use:\n",
        "    - 'single': minimum of the distances between all observations of the two sets\n",
        "    - 'complete': maximum distances between all observations of the two sets\n",
        "    - 'average': average of the distances of each observation of the two sets\n",
        "    - 'ward' (default): minimizes the variance of the clusters being merged\n",
        "\n",
        "<img src='https://scikit-learn.org/stable/_images/sphx_glr_plot_linkage_comparison_001.png' width=\"500\">"
      ]
    },
    {
      "cell_type": "code",
      "execution_count": 18,
      "id": "b2519aa8-11df-4d96-9029-d7944933acb3",
      "metadata": {
        "colab": {
          "base_uri": "https://localhost:8080/",
          "height": 74
        },
        "id": "b2519aa8-11df-4d96-9029-d7944933acb3",
        "outputId": "a0d19109-ae07-423e-de82-76b7af160a6f"
      },
      "outputs": [
        {
          "output_type": "execute_result",
          "data": {
            "text/plain": [
              "AgglomerativeClustering(linkage='average', metric='euclidean', n_clusters=3)"
            ],
            "text/html": [
              "<style>#sk-container-id-2 {color: black;background-color: white;}#sk-container-id-2 pre{padding: 0;}#sk-container-id-2 div.sk-toggleable {background-color: white;}#sk-container-id-2 label.sk-toggleable__label {cursor: pointer;display: block;width: 100%;margin-bottom: 0;padding: 0.3em;box-sizing: border-box;text-align: center;}#sk-container-id-2 label.sk-toggleable__label-arrow:before {content: \"▸\";float: left;margin-right: 0.25em;color: #696969;}#sk-container-id-2 label.sk-toggleable__label-arrow:hover:before {color: black;}#sk-container-id-2 div.sk-estimator:hover label.sk-toggleable__label-arrow:before {color: black;}#sk-container-id-2 div.sk-toggleable__content {max-height: 0;max-width: 0;overflow: hidden;text-align: left;background-color: #f0f8ff;}#sk-container-id-2 div.sk-toggleable__content pre {margin: 0.2em;color: black;border-radius: 0.25em;background-color: #f0f8ff;}#sk-container-id-2 input.sk-toggleable__control:checked~div.sk-toggleable__content {max-height: 200px;max-width: 100%;overflow: auto;}#sk-container-id-2 input.sk-toggleable__control:checked~label.sk-toggleable__label-arrow:before {content: \"▾\";}#sk-container-id-2 div.sk-estimator input.sk-toggleable__control:checked~label.sk-toggleable__label {background-color: #d4ebff;}#sk-container-id-2 div.sk-label input.sk-toggleable__control:checked~label.sk-toggleable__label {background-color: #d4ebff;}#sk-container-id-2 input.sk-hidden--visually {border: 0;clip: rect(1px 1px 1px 1px);clip: rect(1px, 1px, 1px, 1px);height: 1px;margin: -1px;overflow: hidden;padding: 0;position: absolute;width: 1px;}#sk-container-id-2 div.sk-estimator {font-family: monospace;background-color: #f0f8ff;border: 1px dotted black;border-radius: 0.25em;box-sizing: border-box;margin-bottom: 0.5em;}#sk-container-id-2 div.sk-estimator:hover {background-color: #d4ebff;}#sk-container-id-2 div.sk-parallel-item::after {content: \"\";width: 100%;border-bottom: 1px solid gray;flex-grow: 1;}#sk-container-id-2 div.sk-label:hover label.sk-toggleable__label {background-color: #d4ebff;}#sk-container-id-2 div.sk-serial::before {content: \"\";position: absolute;border-left: 1px solid gray;box-sizing: border-box;top: 0;bottom: 0;left: 50%;z-index: 0;}#sk-container-id-2 div.sk-serial {display: flex;flex-direction: column;align-items: center;background-color: white;padding-right: 0.2em;padding-left: 0.2em;position: relative;}#sk-container-id-2 div.sk-item {position: relative;z-index: 1;}#sk-container-id-2 div.sk-parallel {display: flex;align-items: stretch;justify-content: center;background-color: white;position: relative;}#sk-container-id-2 div.sk-item::before, #sk-container-id-2 div.sk-parallel-item::before {content: \"\";position: absolute;border-left: 1px solid gray;box-sizing: border-box;top: 0;bottom: 0;left: 50%;z-index: -1;}#sk-container-id-2 div.sk-parallel-item {display: flex;flex-direction: column;z-index: 1;position: relative;background-color: white;}#sk-container-id-2 div.sk-parallel-item:first-child::after {align-self: flex-end;width: 50%;}#sk-container-id-2 div.sk-parallel-item:last-child::after {align-self: flex-start;width: 50%;}#sk-container-id-2 div.sk-parallel-item:only-child::after {width: 0;}#sk-container-id-2 div.sk-dashed-wrapped {border: 1px dashed gray;margin: 0 0.4em 0.5em 0.4em;box-sizing: border-box;padding-bottom: 0.4em;background-color: white;}#sk-container-id-2 div.sk-label label {font-family: monospace;font-weight: bold;display: inline-block;line-height: 1.2em;}#sk-container-id-2 div.sk-label-container {text-align: center;}#sk-container-id-2 div.sk-container {/* jupyter's `normalize.less` sets `[hidden] { display: none; }` but bootstrap.min.css set `[hidden] { display: none !important; }` so we also need the `!important` here to be able to override the default hidden behavior on the sphinx rendered scikit-learn.org. See: https://github.com/scikit-learn/scikit-learn/issues/21755 */display: inline-block !important;position: relative;}#sk-container-id-2 div.sk-text-repr-fallback {display: none;}</style><div id=\"sk-container-id-2\" class=\"sk-top-container\"><div class=\"sk-text-repr-fallback\"><pre>AgglomerativeClustering(linkage=&#x27;average&#x27;, metric=&#x27;euclidean&#x27;, n_clusters=3)</pre><b>In a Jupyter environment, please rerun this cell to show the HTML representation or trust the notebook. <br />On GitHub, the HTML representation is unable to render, please try loading this page with nbviewer.org.</b></div><div class=\"sk-container\" hidden><div class=\"sk-item\"><div class=\"sk-estimator sk-toggleable\"><input class=\"sk-toggleable__control sk-hidden--visually\" id=\"sk-estimator-id-2\" type=\"checkbox\" checked><label for=\"sk-estimator-id-2\" class=\"sk-toggleable__label sk-toggleable__label-arrow\">AgglomerativeClustering</label><div class=\"sk-toggleable__content\"><pre>AgglomerativeClustering(linkage=&#x27;average&#x27;, metric=&#x27;euclidean&#x27;, n_clusters=3)</pre></div></div></div></div></div>"
            ]
          },
          "metadata": {},
          "execution_count": 18
        }
      ],
      "source": [
        "# Create model\n",
        "agglomerative3 = AgglomerativeClustering(n_clusters=3, metric='euclidean', linkage='average')\n",
        "\n",
        "# Fit model\n",
        "agglomerative3.fit(X_sepal)"
      ]
    },
    {
      "cell_type": "markdown",
      "id": "b2c16e62-123d-4f90-835d-9946ad7585c9",
      "metadata": {
        "id": "b2c16e62-123d-4f90-835d-9946ad7585c9"
      },
      "source": [
        "As before we can access the labels:"
      ]
    },
    {
      "cell_type": "code",
      "execution_count": 19,
      "id": "d456b085-96d3-4560-a6ee-f624a2e1f26d",
      "metadata": {
        "colab": {
          "base_uri": "https://localhost:8080/"
        },
        "id": "d456b085-96d3-4560-a6ee-f624a2e1f26d",
        "outputId": "8ec5d1d2-433c-41ea-f60f-736abd8ecd9c"
      },
      "outputs": [
        {
          "output_type": "stream",
          "name": "stdout",
          "text": [
            "[0 0 0 0 0 0 0 0 0 0 0 0 0 0 0 0 0 0 0 0 0 0 0 0 0 0 0 0 0 0 0 0 0 0 0 0 0\n",
            " 0 0 0 0 0 0 0 0 0 0 0 0 0 2 2 2 2 2 2 2 0 2 0 0 2 2 2 2 2 2 2 2 2 2 2 2 2\n",
            " 2 2 2 2 2 2 2 2 2 2 2 2 2 2 2 2 2 2 2 0 2 2 2 2 0 2 2 2 1 2 2 1 0 1 2 1 2\n",
            " 2 2 2 2 2 2 1 1 2 2 2 1 2 2 1 2 2 2 1 1 1 2 2 2 1 2 2 2 2 2 2 2 2 2 2 2 2\n",
            " 2 2]\n"
          ]
        }
      ],
      "source": [
        "print(agglomerative3.labels_)"
      ]
    },
    {
      "cell_type": "markdown",
      "id": "2fb8e770-6528-423b-9a41-b5ab968882fd",
      "metadata": {
        "id": "2fb8e770-6528-423b-9a41-b5ab968882fd"
      },
      "source": [
        "Let's plot our clusters to visually compare our results to the K-Means algorithm:"
      ]
    },
    {
      "cell_type": "code",
      "execution_count": 20,
      "id": "d655c8ab-c1a9-4cfb-a15a-63ab0a4b68df",
      "metadata": {
        "colab": {
          "base_uri": "https://localhost:8080/",
          "height": 407
        },
        "id": "d655c8ab-c1a9-4cfb-a15a-63ab0a4b68df",
        "outputId": "4a61ae78-fee9-4d39-8d68-2d9fb4cdbd3c"
      },
      "outputs": [
        {
          "output_type": "display_data",
          "data": {
            "text/plain": [
              "<Figure size 1400x400 with 3 Axes>"
            ],
            "image/png": "[encoded data removed]"
          },
          "metadata": {}
        }
      ],
      "source": [
        "fig, ax = plt.subplots(1, 3, figsize=(14, 4))\n",
        "\n",
        "# Scatter plot, raw data with original labels\n",
        "ax[0].scatter(X_sepal[\"sepal length (cm)\"], # x-axis\n",
        "              X_sepal[\"sepal width (cm)\"],  # y-axis\n",
        "              c=y['Flower_type'],           # points colored by the different flower types\n",
        "              cmap='tab10')                 # choice of colors\n",
        "ax[0].set_xlabel(\"Sepal length (cm)\")       # label x-axis\n",
        "ax[0].set_ylabel(\"Sepal width (cm)\")        # label y-axis\n",
        "ax[0].set_title(\"Raw data with the original labels\")  # title\n",
        "\n",
        "# Scatter plot of clusters, KMeans Model with 3 Clusters\n",
        "ax[1].scatter(X_sepal[\"sepal length (cm)\"],\n",
        "              X_sepal[\"sepal width (cm)\"],\n",
        "              c=kmeans3.labels_,              # points colored by the labels created by the model\n",
        "              cmap='tab10')\n",
        "ax[1].scatter(kmeans3.cluster_centers_[:, 0],  # x-coordinates of cluster centroids\n",
        "              kmeans3.cluster_centers_[:, 1],  # y-coordinates of cluster centroids\n",
        "              c=\"red\",                        # color of centroids\n",
        "              marker='x')                     # marker of centroids\n",
        "ax[1].set_xlabel(\"Sepal length (cm)\")\n",
        "ax[1].set_ylabel(\"Sepal width (cm)\")\n",
        "ax[1].set_title(\"KMeans Model with 3 Clusters\")\n",
        "\n",
        "# Scatter plot of clusters, agglomerative clustering with 3 Clusters\n",
        "ax[2].scatter(X_sepal[\"sepal length (cm)\"], X_sepal[\"sepal width (cm)\"], c=agglomerative3.labels_, cmap='tab10')\n",
        "ax[2].set_xlabel(\"Sepal length (cm)\")\n",
        "ax[2].set_ylabel(\"Sepal width (cm)\")\n",
        "ax[2].set_title(\"Agglomerative Model with 3 Clusters\")\n",
        "\n",
        "plt.subplots_adjust(wspace=0.4)   # Space between plots\n",
        "plt.show()"
      ]
    },
    {
      "cell_type": "markdown",
      "id": "796dfbe6-1455-4f03-b2fb-1dd96b8f332b",
      "metadata": {
        "id": "796dfbe6-1455-4f03-b2fb-1dd96b8f332b"
      },
      "source": [
        "#### Dendrogram visualization\n",
        "\n",
        "In this section, we're going to present a way to create a **Dendrogram**, using the `scipy.cluster.hierarchy` library ([Documentation](https://docs.scipy.org/doc/scipy/reference/cluster.hierarchy.html)). We're going to use:\n",
        "- `dendogram`: to plot the dendogram ([Documentation](https://docs.scipy.org/doc/scipy/reference/generated/scipy.cluster.hierarchy.dendrogram.html#scipy.cluster.hierarchy.dendrogram))\n",
        "- `linkage`: to specify the type of linkage between the clusters ([Documentation](https://docs.scipy.org/doc/scipy/reference/generated/scipy.cluster.hierarchy.linkage.html#scipy.cluster.hierarchy.linkage))\n",
        "\n",
        "In `linkage`, we can specify the `metric` (e.g., 'euclidean') and the `method` (e.g., 'single', 'complete', 'average', or 'ward' - see the documentation for more details)."
      ]
    },
    {
      "cell_type": "code",
      "execution_count": 21,
      "id": "bf7eac57-543e-4a92-a757-50315385b3a4",
      "metadata": {
        "colab": {
          "base_uri": "https://localhost:8080/",
          "height": 368
        },
        "id": "bf7eac57-543e-4a92-a757-50315385b3a4",
        "outputId": "2f89f9cb-5932-41fc-b643-24ba146e3e7c"
      },
      "outputs": [
        {
          "output_type": "display_data",
          "data": {
            "text/plain": [
              "<Figure size 1600x400 with 1 Axes>"
            ],
            "image/png": "[encoded data removed]"
          },
          "metadata": {}
        }
      ],
      "source": [
        "# Provide the linkage method we want and the chosen distance metric.\n",
        "method_Z = 'average'\n",
        "Z = linkage(X, method = method_Z, metric = 'euclidean')\n",
        "\n",
        "# Single linkage\n",
        "plt.figure(figsize=(16, 4))\n",
        "dendrogram(Z) # Plot the dendogram according the linkage\n",
        "plt.title('Dendrogram - '+method_Z, fontsize=14)\n",
        "plt.xlabel('Index of observations', fontsize=14)\n",
        "plt.ylabel('Distance', fontsize=14)\n",
        "plt.show()"
      ]
    },
    {
      "cell_type": "markdown",
      "id": "a0a048b4-03b9-4050-b2f6-76bacf7b2324",
      "metadata": {
        "id": "a0a048b4-03b9-4050-b2f6-76bacf7b2324"
      },
      "source": [
        "Feel free to try different methods and visualize the difference!"
      ]
    },
    {
      "cell_type": "markdown",
      "id": "dae992fd-baaf-41e8-abb1-e1b978f1c244",
      "metadata": {
        "id": "dae992fd-baaf-41e8-abb1-e1b978f1c244"
      },
      "source": [
        "### Runtime complexity"
      ]
    },
    {
      "cell_type": "markdown",
      "id": "b707bbdb-dbc6-446d-a35f-a30aee5e4a05",
      "metadata": {
        "id": "b707bbdb-dbc6-446d-a35f-a30aee5e4a05"
      },
      "source": [
        "Let's compare the computation time needed between K-means and hierarchical clustering for different numbers of points. To do so, we are using the `time` library ([Documentation](https://docs.python.org/3/library/time.html)).\n",
        "\n",
        "We'll start by creating clusters of points. We are using `make_blobs` to generate our dataset ([Documentation](https://scikit-learn.org/stable/modules/generated/sklearn.datasets.make_blobs.html#sklearn.datasets.make_blobs)), and will first define a function with input the number of data points and output the generated samples (X) and associated labels (y):"
      ]
    },
    {
      "cell_type": "code",
      "execution_count": 22,
      "id": "41891f56-f8c0-48cb-8fe2-157a48dc3a70",
      "metadata": {
        "colab": {
          "base_uri": "https://localhost:8080/",
          "height": 237
        },
        "id": "41891f56-f8c0-48cb-8fe2-157a48dc3a70",
        "outputId": "7b35f27f-24ef-4470-f40e-73bf77037228"
      },
      "outputs": [
        {
          "output_type": "display_data",
          "data": {
            "text/plain": [
              "<Figure size 400x200 with 1 Axes>"
            ],
            "image/png": "[encoded data removed]"
          },
          "metadata": {}
        }
      ],
      "source": [
        "# We create a function that generates 3 clusters\n",
        "def generate_three_clusters(num_points):\n",
        "    centers = [(-15, -15), (0, 0), (15, 15)]\n",
        "    cluster_std = [2, 3, 2]\n",
        "    X, y = datasets.make_blobs(n_samples=num_points, cluster_std=cluster_std, centers=centers, n_features=3, random_state=1)\n",
        "    return X, y\n",
        "\n",
        "# Example with 100 points\n",
        "X, y = generate_three_clusters(100)\n",
        "# Plot clusters\n",
        "plt.figure(figsize=(4,2))\n",
        "plt.scatter(X[y == 0, 0], X[y == 0, 1], color=\"red\", s=10)\n",
        "plt.scatter(X[y == 1, 0], X[y == 1, 1], color=\"blue\", s=10)\n",
        "plt.scatter(X[y == 2, 0], X[y == 2, 1], color=\"green\", s=10)\n",
        "plt.title('Number of points: 100')\n",
        "plt.show()"
      ]
    },
    {
      "cell_type": "markdown",
      "id": "2253bfcb-a4ff-4b7b-a2fc-ccde1baa4062",
      "metadata": {
        "id": "2253bfcb-a4ff-4b7b-a2fc-ccde1baa4062"
      },
      "source": [
        "Next we generate 3 clusters using the above-defined function for n = 100, 1000, 2500, 5000, 7500, 10000, 25000 points, storing the result in a list:"
      ]
    },
    {
      "cell_type": "code",
      "execution_count": 23,
      "id": "048ce0bb-083a-492d-b430-6fb71b8350e6",
      "metadata": {
        "id": "048ce0bb-083a-492d-b430-6fb71b8350e6"
      },
      "outputs": [],
      "source": [
        "# Define list\n",
        "X_list = []\n",
        "# Define numbers of points\n",
        "num_points = [100, 1000, 2500, 5000, 7500, 10000, 25000]\n",
        "\n",
        "for n in num_points:\n",
        "    X, y = generate_three_clusters(n)  # Generate three clusters\n",
        "    X_list.append(X)                   # Append X to X_list"
      ]
    },
    {
      "cell_type": "markdown",
      "id": "0a6ffa68-4eb4-4c0e-98e9-22bd6b19d8f1",
      "metadata": {
        "id": "0a6ffa68-4eb4-4c0e-98e9-22bd6b19d8f1"
      },
      "source": [
        "The first item of our list contains 100 points, the second 1000 points, etc."
      ]
    },
    {
      "cell_type": "code",
      "execution_count": 24,
      "id": "c753364d-8354-4c61-bf5b-df46438f8ed7",
      "metadata": {
        "colab": {
          "base_uri": "https://localhost:8080/"
        },
        "id": "c753364d-8354-4c61-bf5b-df46438f8ed7",
        "outputId": "2c20b24c-94f1-4639-90be-05a99d351446"
      },
      "outputs": [
        {
          "output_type": "stream",
          "name": "stdout",
          "text": [
            "(1000, 2)\n"
          ]
        }
      ],
      "source": [
        "print(X_list[1].shape)"
      ]
    },
    {
      "cell_type": "markdown",
      "id": "a9dee343-2f4a-4f0a-ad3d-b38d36d2f9fa",
      "metadata": {
        "id": "a9dee343-2f4a-4f0a-ad3d-b38d36d2f9fa"
      },
      "source": [
        "Now we create K-Means and hierarchical clustering models (with 3 clusters), and train the algorithm on the dataset generated above. We store the execution time in two lists, one for K-Means, the other for hierarchical clustering:  "
      ]
    },
    {
      "cell_type": "code",
      "execution_count": 25,
      "id": "166b9973-62f7-4d4c-ab18-6dbd0753d1bb",
      "metadata": {
        "id": "166b9973-62f7-4d4c-ab18-6dbd0753d1bb"
      },
      "outputs": [],
      "source": [
        "# Record time in list\n",
        "k_means_time = []\n",
        "hc_time = []\n",
        "\n",
        "for X in X_list:\n",
        "    # K-Means\n",
        "    model = KMeans(n_clusters=3, n_init='auto')    # Create instance of KMeans class (with 3 clusters)\n",
        "    start = time.time()                            # Start recording time\n",
        "    model.fit(X)                                   # Fit the model on X\n",
        "    end = time.time()                              # End recording time\n",
        "    k_means_time.append(end-start)                 # Store the execution time in k_means_time\n",
        "    # Hierarchical clustering\n",
        "    model = AgglomerativeClustering(n_clusters=3)  # Create instance of AgglomerativeClustering class (3 clusters)\n",
        "    start = time.time()\n",
        "    model.fit(X)\n",
        "    end = time.time()\n",
        "    hc_time.append(end-start)"
      ]
    },
    {
      "cell_type": "markdown",
      "id": "ba31af6c-11f9-4af5-ad74-6d85aa1e1492",
      "metadata": {
        "id": "ba31af6c-11f9-4af5-ad74-6d85aa1e1492"
      },
      "source": [
        "Let's plot the result!"
      ]
    },
    {
      "cell_type": "code",
      "execution_count": 26,
      "id": "870e312c-3ef9-4647-a2a3-e0bc65398fa5",
      "metadata": {
        "colab": {
          "base_uri": "https://localhost:8080/",
          "height": 388
        },
        "id": "870e312c-3ef9-4647-a2a3-e0bc65398fa5",
        "outputId": "c7005551-ff23-42ba-d4c4-05074617c8a6"
      },
      "outputs": [
        {
          "output_type": "display_data",
          "data": {
            "text/plain": [
              "<Figure size 600x400 with 1 Axes>"
            ],
            "image/png": "[encoded data removed]"
          },
          "metadata": {}
        }
      ],
      "source": [
        "plt.figure(figsize=(6,4))\n",
        "plt.scatter(num_points, k_means_time, label='K-Means')\n",
        "plt.scatter(num_points, hc_time, label='Hierarchical clustering')\n",
        "plt.ylabel('Execution time')\n",
        "plt.xlabel('Number of observations')\n",
        "plt.legend()\n",
        "plt.show()"
      ]
    },
    {
      "cell_type": "markdown",
      "id": "ac8bfaa9-e4eb-4f1e-8752-2edb0f4b5cef",
      "metadata": {
        "id": "ac8bfaa9-e4eb-4f1e-8752-2edb0f4b5cef"
      },
      "source": [
        "## Your turn!\n",
        "\n",
        "You will have to implement clustering, association rules, and recommender systems algorithms, applying these methods to:\n",
        "- explore the similarities within groups of people watching movies (clustering analysis) - this week.\n",
        "- discover the relations between movies genre (association rules) - next week.\n",
        "- recommend movies to users (recommender system) - next week.\n",
        "\n",
        "We will use the MovieLens dataset, which contains movie ratings collected from the MovieLens website by the [GroupLens](https://grouplens.org/) research lab.\n",
        "\n",
        "Source: F. Maxwell Harper and Joseph A. Konstan. 2015. The MovieLens Datasets: History and Context. *ACM Transactions on Interactive Intelligent Systems (TiiS)* 5, 4: 19:1–19:19. <https://doi.org/10.1145/2827872>"
      ]
    },
    {
      "cell_type": "code",
      "execution_count": 27,
      "id": "25aa03ff-8611-44d5-a15b-c26850ef5181",
      "metadata": {
        "colab": {
          "base_uri": "https://localhost:8080/"
        },
        "id": "25aa03ff-8611-44d5-a15b-c26850ef5181",
        "outputId": "e7226a67-4be9-46df-fa05-61ea236cb93a"
      },
      "outputs": [
        {
          "output_type": "stream",
          "name": "stdout",
          "text": [
            "Collecting surprise\n",
            "  Downloading surprise-0.1-py2.py3-none-any.whl (1.8 kB)\n",
            "Collecting scikit-surprise (from surprise)\n",
            "  Downloading scikit-surprise-1.1.3.tar.gz (771 kB)\n",
            "\u001b[2K     \u001b[90m━━━━━━━━━━━━━━━━━━━━━━━━━━━━━━━━━━━━━━━━\u001b[0m \u001b[32m772.0/772.0 kB\u001b[0m \u001b[31m10.0 MB/s\u001b[0m eta \u001b[36m0:00:00\u001b[0m\n",
            "\u001b[?25h  Preparing metadata (setup.py) ... \u001b[?25l\u001b[?25hdone\n",
            "Requirement already satisfied: joblib>=1.0.0 in /usr/local/lib/python3.10/dist-packages (from scikit-surprise->surprise) (1.4.0)\n",
            "Requirement already satisfied: numpy>=1.17.3 in /usr/local/lib/python3.10/dist-packages (from scikit-surprise->surprise) (1.25.2)\n",
            "Requirement already satisfied: scipy>=1.3.2 in /usr/local/lib/python3.10/dist-packages (from scikit-surprise->surprise) (1.11.4)\n",
            "Building wheels for collected packages: scikit-surprise\n",
            "  Building wheel for scikit-surprise (setup.py) ... \u001b[?25l\u001b[?25hdone\n",
            "  Created wheel for scikit-surprise: filename=scikit_surprise-1.1.3-cp310-cp310-linux_x86_64.whl size=3163003 sha256=d74aace3ac8898830d20736e0112c623d6337d7c41329bfbc178fc395dd6119a\n",
            "  Stored in directory: /root/.cache/pip/wheels/a5/ca/a8/4e28def53797fdc4363ca4af740db15a9c2f1595ebc51fb445\n",
            "Successfully built scikit-surprise\n",
            "Installing collected packages: scikit-surprise, surprise\n",
            "Successfully installed scikit-surprise-1.1.3 surprise-0.1\n"
          ]
        }
      ],
      "source": [
        "# Import libraries\n",
        "import os\n",
        "os.environ[\"OMP_NUM_THREADS\"] = '1'\n",
        "import pandas as pd\n",
        "import io\n",
        "import re\n",
        "import numpy as np\n",
        "import seaborn as sns\n",
        "import matplotlib.pyplot as plt\n",
        "%matplotlib inline\n",
        "import time\n",
        "import ipywidgets as widgets\n",
        "from ipywidgets import interact, interact_manual\n",
        "from collections import defaultdict\n",
        "\n",
        "# ML import\n",
        "from sklearn import datasets\n",
        "from sklearn.cluster import KMeans\n",
        "from sklearn.cluster import AgglomerativeClustering\n",
        "from scipy.cluster.hierarchy import dendrogram, linkage\n",
        "import scipy.cluster.hierarchy as shc\n",
        "from mlxtend.preprocessing import TransactionEncoder\n",
        "from mlxtend.frequent_patterns import apriori, association_rules\n",
        "\n",
        "from IPython.display import Image, display, HTML\n",
        "\n",
        "! pip install surprise\n",
        "# Import from surprise library\n",
        "from surprise import Dataset\n",
        "from surprise import get_dataset_dir\n",
        "from surprise import KNNBasic, KNNWithMeans, SVD\n",
        "from surprise.model_selection import train_test_split\n",
        "from surprise.model_selection import cross_validate, GridSearchCV\n",
        "from surprise import Reader, accuracy\n",
        "\n",
        "# Set some formatting options\n",
        "np.set_printoptions(threshold=500, precision=4)\n",
        "pd.options.display.max_seq_items = 20\n",
        "pd.options.display.max_rows = 20"
      ]
    },
    {
      "cell_type": "markdown",
      "source": [
        "Today, you will try to form clusters of individuals based on their preferences regarding movie genres. You will use a transformed version of the MovieLens dataset containing, for a selection of users:\n",
        "- their average rating of all science fiction movies they rated,\n",
        "- their average rating of all comedy movies they rated.\n",
        "\n",
        "Better understanding the differences in people's tastes can help improve the design of recommender systems, for instance for the creation of the user neighborhood. Ok, let's start!"
      ],
      "metadata": {
        "id": "fwIxJ8Yl8qI_"
      },
      "id": "fwIxJ8Yl8qI_"
    },
    {
      "cell_type": "code",
      "source": [
        "url_clustering = 'https://raw.githubusercontent.com/michalis0/MGT-502-Data-Science-and-Machine-Learning/main/data/ratings_clustering.csv'\n",
        "df_movies= pd.read_csv(url_clustering)"
      ],
      "metadata": {
        "colab": {
          "base_uri": "https://localhost:8080/"
        },
        "id": "XVDLAy6e8xfe",
        "outputId": "66abacf7-e2ef-44cd-fd94-166e230233b2"
      },
      "id": "XVDLAy6e8xfe",
      "execution_count": 28,
      "outputs": [
        {
          "output_type": "stream",
          "name": "stderr",
          "text": [
            "/usr/local/lib/python3.10/dist-packages/ipykernel/ipkernel.py:283: DeprecationWarning: `should_run_async` will not call `transform_cell` automatically in the future. Please pass the result to `transformed_cell` argument and any exception that happen during thetransform in `preprocessing_exc_tuple` in IPython 7.17 and above.\n",
            "  and should_run_async(code)\n"
          ]
        }
      ]
    },
    {
      "cell_type": "markdown",
      "id": "6044b3de-b1d1-492c-baad-2322fad5aa06",
      "metadata": {
        "id": "6044b3de-b1d1-492c-baad-2322fad5aa06"
      },
      "source": [
        "- Discover your dataset, looking at summary statistics, and histograms of income and spending score"
      ]
    },
    {
      "cell_type": "code",
      "execution_count": null,
      "id": "2c8ecc78-8162-4719-8e3f-a6b88d5237af",
      "metadata": {
        "id": "2c8ecc78-8162-4719-8e3f-a6b88d5237af"
      },
      "outputs": [],
      "source": [
        "# YOUR CODE HERE\n"
      ]
    },
    {
      "cell_type": "markdown",
      "source": [
        "The first 10 rows reveal the structure of the dataset at hand, which appears to be very simple: the two columns represent the average rating for scifi movies and comedies for many different users. The information is therefore very limited (only average rating on two genres, we have no other data about users' tastes), which can be both a drawback and an advantage for the future analysis.\n",
        "\n",
        "An obvious drawback is that the results might not be as accurate and useful as in case if we had more specific data. For example, average rating of thrillers, animation films, musicals, drama, etc. Or even user-specific information, like age, gender, country of origin and favourite actors.\n",
        "\n",
        "Yet, there are advantages to having to work with only two columns of data. The main advantage is the simplicity of such an analysis. We can easily plot the two-dimentional data (would be harder to visualize and interpret the results if we had ratings for 10 genres), we can identify simple patterns and the computation time will be reduced."
      ],
      "metadata": {
        "id": "VA4sCQTs85GK"
      },
      "id": "VA4sCQTs85GK"
    },
    {
      "cell_type": "markdown",
      "id": "a4ac8490-8610-48d7-8ba7-73c15ae89be7",
      "metadata": {
        "id": "a4ac8490-8610-48d7-8ba7-73c15ae89be7"
      },
      "source": [
        "*   Plot a dendogram using \"ward\" as linkage method and \"euclidean\" as\n",
        "metric.\n",
        "*   Based on the dendogram, how many clusters do you think is optimal? Briefly justify your answer."
      ]
    },
    {
      "cell_type": "code",
      "execution_count": null,
      "id": "9682e587-58d0-4b1e-bb9e-dba89ba046f6",
      "metadata": {
        "id": "9682e587-58d0-4b1e-bb9e-dba89ba046f6"
      },
      "outputs": [],
      "source": [
        "# YOUR CODE HERE\n"
      ]
    },
    {
      "cell_type": "markdown",
      "source": [
        "The dendrogram above serves as an illustration of hierarchical relationships between data elements and sets of data within the given sample. It can be observed that the dendogram gets more and more complex as it descends, meaning that larger clusters are being split into smaller ones.\n",
        "\n",
        "If we draw a line in the upper part of the dendrogram, we will obtain fewer clusters with more general characteristics dividing elements into them. Conversely, if we draw a line in the lower part of the dendrogram, we will obtain more clusters defined by more detailed and elaborate sets of characteristics.\n",
        "\n",
        "There is no sure-fire way to identify the best number of clusters. A rule of thumb is that too many is bad because it can lead to overfitting, and too few is bad because such division would not be useful and informative enough. Therefore, I would draw a line right before different colors emerge on the dendrogram, namely, at the height 4.5."
      ],
      "metadata": {
        "id": "BVqYEFH49HAn"
      },
      "id": "BVqYEFH49HAn"
    },
    {
      "cell_type": "code",
      "execution_count": null,
      "id": "650bea1a-2719-4eb7-8102-cbe58746d2d5",
      "metadata": {
        "id": "650bea1a-2719-4eb7-8102-cbe58746d2d5"
      },
      "outputs": [],
      "source": [
        "# YOUR CODE HERE\n"
      ]
    },
    {
      "cell_type": "markdown",
      "id": "0cc10823-d8a7-4a3f-8bf8-576bc522e2b5",
      "metadata": {
        "id": "0cc10823-d8a7-4a3f-8bf8-576bc522e2b5"
      },
      "source": [
        "*   Implement the Elbow method to determine the optimum number of cluster for K-Means algorithm (use random_state=17 as parameter of K-Means).\n",
        "*   Based on the Elbow method, how many clusters do you think is optimal? Briefly justify your answer."
      ]
    },
    {
      "cell_type": "code",
      "execution_count": null,
      "id": "4e908a8b-29e1-4200-b185-b693b325f47b",
      "metadata": {
        "id": "4e908a8b-29e1-4200-b185-b693b325f47b"
      },
      "outputs": [],
      "source": [
        "# YOUR CODE HERE\n"
      ]
    },
    {
      "cell_type": "markdown",
      "id": "5e4250fe-f150-4633-9672-e1edf644aaab",
      "metadata": {
        "id": "5e4250fe-f150-4633-9672-e1edf644aaab"
      },
      "source": [
        "*    Implement (train) a K-Means algorithm with the number of clusters of your choice. Use random_state=17 as parameter."
      ]
    },
    {
      "cell_type": "code",
      "execution_count": null,
      "id": "51f8b4cd-212e-4aee-84b1-e7cc2de2f893",
      "metadata": {
        "id": "51f8b4cd-212e-4aee-84b1-e7cc2de2f893"
      },
      "outputs": [],
      "source": [
        "# YOUR CODE HERE\n"
      ]
    },
    {
      "cell_type": "markdown",
      "id": "48d2b8d0-7c8c-40b7-819b-aeebf2da2601",
      "metadata": {
        "id": "48d2b8d0-7c8c-40b7-819b-aeebf2da2601"
      },
      "source": [
        "*   Display the coordinates of the cluster centers;\n",
        "*   Create a scatter plot to better visualize the results."
      ]
    },
    {
      "cell_type": "code",
      "execution_count": null,
      "id": "b5b034e3-69bb-4548-8278-bf32e7304d21",
      "metadata": {
        "id": "b5b034e3-69bb-4548-8278-bf32e7304d21"
      },
      "outputs": [],
      "source": [
        "# YOUR CODE HERE\n"
      ]
    },
    {
      "cell_type": "markdown",
      "id": "fcbba1e4-524d-447b-add6-ca33fc34ad20",
      "metadata": {
        "id": "fcbba1e4-524d-447b-add6-ca33fc34ad20"
      },
      "source": [
        "*   Implement (train) a hierarchical algorithm with the same number of clusters as for the K-Means model. Use \"ward\" as linkage method and \"euclidean\" as metric/affinity. Print the execution time"
      ]
    },
    {
      "cell_type": "code",
      "execution_count": null,
      "id": "bdbfd29c-df33-44dc-bd4b-fd48f5bd10c3",
      "metadata": {
        "id": "bdbfd29c-df33-44dc-bd4b-fd48f5bd10c3"
      },
      "outputs": [],
      "source": [
        "# YOUR CODE HERE\n"
      ]
    },
    {
      "cell_type": "markdown",
      "id": "9c1b4888-a2a1-4d99-97b5-1a8c6a994c3b",
      "metadata": {
        "id": "9c1b4888-a2a1-4d99-97b5-1a8c6a994c3b"
      },
      "source": [
        "- Create a figure consisting of two subplots:\n",
        "    - a scatterplot of 'avg_scifi_rating' and 'avg_comedy_rating' colored by the clusters predicted with your KMeans model. Add the cluster centers to your plot. Label your clusters with the name of your choice (e.g., \"Comedy aficionado\").\n",
        "    - a scatterplot of 'avg_scifi_rating' and 'avg_comedy_rating' colored by the clusters predicted with your hierarchical algorithm model. Label your clusters with the name of your choice.\n",
        "- How do your models compare?"
      ]
    },
    {
      "cell_type": "code",
      "execution_count": null,
      "id": "57ba0236-14a5-4d3f-b640-25e718d97b3f",
      "metadata": {
        "id": "57ba0236-14a5-4d3f-b640-25e718d97b3f"
      },
      "outputs": [],
      "source": [
        "# YOUR CODE HERE\n"
      ]
    }
  ],
  "metadata": {
    "kernelspec": {
      "display_name": "Python 3 (ipykernel)",
      "language": "python",
      "name": "python3"
    },
    "language_info": {
      "codemirror_mode": {
        "name": "ipython",
        "version": 3
      },
      "file_extension": ".py",
      "mimetype": "text/x-python",
      "name": "python",
      "nbconvert_exporter": "python",
      "pygments_lexer": "ipython3",
      "version": "3.9.4"
    },
    "colab": {
      "provenance": [],
      "include_colab_link": true
    }
  },
  "nbformat": 4,
  "nbformat_minor": 5
}